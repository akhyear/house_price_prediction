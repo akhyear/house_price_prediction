{
 "cells": [
  {
   "cell_type": "code",
   "execution_count": 1,
   "id": "11a2b574",
   "metadata": {},
   "outputs": [],
   "source": [
    "import pandas as pd\n",
    "import seaborn as sns\n",
    "import matplotlib.pyplot as plt"
   ]
  },
  {
   "cell_type": "code",
   "execution_count": 2,
   "id": "add3115c",
   "metadata": {},
   "outputs": [],
   "source": [
    "X_train = pd.read_csv(\"../data/interim/train_selected.csv\")"
   ]
  },
  {
   "cell_type": "code",
   "execution_count": 3,
   "id": "7ab47e9b",
   "metadata": {},
   "outputs": [],
   "source": [
    "X_test = pd.read_csv(\"../data/interim/test_selected.csv\")"
   ]
  },
  {
   "cell_type": "code",
   "execution_count": 4,
   "id": "dfcf7e1b",
   "metadata": {},
   "outputs": [],
   "source": [
    "y_train = pd.read_csv(\"../data/interim/y_train.csv\")\n",
    "y_test = pd.read_csv(\"../data/interim/y_test.csv\")"
   ]
  },
  {
   "cell_type": "code",
   "execution_count": 5,
   "id": "9d8bfb09",
   "metadata": {},
   "outputs": [
    {
     "data": {
      "application/vnd.microsoft.datawrangler.viewer.v0+json": {
       "columns": [
        {
         "name": "index",
         "rawType": "int64",
         "type": "integer"
        },
        {
         "name": "OverallQual",
         "rawType": "int64",
         "type": "integer"
        },
        {
         "name": "GrLivArea_capped",
         "rawType": "float64",
         "type": "float"
        },
        {
         "name": "GarageCars",
         "rawType": "int64",
         "type": "integer"
        },
        {
         "name": "TotalBsmtSF_capped",
         "rawType": "float64",
         "type": "float"
        },
        {
         "name": "GarageArea_capped",
         "rawType": "float64",
         "type": "float"
        },
        {
         "name": "1stFlrSF_capped",
         "rawType": "float64",
         "type": "float"
        },
        {
         "name": "FullBath",
         "rawType": "int64",
         "type": "integer"
        },
        {
         "name": "TotRmsAbvGrd",
         "rawType": "int64",
         "type": "integer"
        },
        {
         "name": "YearBuilt",
         "rawType": "int64",
         "type": "integer"
        },
        {
         "name": "YearRemodAdd",
         "rawType": "int64",
         "type": "integer"
        },
        {
         "name": "MasVnrArea_NoNull",
         "rawType": "float64",
         "type": "float"
        },
        {
         "name": "Fireplaces",
         "rawType": "int64",
         "type": "integer"
        },
        {
         "name": "LotArea_capped",
         "rawType": "float64",
         "type": "float"
        },
        {
         "name": "GarageYrBlt_NoNull",
         "rawType": "float64",
         "type": "float"
        },
        {
         "name": "LotFrontage_capped",
         "rawType": "float64",
         "type": "float"
        },
        {
         "name": "BsmtFinSF1",
         "rawType": "int64",
         "type": "integer"
        },
        {
         "name": "WoodDeckSF",
         "rawType": "int64",
         "type": "integer"
        },
        {
         "name": "2ndFlrSF",
         "rawType": "int64",
         "type": "integer"
        },
        {
         "name": "OpenPorchSF",
         "rawType": "int64",
         "type": "integer"
        },
        {
         "name": "HalfBath",
         "rawType": "int64",
         "type": "integer"
        },
        {
         "name": "BsmtFullBath",
         "rawType": "int64",
         "type": "integer"
        },
        {
         "name": "BsmtUnfSF",
         "rawType": "int64",
         "type": "integer"
        },
        {
         "name": "BedroomAbvGr",
         "rawType": "int64",
         "type": "integer"
        },
        {
         "name": "EnclosedPorch",
         "rawType": "int64",
         "type": "integer"
        },
        {
         "name": "KitchenAbvGr",
         "rawType": "int64",
         "type": "integer"
        },
        {
         "name": "ScreenPorch",
         "rawType": "int64",
         "type": "integer"
        },
        {
         "name": "MSSubClass",
         "rawType": "int64",
         "type": "integer"
        },
        {
         "name": "OverallCond",
         "rawType": "int64",
         "type": "integer"
        },
        {
         "name": "MSZoning",
         "rawType": "object",
         "type": "string"
        },
        {
         "name": "Street",
         "rawType": "object",
         "type": "string"
        },
        {
         "name": "LotShape",
         "rawType": "object",
         "type": "string"
        },
        {
         "name": "LandSlope",
         "rawType": "object",
         "type": "string"
        },
        {
         "name": "Neighborhood",
         "rawType": "object",
         "type": "string"
        },
        {
         "name": "HouseStyle",
         "rawType": "object",
         "type": "string"
        },
        {
         "name": "ExterQual",
         "rawType": "object",
         "type": "string"
        },
        {
         "name": "Foundation",
         "rawType": "object",
         "type": "string"
        },
        {
         "name": "BsmtQual",
         "rawType": "object",
         "type": "string"
        },
        {
         "name": "BsmtExposure",
         "rawType": "object",
         "type": "string"
        },
        {
         "name": "BsmtFinType1",
         "rawType": "object",
         "type": "string"
        },
        {
         "name": "Heating",
         "rawType": "object",
         "type": "string"
        },
        {
         "name": "HeatingQC",
         "rawType": "object",
         "type": "string"
        },
        {
         "name": "CentralAir",
         "rawType": "object",
         "type": "string"
        },
        {
         "name": "KitchenQual",
         "rawType": "object",
         "type": "string"
        },
        {
         "name": "FireplaceQu",
         "rawType": "object",
         "type": "unknown"
        },
        {
         "name": "GarageFinish",
         "rawType": "object",
         "type": "string"
        },
        {
         "name": "GarageType_NoNull",
         "rawType": "object",
         "type": "unknown"
        }
       ],
       "ref": "dbe3c341-562a-4ea6-8272-77a106ee91e1",
       "rows": [
        [
         "0",
         "5",
         "1314.0",
         "1",
         "1314.0",
         "294.0",
         "1314.0",
         "1",
         "5",
         "1957",
         "1957",
         "0.0",
         "0",
         "8400.0",
         "1957.0",
         "70.0",
         "922",
         "250",
         "0",
         "0",
         "0",
         "1",
         "392",
         "3",
         "0",
         "1",
         "0",
         "20",
         "6",
         "RL",
         "Pave",
         "Reg",
         "Gtl",
         "NAmes",
         "1Story",
         "TA",
         "CBlock",
         "TA",
         "No",
         "TA",
         "GasA",
         "TA",
         "Y",
         "TA",
         null,
         "RFn",
         "Attchd"
        ],
        [
         "1",
         "6",
         "1571.0",
         "2",
         "799.0",
         "380.0",
         "799.0",
         "2",
         "7",
         "1993",
         "1994",
         "0.0",
         "1",
         "7837.0",
         "1993.0",
         "59.0",
         "0",
         "0",
         "772",
         "40",
         "1",
         "0",
         "799",
         "3",
         "0",
         "1",
         "0",
         "60",
         "7",
         "RL",
         "Pave",
         "IR1",
         "Gtl",
         "Gilbert",
         "2Story",
         "Gd",
         "PConc",
         "Gd",
         "No",
         "Gd",
         "GasA",
         "Gd",
         "Y",
         "TA",
         "TA",
         "RFn",
         "Attchd"
        ],
        [
         "2",
         "5",
         "796.0",
         "0",
         "796.0",
         "0.0",
         "796.0",
         "1",
         "4",
         "1910",
         "1950",
         "0.0",
         "0",
         "8777.0",
         "2005.0",
         "67.0",
         "0",
         "328",
         "0",
         "0",
         "0",
         "0",
         "796",
         "2",
         "164",
         "1",
         "0",
         "30",
         "7",
         "RL",
         "Pave",
         "Reg",
         "Gtl",
         "Edwards",
         "1Story",
         "TA",
         "CBlock",
         "Fa",
         "No",
         "Fa",
         "GasA",
         "Gd",
         "Y",
         "TA",
         null,
         "NoGarage",
         null
        ],
        [
         "3",
         "5",
         "1768.0",
         "1",
         "731.0",
         "240.0",
         "981.0",
         "1",
         "7",
         "1937",
         "1950",
         "252.0",
         "2",
         "7200.0",
         "1939.0",
         "60.0",
         "569",
         "0",
         "787",
         "0",
         "1",
         "1",
         "162",
         "3",
         "264",
         "1",
         "0",
         "50",
         "7",
         "RL",
         "Pave",
         "Reg",
         "Gtl",
         "SWISU",
         "1.5Fin",
         "TA",
         "BrkTil",
         "Gd",
         "No",
         "Gd",
         "GasA",
         "Ex",
         "Y",
         "Gd",
         "TA",
         "Unf",
         "Detchd"
        ],
        [
         "4",
         "5",
         "1691.0",
         "1",
         "1026.0",
         "308.0",
         "1026.0",
         "2",
         "6",
         "1924",
         "1950",
         "0.0",
         "1",
         "5000.0",
         "1924.0",
         "50.0",
         "218",
         "0",
         "665",
         "0",
         "0",
         "0",
         "808",
         "3",
         "242",
         "1",
         "0",
         "50",
         "6",
         "RL",
         "Pave",
         "Reg",
         "Gtl",
         "SWISU",
         "1.5Fin",
         "TA",
         "BrkTil",
         "TA",
         "No",
         "TA",
         "GasA",
         "TA",
         "Y",
         "Gd",
         "Gd",
         "Unf",
         "Detchd"
        ]
       ],
       "shape": {
        "columns": 46,
        "rows": 5
       }
      },
      "text/html": [
       "<div>\n",
       "<style scoped>\n",
       "    .dataframe tbody tr th:only-of-type {\n",
       "        vertical-align: middle;\n",
       "    }\n",
       "\n",
       "    .dataframe tbody tr th {\n",
       "        vertical-align: top;\n",
       "    }\n",
       "\n",
       "    .dataframe thead th {\n",
       "        text-align: right;\n",
       "    }\n",
       "</style>\n",
       "<table border=\"1\" class=\"dataframe\">\n",
       "  <thead>\n",
       "    <tr style=\"text-align: right;\">\n",
       "      <th></th>\n",
       "      <th>OverallQual</th>\n",
       "      <th>GrLivArea_capped</th>\n",
       "      <th>GarageCars</th>\n",
       "      <th>TotalBsmtSF_capped</th>\n",
       "      <th>GarageArea_capped</th>\n",
       "      <th>1stFlrSF_capped</th>\n",
       "      <th>FullBath</th>\n",
       "      <th>TotRmsAbvGrd</th>\n",
       "      <th>YearBuilt</th>\n",
       "      <th>YearRemodAdd</th>\n",
       "      <th>...</th>\n",
       "      <th>BsmtQual</th>\n",
       "      <th>BsmtExposure</th>\n",
       "      <th>BsmtFinType1</th>\n",
       "      <th>Heating</th>\n",
       "      <th>HeatingQC</th>\n",
       "      <th>CentralAir</th>\n",
       "      <th>KitchenQual</th>\n",
       "      <th>FireplaceQu</th>\n",
       "      <th>GarageFinish</th>\n",
       "      <th>GarageType_NoNull</th>\n",
       "    </tr>\n",
       "  </thead>\n",
       "  <tbody>\n",
       "    <tr>\n",
       "      <th>0</th>\n",
       "      <td>5</td>\n",
       "      <td>1314.0</td>\n",
       "      <td>1</td>\n",
       "      <td>1314.0</td>\n",
       "      <td>294.0</td>\n",
       "      <td>1314.0</td>\n",
       "      <td>1</td>\n",
       "      <td>5</td>\n",
       "      <td>1957</td>\n",
       "      <td>1957</td>\n",
       "      <td>...</td>\n",
       "      <td>TA</td>\n",
       "      <td>No</td>\n",
       "      <td>TA</td>\n",
       "      <td>GasA</td>\n",
       "      <td>TA</td>\n",
       "      <td>Y</td>\n",
       "      <td>TA</td>\n",
       "      <td>NaN</td>\n",
       "      <td>RFn</td>\n",
       "      <td>Attchd</td>\n",
       "    </tr>\n",
       "    <tr>\n",
       "      <th>1</th>\n",
       "      <td>6</td>\n",
       "      <td>1571.0</td>\n",
       "      <td>2</td>\n",
       "      <td>799.0</td>\n",
       "      <td>380.0</td>\n",
       "      <td>799.0</td>\n",
       "      <td>2</td>\n",
       "      <td>7</td>\n",
       "      <td>1993</td>\n",
       "      <td>1994</td>\n",
       "      <td>...</td>\n",
       "      <td>Gd</td>\n",
       "      <td>No</td>\n",
       "      <td>Gd</td>\n",
       "      <td>GasA</td>\n",
       "      <td>Gd</td>\n",
       "      <td>Y</td>\n",
       "      <td>TA</td>\n",
       "      <td>TA</td>\n",
       "      <td>RFn</td>\n",
       "      <td>Attchd</td>\n",
       "    </tr>\n",
       "    <tr>\n",
       "      <th>2</th>\n",
       "      <td>5</td>\n",
       "      <td>796.0</td>\n",
       "      <td>0</td>\n",
       "      <td>796.0</td>\n",
       "      <td>0.0</td>\n",
       "      <td>796.0</td>\n",
       "      <td>1</td>\n",
       "      <td>4</td>\n",
       "      <td>1910</td>\n",
       "      <td>1950</td>\n",
       "      <td>...</td>\n",
       "      <td>Fa</td>\n",
       "      <td>No</td>\n",
       "      <td>Fa</td>\n",
       "      <td>GasA</td>\n",
       "      <td>Gd</td>\n",
       "      <td>Y</td>\n",
       "      <td>TA</td>\n",
       "      <td>NaN</td>\n",
       "      <td>NoGarage</td>\n",
       "      <td>NaN</td>\n",
       "    </tr>\n",
       "    <tr>\n",
       "      <th>3</th>\n",
       "      <td>5</td>\n",
       "      <td>1768.0</td>\n",
       "      <td>1</td>\n",
       "      <td>731.0</td>\n",
       "      <td>240.0</td>\n",
       "      <td>981.0</td>\n",
       "      <td>1</td>\n",
       "      <td>7</td>\n",
       "      <td>1937</td>\n",
       "      <td>1950</td>\n",
       "      <td>...</td>\n",
       "      <td>Gd</td>\n",
       "      <td>No</td>\n",
       "      <td>Gd</td>\n",
       "      <td>GasA</td>\n",
       "      <td>Ex</td>\n",
       "      <td>Y</td>\n",
       "      <td>Gd</td>\n",
       "      <td>TA</td>\n",
       "      <td>Unf</td>\n",
       "      <td>Detchd</td>\n",
       "    </tr>\n",
       "    <tr>\n",
       "      <th>4</th>\n",
       "      <td>5</td>\n",
       "      <td>1691.0</td>\n",
       "      <td>1</td>\n",
       "      <td>1026.0</td>\n",
       "      <td>308.0</td>\n",
       "      <td>1026.0</td>\n",
       "      <td>2</td>\n",
       "      <td>6</td>\n",
       "      <td>1924</td>\n",
       "      <td>1950</td>\n",
       "      <td>...</td>\n",
       "      <td>TA</td>\n",
       "      <td>No</td>\n",
       "      <td>TA</td>\n",
       "      <td>GasA</td>\n",
       "      <td>TA</td>\n",
       "      <td>Y</td>\n",
       "      <td>Gd</td>\n",
       "      <td>Gd</td>\n",
       "      <td>Unf</td>\n",
       "      <td>Detchd</td>\n",
       "    </tr>\n",
       "  </tbody>\n",
       "</table>\n",
       "<p>5 rows × 46 columns</p>\n",
       "</div>"
      ],
      "text/plain": [
       "   OverallQual  GrLivArea_capped  GarageCars  TotalBsmtSF_capped  \\\n",
       "0            5            1314.0           1              1314.0   \n",
       "1            6            1571.0           2               799.0   \n",
       "2            5             796.0           0               796.0   \n",
       "3            5            1768.0           1               731.0   \n",
       "4            5            1691.0           1              1026.0   \n",
       "\n",
       "   GarageArea_capped  1stFlrSF_capped  FullBath  TotRmsAbvGrd  YearBuilt  \\\n",
       "0              294.0           1314.0         1             5       1957   \n",
       "1              380.0            799.0         2             7       1993   \n",
       "2                0.0            796.0         1             4       1910   \n",
       "3              240.0            981.0         1             7       1937   \n",
       "4              308.0           1026.0         2             6       1924   \n",
       "\n",
       "   YearRemodAdd  ...  BsmtQual  BsmtExposure  BsmtFinType1  Heating  \\\n",
       "0          1957  ...        TA            No            TA     GasA   \n",
       "1          1994  ...        Gd            No            Gd     GasA   \n",
       "2          1950  ...        Fa            No            Fa     GasA   \n",
       "3          1950  ...        Gd            No            Gd     GasA   \n",
       "4          1950  ...        TA            No            TA     GasA   \n",
       "\n",
       "   HeatingQC  CentralAir  KitchenQual  FireplaceQu  GarageFinish  \\\n",
       "0         TA           Y           TA          NaN           RFn   \n",
       "1         Gd           Y           TA           TA           RFn   \n",
       "2         Gd           Y           TA          NaN      NoGarage   \n",
       "3         Ex           Y           Gd           TA           Unf   \n",
       "4         TA           Y           Gd           Gd           Unf   \n",
       "\n",
       "   GarageType_NoNull  \n",
       "0             Attchd  \n",
       "1             Attchd  \n",
       "2                NaN  \n",
       "3             Detchd  \n",
       "4             Detchd  \n",
       "\n",
       "[5 rows x 46 columns]"
      ]
     },
     "execution_count": 5,
     "metadata": {},
     "output_type": "execute_result"
    }
   ],
   "source": [
    "X_train.head()"
   ]
  },
  {
   "cell_type": "code",
   "execution_count": 6,
   "id": "af3f513f",
   "metadata": {},
   "outputs": [
    {
     "data": {
      "text/plain": [
       "(1168, 46)"
      ]
     },
     "execution_count": 6,
     "metadata": {},
     "output_type": "execute_result"
    }
   ],
   "source": [
    "X_train.shape"
   ]
  },
  {
   "cell_type": "code",
   "execution_count": null,
   "id": "cf8c2594",
   "metadata": {},
   "outputs": [],
   "source": []
  }
 ],
 "metadata": {
  "kernelspec": {
   "display_name": "ds_venv",
   "language": "python",
   "name": "python3"
  },
  "language_info": {
   "codemirror_mode": {
    "name": "ipython",
    "version": 3
   },
   "file_extension": ".py",
   "mimetype": "text/x-python",
   "name": "python",
   "nbconvert_exporter": "python",
   "pygments_lexer": "ipython3",
   "version": "3.13.7"
  }
 },
 "nbformat": 4,
 "nbformat_minor": 5
}

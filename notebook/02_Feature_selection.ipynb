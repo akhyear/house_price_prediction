{
 "cells": [
  {
   "cell_type": "code",
   "execution_count": 11,
   "id": "737cd6d7",
   "metadata": {},
   "outputs": [],
   "source": [
    "import pandas as pd\n",
    "import numpy as np\n",
    "from scipy import stats"
   ]
  },
  {
   "cell_type": "code",
   "execution_count": 3,
   "id": "9f6c2f80",
   "metadata": {},
   "outputs": [],
   "source": [
    "df = pd.read_csv('../data/processed/train_cleaned.csv')"
   ]
  },
  {
   "cell_type": "code",
   "execution_count": 4,
   "id": "b7671674",
   "metadata": {},
   "outputs": [
    {
     "name": "stdout",
     "output_type": "stream",
     "text": [
      "<class 'pandas.core.frame.DataFrame'>\n",
      "RangeIndex: 1460 entries, 0 to 1459\n",
      "Data columns (total 75 columns):\n",
      " #   Column              Non-Null Count  Dtype  \n",
      "---  ------              --------------  -----  \n",
      " 0   Id                  1460 non-null   int64  \n",
      " 1   MSSubClass          1460 non-null   int64  \n",
      " 2   MSZoning            1460 non-null   object \n",
      " 3   Street              1460 non-null   object \n",
      " 4   LotShape            1460 non-null   object \n",
      " 5   LandContour         1460 non-null   object \n",
      " 6   Utilities           1460 non-null   object \n",
      " 7   LotConfig           1460 non-null   object \n",
      " 8   LandSlope           1460 non-null   object \n",
      " 9   Neighborhood        1460 non-null   object \n",
      " 10  Condition1          1460 non-null   object \n",
      " 11  Condition2          1460 non-null   object \n",
      " 12  BldgType            1460 non-null   object \n",
      " 13  HouseStyle          1460 non-null   object \n",
      " 14  OverallQual         1460 non-null   int64  \n",
      " 15  OverallCond         1460 non-null   int64  \n",
      " 16  YearBuilt           1460 non-null   int64  \n",
      " 17  YearRemodAdd        1460 non-null   int64  \n",
      " 18  RoofStyle           1460 non-null   object \n",
      " 19  RoofMatl            1460 non-null   object \n",
      " 20  Exterior1st         1460 non-null   object \n",
      " 21  Exterior2nd         1460 non-null   object \n",
      " 22  ExterQual           1460 non-null   object \n",
      " 23  ExterCond           1460 non-null   object \n",
      " 24  Foundation          1460 non-null   object \n",
      " 25  BsmtQual            1460 non-null   object \n",
      " 26  BsmtCond            1460 non-null   object \n",
      " 27  BsmtExposure        1460 non-null   object \n",
      " 28  BsmtFinType1        1460 non-null   object \n",
      " 29  BsmtFinSF1          1460 non-null   int64  \n",
      " 30  BsmtFinType2        1460 non-null   object \n",
      " 31  BsmtFinSF2          1460 non-null   int64  \n",
      " 32  BsmtUnfSF           1460 non-null   int64  \n",
      " 33  Heating             1460 non-null   object \n",
      " 34  HeatingQC           1460 non-null   object \n",
      " 35  CentralAir          1460 non-null   object \n",
      " 36  Electrical          1460 non-null   object \n",
      " 37  2ndFlrSF            1460 non-null   int64  \n",
      " 38  LowQualFinSF        1460 non-null   int64  \n",
      " 39  BsmtFullBath        1460 non-null   int64  \n",
      " 40  BsmtHalfBath        1460 non-null   int64  \n",
      " 41  FullBath            1460 non-null   int64  \n",
      " 42  HalfBath            1460 non-null   int64  \n",
      " 43  BedroomAbvGr        1460 non-null   int64  \n",
      " 44  KitchenAbvGr        1460 non-null   int64  \n",
      " 45  KitchenQual         1460 non-null   object \n",
      " 46  TotRmsAbvGrd        1460 non-null   int64  \n",
      " 47  Functional          1460 non-null   object \n",
      " 48  Fireplaces          1460 non-null   int64  \n",
      " 49  FireplaceQu         770 non-null    object \n",
      " 50  GarageFinish        1460 non-null   object \n",
      " 51  GarageCars          1460 non-null   int64  \n",
      " 52  GarageQual          1460 non-null   object \n",
      " 53  GarageCond          1460 non-null   object \n",
      " 54  PavedDrive          1460 non-null   object \n",
      " 55  WoodDeckSF          1460 non-null   int64  \n",
      " 56  OpenPorchSF         1460 non-null   int64  \n",
      " 57  EnclosedPorch       1460 non-null   int64  \n",
      " 58  3SsnPorch           1460 non-null   int64  \n",
      " 59  ScreenPorch         1460 non-null   int64  \n",
      " 60  MiscVal             1460 non-null   int64  \n",
      " 61  MoSold              1460 non-null   int64  \n",
      " 62  YrSold              1460 non-null   int64  \n",
      " 63  SaleType            1460 non-null   object \n",
      " 64  SaleCondition       1460 non-null   object \n",
      " 65  SalePrice           1460 non-null   int64  \n",
      " 66  GarageType_NoNull   1379 non-null   object \n",
      " 67  GarageYrBlt_NoNull  1460 non-null   float64\n",
      " 68  MasVnrArea_NoNull   1460 non-null   float64\n",
      " 69  LotFrontage_capped  1201 non-null   float64\n",
      " 70  LotArea_capped      1460 non-null   float64\n",
      " 71  TotalBsmtSF_capped  1460 non-null   float64\n",
      " 72  GrLivArea_capped    1460 non-null   float64\n",
      " 73  GarageArea_capped   1460 non-null   float64\n",
      " 74  1stFlrSF_capped     1460 non-null   float64\n",
      "dtypes: float64(8), int64(29), object(38)\n",
      "memory usage: 855.6+ KB\n"
     ]
    }
   ],
   "source": [
    "df.info()"
   ]
  },
  {
   "cell_type": "code",
   "execution_count": 12,
   "id": "17fb02df",
   "metadata": {},
   "outputs": [],
   "source": [
    "X = df.drop(columns=['SalePrice'])\n",
    "y = df['SalePrice']"
   ]
  },
  {
   "cell_type": "code",
   "execution_count": 13,
   "id": "cff7c3c5",
   "metadata": {},
   "outputs": [],
   "source": [
    "# train-test split\n",
    "from sklearn.model_selection import train_test_split\n",
    "X_train,X_test,y_train,y_test = train_test_split(X,y, test_size=0.2, random_state=42)"
   ]
  },
  {
   "cell_type": "code",
   "execution_count": 14,
   "id": "1c76a23f",
   "metadata": {},
   "outputs": [
    {
     "data": {
      "text/plain": [
       "(1168, 74)"
      ]
     },
     "execution_count": 14,
     "metadata": {},
     "output_type": "execute_result"
    }
   ],
   "source": [
    "X_train.shape"
   ]
  },
  {
   "cell_type": "code",
   "execution_count": 15,
   "id": "0192ecb3",
   "metadata": {},
   "outputs": [
    {
     "data": {
      "text/plain": [
       "(1168,)"
      ]
     },
     "execution_count": 15,
     "metadata": {},
     "output_type": "execute_result"
    }
   ],
   "source": [
    "y_train.shape"
   ]
  },
  {
   "cell_type": "code",
   "execution_count": 16,
   "id": "d7345085",
   "metadata": {},
   "outputs": [
    {
     "data": {
      "text/plain": [
       "(292, 74)"
      ]
     },
     "execution_count": 16,
     "metadata": {},
     "output_type": "execute_result"
    }
   ],
   "source": [
    "X_test.shape"
   ]
  },
  {
   "cell_type": "code",
   "execution_count": 17,
   "id": "09b3a41b",
   "metadata": {},
   "outputs": [
    {
     "data": {
      "text/plain": [
       "(292,)"
      ]
     },
     "execution_count": 17,
     "metadata": {},
     "output_type": "execute_result"
    }
   ],
   "source": [
    "y_test.shape"
   ]
  },
  {
   "cell_type": "code",
   "execution_count": 18,
   "id": "64d9aab6",
   "metadata": {},
   "outputs": [],
   "source": [
    "numerical_features = X_train.select_dtypes(include=[np.number]).columns.tolist()\n",
    "categorical_features = X_train.select_dtypes(include=['object']).columns.tolist()"
   ]
  },
  {
   "cell_type": "code",
   "execution_count": 19,
   "id": "60770591",
   "metadata": {},
   "outputs": [
    {
     "data": {
      "text/plain": [
       "['Id',\n",
       " 'MSSubClass',\n",
       " 'OverallQual',\n",
       " 'OverallCond',\n",
       " 'YearBuilt',\n",
       " 'YearRemodAdd',\n",
       " 'BsmtFinSF1',\n",
       " 'BsmtFinSF2',\n",
       " 'BsmtUnfSF',\n",
       " '2ndFlrSF',\n",
       " 'LowQualFinSF',\n",
       " 'BsmtFullBath',\n",
       " 'BsmtHalfBath',\n",
       " 'FullBath',\n",
       " 'HalfBath',\n",
       " 'BedroomAbvGr',\n",
       " 'KitchenAbvGr',\n",
       " 'TotRmsAbvGrd',\n",
       " 'Fireplaces',\n",
       " 'GarageCars',\n",
       " 'WoodDeckSF',\n",
       " 'OpenPorchSF',\n",
       " 'EnclosedPorch',\n",
       " '3SsnPorch',\n",
       " 'ScreenPorch',\n",
       " 'MiscVal',\n",
       " 'MoSold',\n",
       " 'YrSold',\n",
       " 'GarageYrBlt_NoNull',\n",
       " 'MasVnrArea_NoNull',\n",
       " 'LotFrontage_capped',\n",
       " 'LotArea_capped',\n",
       " 'TotalBsmtSF_capped',\n",
       " 'GrLivArea_capped',\n",
       " 'GarageArea_capped',\n",
       " '1stFlrSF_capped']"
      ]
     },
     "execution_count": 19,
     "metadata": {},
     "output_type": "execute_result"
    }
   ],
   "source": [
    "numerical_features"
   ]
  },
  {
   "cell_type": "code",
   "execution_count": 20,
   "id": "90445dda",
   "metadata": {},
   "outputs": [
    {
     "data": {
      "text/plain": [
       "['MSZoning',\n",
       " 'Street',\n",
       " 'LotShape',\n",
       " 'LandContour',\n",
       " 'Utilities',\n",
       " 'LotConfig',\n",
       " 'LandSlope',\n",
       " 'Neighborhood',\n",
       " 'Condition1',\n",
       " 'Condition2',\n",
       " 'BldgType',\n",
       " 'HouseStyle',\n",
       " 'RoofStyle',\n",
       " 'RoofMatl',\n",
       " 'Exterior1st',\n",
       " 'Exterior2nd',\n",
       " 'ExterQual',\n",
       " 'ExterCond',\n",
       " 'Foundation',\n",
       " 'BsmtQual',\n",
       " 'BsmtCond',\n",
       " 'BsmtExposure',\n",
       " 'BsmtFinType1',\n",
       " 'BsmtFinType2',\n",
       " 'Heating',\n",
       " 'HeatingQC',\n",
       " 'CentralAir',\n",
       " 'Electrical',\n",
       " 'KitchenQual',\n",
       " 'Functional',\n",
       " 'FireplaceQu',\n",
       " 'GarageFinish',\n",
       " 'GarageQual',\n",
       " 'GarageCond',\n",
       " 'PavedDrive',\n",
       " 'SaleType',\n",
       " 'SaleCondition',\n",
       " 'GarageType_NoNull']"
      ]
     },
     "execution_count": 20,
     "metadata": {},
     "output_type": "execute_result"
    }
   ],
   "source": [
    "categorical_features"
   ]
  },
  {
   "cell_type": "code",
   "execution_count": null,
   "id": "21416ea4",
   "metadata": {},
   "outputs": [],
   "source": [
    "\n",
    "def anova_feature_scores(df, categorical_features, target):\n",
    "    scores = {}\n",
    "    for col in categorical_features:\n",
    "        groups = [group[target].values for _, group in df.groupby(col)]\n",
    "        # Need at least 2 groups and groups must have >1 sample to compute f_oneway\n",
    "        if len(groups) < 2 or any(len(g) < 2 for g in groups):\n",
    "            scores[col] = np.nan\n",
    "            continue\n",
    "        f_stat, pval = stats.f_oneway(*groups)\n",
    "        scores[col] = {\"f_stat\": float(f_stat), \"pval\": float(pval)}\n",
    "    return pd.DataFrame.from_dict(scores, orient=\"index\").sort_values(\"f_stat\", ascending=False)\n",
    "\n",
    "# Usage\n",
    "anova_scores = anova_feature_scores(df, categorical_features, target)\n",
    "print(anova_scores)\n"
   ]
  }
 ],
 "metadata": {
  "kernelspec": {
   "display_name": "ds_venv",
   "language": "python",
   "name": "python3"
  },
  "language_info": {
   "codemirror_mode": {
    "name": "ipython",
    "version": 3
   },
   "file_extension": ".py",
   "mimetype": "text/x-python",
   "name": "python",
   "nbconvert_exporter": "python",
   "pygments_lexer": "ipython3",
   "version": "3.12.9"
  }
 },
 "nbformat": 4,
 "nbformat_minor": 5
}

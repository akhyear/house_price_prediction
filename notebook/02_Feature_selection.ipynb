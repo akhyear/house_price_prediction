{
 "cells": [
  {
   "cell_type": "code",
   "execution_count": 2,
   "id": "737cd6d7",
   "metadata": {},
   "outputs": [],
   "source": [
    "import pandas as pd\n",
    "import numpy as np\n",
    "from scipy import stats"
   ]
  },
  {
   "cell_type": "code",
   "execution_count": 3,
   "id": "9f6c2f80",
   "metadata": {},
   "outputs": [],
   "source": [
    "df = pd.read_csv('../data/processed/train_cleaned.csv')"
   ]
  },
  {
   "cell_type": "code",
   "execution_count": 4,
   "id": "b7671674",
   "metadata": {},
   "outputs": [
    {
     "name": "stdout",
     "output_type": "stream",
     "text": [
      "<class 'pandas.core.frame.DataFrame'>\n",
      "RangeIndex: 1460 entries, 0 to 1459\n",
      "Data columns (total 75 columns):\n",
      " #   Column              Non-Null Count  Dtype  \n",
      "---  ------              --------------  -----  \n",
      " 0   Id                  1460 non-null   int64  \n",
      " 1   MSSubClass          1460 non-null   int64  \n",
      " 2   MSZoning            1460 non-null   object \n",
      " 3   Street              1460 non-null   object \n",
      " 4   LotShape            1460 non-null   object \n",
      " 5   LandContour         1460 non-null   object \n",
      " 6   Utilities           1460 non-null   object \n",
      " 7   LotConfig           1460 non-null   object \n",
      " 8   LandSlope           1460 non-null   object \n",
      " 9   Neighborhood        1460 non-null   object \n",
      " 10  Condition1          1460 non-null   object \n",
      " 11  Condition2          1460 non-null   object \n",
      " 12  BldgType            1460 non-null   object \n",
      " 13  HouseStyle          1460 non-null   object \n",
      " 14  OverallQual         1460 non-null   int64  \n",
      " 15  OverallCond         1460 non-null   int64  \n",
      " 16  YearBuilt           1460 non-null   int64  \n",
      " 17  YearRemodAdd        1460 non-null   int64  \n",
      " 18  RoofStyle           1460 non-null   object \n",
      " 19  RoofMatl            1460 non-null   object \n",
      " 20  Exterior1st         1460 non-null   object \n",
      " 21  Exterior2nd         1460 non-null   object \n",
      " 22  ExterQual           1460 non-null   object \n",
      " 23  ExterCond           1460 non-null   object \n",
      " 24  Foundation          1460 non-null   object \n",
      " 25  BsmtQual            1460 non-null   object \n",
      " 26  BsmtCond            1460 non-null   object \n",
      " 27  BsmtExposure        1460 non-null   object \n",
      " 28  BsmtFinType1        1460 non-null   object \n",
      " 29  BsmtFinSF1          1460 non-null   int64  \n",
      " 30  BsmtFinType2        1460 non-null   object \n",
      " 31  BsmtFinSF2          1460 non-null   int64  \n",
      " 32  BsmtUnfSF           1460 non-null   int64  \n",
      " 33  Heating             1460 non-null   object \n",
      " 34  HeatingQC           1460 non-null   object \n",
      " 35  CentralAir          1460 non-null   object \n",
      " 36  Electrical          1460 non-null   object \n",
      " 37  2ndFlrSF            1460 non-null   int64  \n",
      " 38  LowQualFinSF        1460 non-null   int64  \n",
      " 39  BsmtFullBath        1460 non-null   int64  \n",
      " 40  BsmtHalfBath        1460 non-null   int64  \n",
      " 41  FullBath            1460 non-null   int64  \n",
      " 42  HalfBath            1460 non-null   int64  \n",
      " 43  BedroomAbvGr        1460 non-null   int64  \n",
      " 44  KitchenAbvGr        1460 non-null   int64  \n",
      " 45  KitchenQual         1460 non-null   object \n",
      " 46  TotRmsAbvGrd        1460 non-null   int64  \n",
      " 47  Functional          1460 non-null   object \n",
      " 48  Fireplaces          1460 non-null   int64  \n",
      " 49  FireplaceQu         770 non-null    object \n",
      " 50  GarageFinish        1460 non-null   object \n",
      " 51  GarageCars          1460 non-null   int64  \n",
      " 52  GarageQual          1460 non-null   object \n",
      " 53  GarageCond          1460 non-null   object \n",
      " 54  PavedDrive          1460 non-null   object \n",
      " 55  WoodDeckSF          1460 non-null   int64  \n",
      " 56  OpenPorchSF         1460 non-null   int64  \n",
      " 57  EnclosedPorch       1460 non-null   int64  \n",
      " 58  3SsnPorch           1460 non-null   int64  \n",
      " 59  ScreenPorch         1460 non-null   int64  \n",
      " 60  MiscVal             1460 non-null   int64  \n",
      " 61  MoSold              1460 non-null   int64  \n",
      " 62  YrSold              1460 non-null   int64  \n",
      " 63  SaleType            1460 non-null   object \n",
      " 64  SaleCondition       1460 non-null   object \n",
      " 65  SalePrice           1460 non-null   int64  \n",
      " 66  GarageType_NoNull   1379 non-null   object \n",
      " 67  GarageYrBlt_NoNull  1460 non-null   float64\n",
      " 68  MasVnrArea_NoNull   1460 non-null   float64\n",
      " 69  LotFrontage_capped  1201 non-null   float64\n",
      " 70  LotArea_capped      1460 non-null   float64\n",
      " 71  TotalBsmtSF_capped  1460 non-null   float64\n",
      " 72  GrLivArea_capped    1460 non-null   float64\n",
      " 73  GarageArea_capped   1460 non-null   float64\n",
      " 74  1stFlrSF_capped     1460 non-null   float64\n",
      "dtypes: float64(8), int64(29), object(38)\n",
      "memory usage: 855.6+ KB\n"
     ]
    }
   ],
   "source": [
    "df.info()"
   ]
  },
  {
   "cell_type": "markdown",
   "id": "3aaa2fa4",
   "metadata": {},
   "source": [
    "# Train-Test split"
   ]
  },
  {
   "cell_type": "code",
   "execution_count": 5,
   "id": "17fb02df",
   "metadata": {},
   "outputs": [],
   "source": [
    "X = df.drop(columns=['SalePrice'])\n",
    "y = df['SalePrice']"
   ]
  },
  {
   "cell_type": "code",
   "execution_count": 6,
   "id": "cff7c3c5",
   "metadata": {},
   "outputs": [],
   "source": [
    "# train-test split\n",
    "from sklearn.model_selection import train_test_split\n",
    "X_train,X_test,y_train,y_test = train_test_split(X,y, test_size=0.2, random_state=42)"
   ]
  },
  {
   "cell_type": "code",
   "execution_count": 7,
   "id": "1c76a23f",
   "metadata": {},
   "outputs": [
    {
     "data": {
      "text/plain": [
       "(1168, 74)"
      ]
     },
     "execution_count": 7,
     "metadata": {},
     "output_type": "execute_result"
    }
   ],
   "source": [
    "X_train.shape"
   ]
  },
  {
   "cell_type": "code",
   "execution_count": 8,
   "id": "0192ecb3",
   "metadata": {},
   "outputs": [
    {
     "data": {
      "text/plain": [
       "(1168,)"
      ]
     },
     "execution_count": 8,
     "metadata": {},
     "output_type": "execute_result"
    }
   ],
   "source": [
    "y_train.shape"
   ]
  },
  {
   "cell_type": "code",
   "execution_count": 9,
   "id": "d7345085",
   "metadata": {},
   "outputs": [
    {
     "data": {
      "text/plain": [
       "(292, 74)"
      ]
     },
     "execution_count": 9,
     "metadata": {},
     "output_type": "execute_result"
    }
   ],
   "source": [
    "X_test.shape"
   ]
  },
  {
   "cell_type": "code",
   "execution_count": 10,
   "id": "09b3a41b",
   "metadata": {},
   "outputs": [
    {
     "data": {
      "text/plain": [
       "(292,)"
      ]
     },
     "execution_count": 10,
     "metadata": {},
     "output_type": "execute_result"
    }
   ],
   "source": [
    "y_test.shape"
   ]
  },
  {
   "cell_type": "code",
   "execution_count": 11,
   "id": "64d9aab6",
   "metadata": {},
   "outputs": [],
   "source": [
    "numerical_features = X_train.select_dtypes(include=[np.number]).columns.tolist()\n",
    "categorical_features = X_train.select_dtypes(include=['object']).columns.tolist()"
   ]
  },
  {
   "cell_type": "code",
   "execution_count": 12,
   "id": "60770591",
   "metadata": {},
   "outputs": [
    {
     "data": {
      "text/plain": [
       "['Id',\n",
       " 'MSSubClass',\n",
       " 'OverallQual',\n",
       " 'OverallCond',\n",
       " 'YearBuilt',\n",
       " 'YearRemodAdd',\n",
       " 'BsmtFinSF1',\n",
       " 'BsmtFinSF2',\n",
       " 'BsmtUnfSF',\n",
       " '2ndFlrSF',\n",
       " 'LowQualFinSF',\n",
       " 'BsmtFullBath',\n",
       " 'BsmtHalfBath',\n",
       " 'FullBath',\n",
       " 'HalfBath',\n",
       " 'BedroomAbvGr',\n",
       " 'KitchenAbvGr',\n",
       " 'TotRmsAbvGrd',\n",
       " 'Fireplaces',\n",
       " 'GarageCars',\n",
       " 'WoodDeckSF',\n",
       " 'OpenPorchSF',\n",
       " 'EnclosedPorch',\n",
       " '3SsnPorch',\n",
       " 'ScreenPorch',\n",
       " 'MiscVal',\n",
       " 'MoSold',\n",
       " 'YrSold',\n",
       " 'GarageYrBlt_NoNull',\n",
       " 'MasVnrArea_NoNull',\n",
       " 'LotFrontage_capped',\n",
       " 'LotArea_capped',\n",
       " 'TotalBsmtSF_capped',\n",
       " 'GrLivArea_capped',\n",
       " 'GarageArea_capped',\n",
       " '1stFlrSF_capped']"
      ]
     },
     "execution_count": 12,
     "metadata": {},
     "output_type": "execute_result"
    }
   ],
   "source": [
    "numerical_features"
   ]
  },
  {
   "cell_type": "code",
   "execution_count": 13,
   "id": "90445dda",
   "metadata": {},
   "outputs": [
    {
     "data": {
      "text/plain": [
       "['MSZoning',\n",
       " 'Street',\n",
       " 'LotShape',\n",
       " 'LandContour',\n",
       " 'Utilities',\n",
       " 'LotConfig',\n",
       " 'LandSlope',\n",
       " 'Neighborhood',\n",
       " 'Condition1',\n",
       " 'Condition2',\n",
       " 'BldgType',\n",
       " 'HouseStyle',\n",
       " 'RoofStyle',\n",
       " 'RoofMatl',\n",
       " 'Exterior1st',\n",
       " 'Exterior2nd',\n",
       " 'ExterQual',\n",
       " 'ExterCond',\n",
       " 'Foundation',\n",
       " 'BsmtQual',\n",
       " 'BsmtCond',\n",
       " 'BsmtExposure',\n",
       " 'BsmtFinType1',\n",
       " 'BsmtFinType2',\n",
       " 'Heating',\n",
       " 'HeatingQC',\n",
       " 'CentralAir',\n",
       " 'Electrical',\n",
       " 'KitchenQual',\n",
       " 'Functional',\n",
       " 'FireplaceQu',\n",
       " 'GarageFinish',\n",
       " 'GarageQual',\n",
       " 'GarageCond',\n",
       " 'PavedDrive',\n",
       " 'SaleType',\n",
       " 'SaleCondition',\n",
       " 'GarageType_NoNull']"
      ]
     },
     "execution_count": 13,
     "metadata": {},
     "output_type": "execute_result"
    }
   ],
   "source": [
    "categorical_features"
   ]
  },
  {
   "cell_type": "markdown",
   "id": "b0f0f8a7",
   "metadata": {},
   "source": [
    "# ANOVA test"
   ]
  },
  {
   "cell_type": "code",
   "execution_count": 14,
   "id": "62c9dd68",
   "metadata": {},
   "outputs": [],
   "source": [
    "import pandas as pd\n",
    "from scipy.stats import f_oneway\n",
    "from sklearn.preprocessing import LabelEncoder\n",
    "\n",
    "def anova_categorical_features(X_train, y_train, categorical_features):\n",
    "    \"\"\"\n",
    "    Perform ANOVA on categorical features only\n",
    "    \"\"\"\n",
    "    results = {}\n",
    "    \n",
    "    for feature in categorical_features:\n",
    "        # Encode categorical feature to numerical\n",
    "        le = LabelEncoder()\n",
    "        encoded_feature = le.fit_transform(X_train[feature].astype(str))\n",
    "        \n",
    "        # Group encoded values by target classes\n",
    "        groups = []\n",
    "        unique_classes = pd.unique(y_train)\n",
    "        \n",
    "        for class_val in unique_classes:\n",
    "            mask = y_train == class_val\n",
    "            group_data = encoded_feature[mask]\n",
    "            groups.append(group_data)\n",
    "        \n",
    "        # Perform ANOVA\n",
    "        f_stat, p_value = f_oneway(*groups)\n",
    "        results[feature] = {'F-statistic': f_stat, 'p-value': p_value}\n",
    "        \n",
    "        print(f\"{feature}: F={f_stat:.4f}, p={p_value:.4f}\")\n",
    "    \n",
    "    return results\n",
    "\n",
    "# Usage:\n"
   ]
  },
  {
   "cell_type": "code",
   "execution_count": 15,
   "id": "70f3665c",
   "metadata": {},
   "outputs": [
    {
     "name": "stdout",
     "output_type": "stream",
     "text": [
      "MSZoning: F=1.7452, p=0.0000\n",
      "Street: F=1.5896, p=0.0000\n",
      "LotShape: F=1.3772, p=0.0001\n",
      "LandContour: F=1.1403, p=0.0564\n",
      "Utilities: F=0.5223, p=1.0000\n",
      "LotConfig: F=0.9271, p=0.8194\n",
      "LandSlope: F=1.3218, p=0.0004\n",
      "Neighborhood: F=1.4119, p=0.0000\n",
      "Condition1: F=0.6955, p=1.0000\n",
      "Condition2: F=0.7471, p=0.9998\n",
      "BldgType: F=1.0629, p=0.2305\n",
      "HouseStyle: F=1.1890, p=0.0183\n",
      "RoofStyle: F=1.1323, p=0.0668\n",
      "RoofMatl: F=0.9057, p=0.8838\n",
      "Exterior1st: F=0.9602, p=0.6878\n",
      "Exterior2nd: F=1.0442, p=0.3005\n",
      "ExterQual: F=3.2048, p=0.0000\n",
      "ExterCond: F=0.9551, p=0.7101\n",
      "Foundation: F=1.3672, p=0.0001\n",
      "BsmtQual: F=2.1929, p=0.0000\n",
      "BsmtCond: F=1.0872, p=0.1564\n",
      "BsmtExposure: F=1.4402, p=0.0000\n",
      "BsmtFinType1: F=2.1929, p=0.0000\n",
      "BsmtFinType2: F=0.7921, p=0.9975\n",
      "Heating: F=1.4108, p=0.0000\n",
      "HeatingQC: F=1.3030, p=0.0007\n",
      "CentralAir: F=1.5494, p=0.0000\n",
      "Electrical: F=1.0447, p=0.2985\n",
      "KitchenQual: F=2.8033, p=0.0000\n",
      "Functional: F=0.7851, p=0.9982\n",
      "FireplaceQu: F=1.6510, p=0.0000\n",
      "GarageFinish: F=1.6866, p=0.0000\n",
      "GarageQual: F=1.0781, p=0.1820\n",
      "GarageCond: F=0.9820, p=0.5864\n",
      "PavedDrive: F=1.0011, p=0.4943\n",
      "SaleType: F=0.7709, p=0.9991\n",
      "SaleCondition: F=0.8738, p=0.9481\n",
      "GarageType_NoNull: F=1.6827, p=0.0000\n"
     ]
    }
   ],
   "source": [
    "results = anova_categorical_features(X_train, y_train, categorical_features)"
   ]
  },
  {
   "cell_type": "code",
   "execution_count": null,
   "id": "1e8b3d3a",
   "metadata": {},
   "outputs": [],
   "source": []
  }
 ],
 "metadata": {
  "kernelspec": {
   "display_name": "ds_venv",
   "language": "python",
   "name": "python3"
  },
  "language_info": {
   "codemirror_mode": {
    "name": "ipython",
    "version": 3
   },
   "file_extension": ".py",
   "mimetype": "text/x-python",
   "name": "python",
   "nbconvert_exporter": "python",
   "pygments_lexer": "ipython3",
   "version": "3.13.7"
  }
 },
 "nbformat": 4,
 "nbformat_minor": 5
}

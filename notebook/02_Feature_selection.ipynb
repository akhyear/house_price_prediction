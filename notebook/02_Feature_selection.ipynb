{
 "cells": [
  {
   "cell_type": "code",
   "execution_count": 93,
   "id": "737cd6d7",
   "metadata": {},
   "outputs": [],
   "source": [
    "import pandas as pd\n",
    "import numpy as np\n",
    "from scipy import stats"
   ]
  },
  {
   "cell_type": "code",
   "execution_count": 94,
   "id": "9f6c2f80",
   "metadata": {},
   "outputs": [],
   "source": [
    "df = pd.read_csv('../data/interim/train_cleaned.csv')"
   ]
  },
  {
   "cell_type": "code",
   "execution_count": 95,
   "id": "b7671674",
   "metadata": {},
   "outputs": [
    {
     "name": "stdout",
     "output_type": "stream",
     "text": [
      "<class 'pandas.core.frame.DataFrame'>\n",
      "RangeIndex: 1460 entries, 0 to 1459\n",
      "Data columns (total 75 columns):\n",
      " #   Column              Non-Null Count  Dtype  \n",
      "---  ------              --------------  -----  \n",
      " 0   Id                  1460 non-null   int64  \n",
      " 1   MSSubClass          1460 non-null   int64  \n",
      " 2   MSZoning            1460 non-null   object \n",
      " 3   Street              1460 non-null   object \n",
      " 4   LotShape            1460 non-null   object \n",
      " 5   LandContour         1460 non-null   object \n",
      " 6   Utilities           1460 non-null   object \n",
      " 7   LotConfig           1460 non-null   object \n",
      " 8   LandSlope           1460 non-null   object \n",
      " 9   Neighborhood        1460 non-null   object \n",
      " 10  Condition1          1460 non-null   object \n",
      " 11  Condition2          1460 non-null   object \n",
      " 12  BldgType            1460 non-null   object \n",
      " 13  HouseStyle          1460 non-null   object \n",
      " 14  OverallQual         1460 non-null   int64  \n",
      " 15  OverallCond         1460 non-null   int64  \n",
      " 16  YearBuilt           1460 non-null   int64  \n",
      " 17  YearRemodAdd        1460 non-null   int64  \n",
      " 18  RoofStyle           1460 non-null   object \n",
      " 19  RoofMatl            1460 non-null   object \n",
      " 20  Exterior1st         1460 non-null   object \n",
      " 21  Exterior2nd         1460 non-null   object \n",
      " 22  ExterQual           1460 non-null   object \n",
      " 23  ExterCond           1460 non-null   object \n",
      " 24  Foundation          1460 non-null   object \n",
      " 25  BsmtQual            1460 non-null   object \n",
      " 26  BsmtCond            1460 non-null   object \n",
      " 27  BsmtExposure        1460 non-null   object \n",
      " 28  BsmtFinType1        1460 non-null   object \n",
      " 29  BsmtFinSF1          1460 non-null   int64  \n",
      " 30  BsmtFinType2        1460 non-null   object \n",
      " 31  BsmtFinSF2          1460 non-null   int64  \n",
      " 32  BsmtUnfSF           1460 non-null   int64  \n",
      " 33  Heating             1460 non-null   object \n",
      " 34  HeatingQC           1460 non-null   object \n",
      " 35  CentralAir          1460 non-null   object \n",
      " 36  Electrical          1460 non-null   object \n",
      " 37  2ndFlrSF            1460 non-null   int64  \n",
      " 38  LowQualFinSF        1460 non-null   int64  \n",
      " 39  BsmtFullBath        1460 non-null   int64  \n",
      " 40  BsmtHalfBath        1460 non-null   int64  \n",
      " 41  FullBath            1460 non-null   int64  \n",
      " 42  HalfBath            1460 non-null   int64  \n",
      " 43  BedroomAbvGr        1460 non-null   int64  \n",
      " 44  KitchenAbvGr        1460 non-null   int64  \n",
      " 45  KitchenQual         1460 non-null   object \n",
      " 46  TotRmsAbvGrd        1460 non-null   int64  \n",
      " 47  Functional          1460 non-null   object \n",
      " 48  Fireplaces          1460 non-null   int64  \n",
      " 49  FireplaceQu         770 non-null    object \n",
      " 50  GarageFinish        1460 non-null   object \n",
      " 51  GarageCars          1460 non-null   int64  \n",
      " 52  GarageQual          1460 non-null   object \n",
      " 53  GarageCond          1460 non-null   object \n",
      " 54  PavedDrive          1460 non-null   object \n",
      " 55  WoodDeckSF          1460 non-null   int64  \n",
      " 56  OpenPorchSF         1460 non-null   int64  \n",
      " 57  EnclosedPorch       1460 non-null   int64  \n",
      " 58  3SsnPorch           1460 non-null   int64  \n",
      " 59  ScreenPorch         1460 non-null   int64  \n",
      " 60  MiscVal             1460 non-null   int64  \n",
      " 61  MoSold              1460 non-null   int64  \n",
      " 62  YrSold              1460 non-null   int64  \n",
      " 63  SaleType            1460 non-null   object \n",
      " 64  SaleCondition       1460 non-null   object \n",
      " 65  SalePrice           1460 non-null   int64  \n",
      " 66  GarageType_NoNull   1379 non-null   object \n",
      " 67  GarageYrBlt_NoNull  1460 non-null   float64\n",
      " 68  MasVnrArea_NoNull   1460 non-null   float64\n",
      " 69  LotFrontage_capped  1201 non-null   float64\n",
      " 70  LotArea_capped      1460 non-null   float64\n",
      " 71  TotalBsmtSF_capped  1460 non-null   float64\n",
      " 72  GrLivArea_capped    1460 non-null   float64\n",
      " 73  GarageArea_capped   1460 non-null   float64\n",
      " 74  1stFlrSF_capped     1460 non-null   float64\n",
      "dtypes: float64(8), int64(29), object(38)\n",
      "memory usage: 855.6+ KB\n"
     ]
    }
   ],
   "source": [
    "df.info()"
   ]
  },
  {
   "cell_type": "markdown",
   "id": "3aaa2fa4",
   "metadata": {},
   "source": [
    "# Train-Test split"
   ]
  },
  {
   "cell_type": "code",
   "execution_count": 96,
   "id": "17fb02df",
   "metadata": {},
   "outputs": [],
   "source": [
    "X = df.drop(columns=['SalePrice'])\n",
    "y = df['SalePrice']"
   ]
  },
  {
   "cell_type": "code",
   "execution_count": 97,
   "id": "cff7c3c5",
   "metadata": {},
   "outputs": [],
   "source": [
    "# train-test split\n",
    "from sklearn.model_selection import train_test_split\n",
    "X_train,X_test,y_train,y_test = train_test_split(X,y, test_size=0.2, random_state=42)"
   ]
  },
  {
   "cell_type": "code",
   "execution_count": 98,
   "id": "1c76a23f",
   "metadata": {},
   "outputs": [
    {
     "data": {
      "text/plain": [
       "(1168, 74)"
      ]
     },
     "execution_count": 98,
     "metadata": {},
     "output_type": "execute_result"
    }
   ],
   "source": [
    "X_train.shape"
   ]
  },
  {
   "cell_type": "code",
   "execution_count": 99,
   "id": "0192ecb3",
   "metadata": {},
   "outputs": [
    {
     "data": {
      "text/plain": [
       "(1168,)"
      ]
     },
     "execution_count": 99,
     "metadata": {},
     "output_type": "execute_result"
    }
   ],
   "source": [
    "y_train.shape"
   ]
  },
  {
   "cell_type": "code",
   "execution_count": 100,
   "id": "d7345085",
   "metadata": {},
   "outputs": [
    {
     "data": {
      "text/plain": [
       "(292, 74)"
      ]
     },
     "execution_count": 100,
     "metadata": {},
     "output_type": "execute_result"
    }
   ],
   "source": [
    "X_test.shape"
   ]
  },
  {
   "cell_type": "code",
   "execution_count": 101,
   "id": "09b3a41b",
   "metadata": {},
   "outputs": [
    {
     "data": {
      "text/plain": [
       "(292,)"
      ]
     },
     "execution_count": 101,
     "metadata": {},
     "output_type": "execute_result"
    }
   ],
   "source": [
    "y_test.shape"
   ]
  },
  {
   "cell_type": "code",
   "execution_count": 102,
   "id": "64d9aab6",
   "metadata": {},
   "outputs": [],
   "source": [
    "numerical_features = X_train.select_dtypes(include=[np.number]).columns.tolist()\n",
    "categorical_features = X_train.select_dtypes(include=['object']).columns.tolist()"
   ]
  },
  {
   "cell_type": "code",
   "execution_count": 103,
   "id": "60770591",
   "metadata": {},
   "outputs": [
    {
     "data": {
      "text/plain": [
       "['Id',\n",
       " 'MSSubClass',\n",
       " 'OverallQual',\n",
       " 'OverallCond',\n",
       " 'YearBuilt',\n",
       " 'YearRemodAdd',\n",
       " 'BsmtFinSF1',\n",
       " 'BsmtFinSF2',\n",
       " 'BsmtUnfSF',\n",
       " '2ndFlrSF',\n",
       " 'LowQualFinSF',\n",
       " 'BsmtFullBath',\n",
       " 'BsmtHalfBath',\n",
       " 'FullBath',\n",
       " 'HalfBath',\n",
       " 'BedroomAbvGr',\n",
       " 'KitchenAbvGr',\n",
       " 'TotRmsAbvGrd',\n",
       " 'Fireplaces',\n",
       " 'GarageCars',\n",
       " 'WoodDeckSF',\n",
       " 'OpenPorchSF',\n",
       " 'EnclosedPorch',\n",
       " '3SsnPorch',\n",
       " 'ScreenPorch',\n",
       " 'MiscVal',\n",
       " 'MoSold',\n",
       " 'YrSold',\n",
       " 'GarageYrBlt_NoNull',\n",
       " 'MasVnrArea_NoNull',\n",
       " 'LotFrontage_capped',\n",
       " 'LotArea_capped',\n",
       " 'TotalBsmtSF_capped',\n",
       " 'GrLivArea_capped',\n",
       " 'GarageArea_capped',\n",
       " '1stFlrSF_capped']"
      ]
     },
     "execution_count": 103,
     "metadata": {},
     "output_type": "execute_result"
    }
   ],
   "source": [
    "numerical_features"
   ]
  },
  {
   "cell_type": "code",
   "execution_count": 104,
   "id": "90445dda",
   "metadata": {},
   "outputs": [
    {
     "data": {
      "text/plain": [
       "['MSZoning',\n",
       " 'Street',\n",
       " 'LotShape',\n",
       " 'LandContour',\n",
       " 'Utilities',\n",
       " 'LotConfig',\n",
       " 'LandSlope',\n",
       " 'Neighborhood',\n",
       " 'Condition1',\n",
       " 'Condition2',\n",
       " 'BldgType',\n",
       " 'HouseStyle',\n",
       " 'RoofStyle',\n",
       " 'RoofMatl',\n",
       " 'Exterior1st',\n",
       " 'Exterior2nd',\n",
       " 'ExterQual',\n",
       " 'ExterCond',\n",
       " 'Foundation',\n",
       " 'BsmtQual',\n",
       " 'BsmtCond',\n",
       " 'BsmtExposure',\n",
       " 'BsmtFinType1',\n",
       " 'BsmtFinType2',\n",
       " 'Heating',\n",
       " 'HeatingQC',\n",
       " 'CentralAir',\n",
       " 'Electrical',\n",
       " 'KitchenQual',\n",
       " 'Functional',\n",
       " 'FireplaceQu',\n",
       " 'GarageFinish',\n",
       " 'GarageQual',\n",
       " 'GarageCond',\n",
       " 'PavedDrive',\n",
       " 'SaleType',\n",
       " 'SaleCondition',\n",
       " 'GarageType_NoNull']"
      ]
     },
     "execution_count": 104,
     "metadata": {},
     "output_type": "execute_result"
    }
   ],
   "source": [
    "categorical_features"
   ]
  },
  {
   "cell_type": "markdown",
   "id": "b0f0f8a7",
   "metadata": {},
   "source": [
    "# ANOVA test"
   ]
  },
  {
   "cell_type": "code",
   "execution_count": 105,
   "id": "62c9dd68",
   "metadata": {},
   "outputs": [],
   "source": [
    "import pandas as pd\n",
    "from scipy.stats import f_oneway\n",
    "from sklearn.preprocessing import LabelEncoder\n",
    "\n",
    "def anova_categorical_features(X_train, y_train, categorical_features):\n",
    "    \"\"\"\n",
    "    Perform ANOVA on categorical features only\n",
    "    \"\"\"\n",
    "    results = {}\n",
    "    \n",
    "    for feature in categorical_features:\n",
    "        # Encode categorical feature to numerical\n",
    "        le = LabelEncoder()\n",
    "        encoded_feature = le.fit_transform(X_train[feature].astype(str))\n",
    "        \n",
    "        # Group encoded values by target classes\n",
    "        groups = []\n",
    "        unique_classes = pd.unique(y_train)\n",
    "        \n",
    "        for class_val in unique_classes:\n",
    "            mask = y_train == class_val\n",
    "            group_data = encoded_feature[mask]\n",
    "            groups.append(group_data)\n",
    "        \n",
    "        # Perform ANOVA\n",
    "        f_stat, p_value = f_oneway(*groups)\n",
    "        results[feature] = {'F-statistic': f_stat, 'p-value': p_value}\n",
    "        \n",
    "        print(f\"{feature}: F={f_stat:.4f}, p={p_value:.4f}\")\n",
    "    \n",
    "    return results\n",
    "\n",
    "# Usage:\n"
   ]
  },
  {
   "cell_type": "code",
   "execution_count": 106,
   "id": "70f3665c",
   "metadata": {},
   "outputs": [
    {
     "name": "stdout",
     "output_type": "stream",
     "text": [
      "MSZoning: F=1.7452, p=0.0000\n",
      "Street: F=1.5896, p=0.0000\n",
      "LotShape: F=1.3772, p=0.0001\n",
      "LandContour: F=1.1403, p=0.0564\n",
      "Utilities: F=0.5223, p=1.0000\n",
      "LotConfig: F=0.9271, p=0.8194\n",
      "LandSlope: F=1.3218, p=0.0004\n",
      "Neighborhood: F=1.4119, p=0.0000\n",
      "Condition1: F=0.6955, p=1.0000\n",
      "Condition2: F=0.7471, p=0.9998\n",
      "BldgType: F=1.0629, p=0.2305\n",
      "HouseStyle: F=1.1890, p=0.0183\n",
      "RoofStyle: F=1.1323, p=0.0668\n",
      "RoofMatl: F=0.9057, p=0.8838\n",
      "Exterior1st: F=0.9602, p=0.6878\n",
      "Exterior2nd: F=1.0442, p=0.3005\n",
      "ExterQual: F=3.2048, p=0.0000\n",
      "ExterCond: F=0.9551, p=0.7101\n",
      "Foundation: F=1.3672, p=0.0001\n",
      "BsmtQual: F=2.1929, p=0.0000\n",
      "BsmtCond: F=1.0872, p=0.1564\n",
      "BsmtExposure: F=1.4402, p=0.0000\n",
      "BsmtFinType1: F=2.1929, p=0.0000\n",
      "BsmtFinType2: F=0.7921, p=0.9975\n",
      "Heating: F=1.4108, p=0.0000\n",
      "HeatingQC: F=1.3030, p=0.0007\n",
      "CentralAir: F=1.5494, p=0.0000\n",
      "Electrical: F=1.0447, p=0.2985\n",
      "KitchenQual: F=2.8033, p=0.0000\n",
      "Functional: F=0.7851, p=0.9982\n",
      "FireplaceQu: F=1.6510, p=0.0000\n",
      "GarageFinish: F=1.6866, p=0.0000\n",
      "GarageQual: F=1.0781, p=0.1820\n",
      "GarageCond: F=0.9820, p=0.5864\n",
      "PavedDrive: F=1.0011, p=0.4943\n",
      "SaleType: F=0.7709, p=0.9991\n",
      "SaleCondition: F=0.8738, p=0.9481\n",
      "GarageType_NoNull: F=1.6827, p=0.0000\n"
     ]
    }
   ],
   "source": [
    "results = anova_categorical_features(X_train, y_train, categorical_features)"
   ]
  },
  {
   "cell_type": "code",
   "execution_count": 107,
   "id": "1e8b3d3a",
   "metadata": {},
   "outputs": [],
   "source": [
    "# Filter features with p-value < 0.05\n",
    "significant_features_cat = [feature for feature, res in results.items() if res['p-value'] < 0.05]"
   ]
  },
  {
   "cell_type": "code",
   "execution_count": 108,
   "id": "76accef2",
   "metadata": {},
   "outputs": [
    {
     "data": {
      "text/plain": [
       "['MSZoning',\n",
       " 'Street',\n",
       " 'LotShape',\n",
       " 'LandSlope',\n",
       " 'Neighborhood',\n",
       " 'HouseStyle',\n",
       " 'ExterQual',\n",
       " 'Foundation',\n",
       " 'BsmtQual',\n",
       " 'BsmtExposure',\n",
       " 'BsmtFinType1',\n",
       " 'Heating',\n",
       " 'HeatingQC',\n",
       " 'CentralAir',\n",
       " 'KitchenQual',\n",
       " 'FireplaceQu',\n",
       " 'GarageFinish',\n",
       " 'GarageType_NoNull']"
      ]
     },
     "execution_count": 108,
     "metadata": {},
     "output_type": "execute_result"
    }
   ],
   "source": [
    "significant_features_cat"
   ]
  },
  {
   "cell_type": "code",
   "execution_count": 109,
   "id": "b9adbb63",
   "metadata": {},
   "outputs": [
    {
     "data": {
      "text/plain": [
       "(1168, 74)"
      ]
     },
     "execution_count": 109,
     "metadata": {},
     "output_type": "execute_result"
    }
   ],
   "source": [
    "X_train.shape"
   ]
  },
  {
   "cell_type": "code",
   "execution_count": 110,
   "id": "fdadb13c",
   "metadata": {},
   "outputs": [],
   "source": [
    "# drop non-significant features from X_train and X_test\n",
    "X_train = X_train[significant_features_cat + numerical_features]\n",
    "X_test = X_test[significant_features_cat + numerical_features]"
   ]
  },
  {
   "cell_type": "code",
   "execution_count": 111,
   "id": "2848be37",
   "metadata": {},
   "outputs": [
    {
     "data": {
      "text/plain": [
       "(1168, 54)"
      ]
     },
     "execution_count": 111,
     "metadata": {},
     "output_type": "execute_result"
    }
   ],
   "source": [
    "X_train.shape"
   ]
  },
  {
   "cell_type": "code",
   "execution_count": 112,
   "id": "865d2446",
   "metadata": {},
   "outputs": [
    {
     "data": {
      "text/html": [
       "<div>\n",
       "<style scoped>\n",
       "    .dataframe tbody tr th:only-of-type {\n",
       "        vertical-align: middle;\n",
       "    }\n",
       "\n",
       "    .dataframe tbody tr th {\n",
       "        vertical-align: top;\n",
       "    }\n",
       "\n",
       "    .dataframe thead th {\n",
       "        text-align: right;\n",
       "    }\n",
       "</style>\n",
       "<table border=\"1\" class=\"dataframe\">\n",
       "  <thead>\n",
       "    <tr style=\"text-align: right;\">\n",
       "      <th></th>\n",
       "      <th>MSZoning</th>\n",
       "      <th>Street</th>\n",
       "      <th>LotShape</th>\n",
       "      <th>LandSlope</th>\n",
       "      <th>Neighborhood</th>\n",
       "      <th>HouseStyle</th>\n",
       "      <th>ExterQual</th>\n",
       "      <th>Foundation</th>\n",
       "      <th>BsmtQual</th>\n",
       "      <th>BsmtExposure</th>\n",
       "      <th>...</th>\n",
       "      <th>MoSold</th>\n",
       "      <th>YrSold</th>\n",
       "      <th>GarageYrBlt_NoNull</th>\n",
       "      <th>MasVnrArea_NoNull</th>\n",
       "      <th>LotFrontage_capped</th>\n",
       "      <th>LotArea_capped</th>\n",
       "      <th>TotalBsmtSF_capped</th>\n",
       "      <th>GrLivArea_capped</th>\n",
       "      <th>GarageArea_capped</th>\n",
       "      <th>1stFlrSF_capped</th>\n",
       "    </tr>\n",
       "  </thead>\n",
       "  <tbody>\n",
       "    <tr>\n",
       "      <th>254</th>\n",
       "      <td>RL</td>\n",
       "      <td>Pave</td>\n",
       "      <td>Reg</td>\n",
       "      <td>Gtl</td>\n",
       "      <td>NAmes</td>\n",
       "      <td>1Story</td>\n",
       "      <td>TA</td>\n",
       "      <td>CBlock</td>\n",
       "      <td>TA</td>\n",
       "      <td>No</td>\n",
       "      <td>...</td>\n",
       "      <td>6</td>\n",
       "      <td>2010</td>\n",
       "      <td>1957.0</td>\n",
       "      <td>0.0</td>\n",
       "      <td>70.0</td>\n",
       "      <td>8400.0</td>\n",
       "      <td>1314.0</td>\n",
       "      <td>1314.0</td>\n",
       "      <td>294.0</td>\n",
       "      <td>1314.0</td>\n",
       "    </tr>\n",
       "    <tr>\n",
       "      <th>1066</th>\n",
       "      <td>RL</td>\n",
       "      <td>Pave</td>\n",
       "      <td>IR1</td>\n",
       "      <td>Gtl</td>\n",
       "      <td>Gilbert</td>\n",
       "      <td>2Story</td>\n",
       "      <td>Gd</td>\n",
       "      <td>PConc</td>\n",
       "      <td>Gd</td>\n",
       "      <td>No</td>\n",
       "      <td>...</td>\n",
       "      <td>5</td>\n",
       "      <td>2009</td>\n",
       "      <td>1993.0</td>\n",
       "      <td>0.0</td>\n",
       "      <td>59.0</td>\n",
       "      <td>7837.0</td>\n",
       "      <td>799.0</td>\n",
       "      <td>1571.0</td>\n",
       "      <td>380.0</td>\n",
       "      <td>799.0</td>\n",
       "    </tr>\n",
       "    <tr>\n",
       "      <th>638</th>\n",
       "      <td>RL</td>\n",
       "      <td>Pave</td>\n",
       "      <td>Reg</td>\n",
       "      <td>Gtl</td>\n",
       "      <td>Edwards</td>\n",
       "      <td>1Story</td>\n",
       "      <td>TA</td>\n",
       "      <td>CBlock</td>\n",
       "      <td>Fa</td>\n",
       "      <td>No</td>\n",
       "      <td>...</td>\n",
       "      <td>5</td>\n",
       "      <td>2008</td>\n",
       "      <td>2005.0</td>\n",
       "      <td>0.0</td>\n",
       "      <td>67.0</td>\n",
       "      <td>8777.0</td>\n",
       "      <td>796.0</td>\n",
       "      <td>796.0</td>\n",
       "      <td>0.0</td>\n",
       "      <td>796.0</td>\n",
       "    </tr>\n",
       "    <tr>\n",
       "      <th>799</th>\n",
       "      <td>RL</td>\n",
       "      <td>Pave</td>\n",
       "      <td>Reg</td>\n",
       "      <td>Gtl</td>\n",
       "      <td>SWISU</td>\n",
       "      <td>1.5Fin</td>\n",
       "      <td>TA</td>\n",
       "      <td>BrkTil</td>\n",
       "      <td>Gd</td>\n",
       "      <td>No</td>\n",
       "      <td>...</td>\n",
       "      <td>6</td>\n",
       "      <td>2007</td>\n",
       "      <td>1939.0</td>\n",
       "      <td>252.0</td>\n",
       "      <td>60.0</td>\n",
       "      <td>7200.0</td>\n",
       "      <td>731.0</td>\n",
       "      <td>1768.0</td>\n",
       "      <td>240.0</td>\n",
       "      <td>981.0</td>\n",
       "    </tr>\n",
       "    <tr>\n",
       "      <th>380</th>\n",
       "      <td>RL</td>\n",
       "      <td>Pave</td>\n",
       "      <td>Reg</td>\n",
       "      <td>Gtl</td>\n",
       "      <td>SWISU</td>\n",
       "      <td>1.5Fin</td>\n",
       "      <td>TA</td>\n",
       "      <td>BrkTil</td>\n",
       "      <td>TA</td>\n",
       "      <td>No</td>\n",
       "      <td>...</td>\n",
       "      <td>5</td>\n",
       "      <td>2010</td>\n",
       "      <td>1924.0</td>\n",
       "      <td>0.0</td>\n",
       "      <td>50.0</td>\n",
       "      <td>5000.0</td>\n",
       "      <td>1026.0</td>\n",
       "      <td>1691.0</td>\n",
       "      <td>308.0</td>\n",
       "      <td>1026.0</td>\n",
       "    </tr>\n",
       "  </tbody>\n",
       "</table>\n",
       "<p>5 rows × 54 columns</p>\n",
       "</div>"
      ],
      "text/plain": [
       "     MSZoning Street LotShape LandSlope Neighborhood HouseStyle ExterQual  \\\n",
       "254        RL   Pave      Reg       Gtl        NAmes     1Story        TA   \n",
       "1066       RL   Pave      IR1       Gtl      Gilbert     2Story        Gd   \n",
       "638        RL   Pave      Reg       Gtl      Edwards     1Story        TA   \n",
       "799        RL   Pave      Reg       Gtl        SWISU     1.5Fin        TA   \n",
       "380        RL   Pave      Reg       Gtl        SWISU     1.5Fin        TA   \n",
       "\n",
       "     Foundation BsmtQual BsmtExposure  ... MoSold YrSold GarageYrBlt_NoNull  \\\n",
       "254      CBlock       TA           No  ...      6   2010             1957.0   \n",
       "1066      PConc       Gd           No  ...      5   2009             1993.0   \n",
       "638      CBlock       Fa           No  ...      5   2008             2005.0   \n",
       "799      BrkTil       Gd           No  ...      6   2007             1939.0   \n",
       "380      BrkTil       TA           No  ...      5   2010             1924.0   \n",
       "\n",
       "     MasVnrArea_NoNull LotFrontage_capped LotArea_capped TotalBsmtSF_capped  \\\n",
       "254                0.0               70.0         8400.0             1314.0   \n",
       "1066               0.0               59.0         7837.0              799.0   \n",
       "638                0.0               67.0         8777.0              796.0   \n",
       "799              252.0               60.0         7200.0              731.0   \n",
       "380                0.0               50.0         5000.0             1026.0   \n",
       "\n",
       "     GrLivArea_capped  GarageArea_capped  1stFlrSF_capped  \n",
       "254            1314.0              294.0           1314.0  \n",
       "1066           1571.0              380.0            799.0  \n",
       "638             796.0                0.0            796.0  \n",
       "799            1768.0              240.0            981.0  \n",
       "380            1691.0              308.0           1026.0  \n",
       "\n",
       "[5 rows x 54 columns]"
      ]
     },
     "execution_count": 112,
     "metadata": {},
     "output_type": "execute_result"
    }
   ],
   "source": [
    "X_train.head()"
   ]
  },
  {
   "cell_type": "markdown",
   "id": "d9a850a6",
   "metadata": {},
   "source": [
    "# pearsonr, spearmanr"
   ]
  },
  {
   "cell_type": "code",
   "execution_count": 113,
   "id": "69a6289a",
   "metadata": {},
   "outputs": [
    {
     "data": {
      "text/plain": [
       "['Id',\n",
       " 'MSSubClass',\n",
       " 'OverallQual',\n",
       " 'OverallCond',\n",
       " 'YearBuilt',\n",
       " 'YearRemodAdd',\n",
       " 'BsmtFinSF1',\n",
       " 'BsmtFinSF2',\n",
       " 'BsmtUnfSF',\n",
       " '2ndFlrSF',\n",
       " 'LowQualFinSF',\n",
       " 'BsmtFullBath',\n",
       " 'BsmtHalfBath',\n",
       " 'FullBath',\n",
       " 'HalfBath',\n",
       " 'BedroomAbvGr',\n",
       " 'KitchenAbvGr',\n",
       " 'TotRmsAbvGrd',\n",
       " 'Fireplaces',\n",
       " 'GarageCars',\n",
       " 'WoodDeckSF',\n",
       " 'OpenPorchSF',\n",
       " 'EnclosedPorch',\n",
       " '3SsnPorch',\n",
       " 'ScreenPorch',\n",
       " 'MiscVal',\n",
       " 'MoSold',\n",
       " 'YrSold',\n",
       " 'GarageYrBlt_NoNull',\n",
       " 'MasVnrArea_NoNull',\n",
       " 'LotFrontage_capped',\n",
       " 'LotArea_capped',\n",
       " 'TotalBsmtSF_capped',\n",
       " 'GrLivArea_capped',\n",
       " 'GarageArea_capped',\n",
       " '1stFlrSF_capped']"
      ]
     },
     "execution_count": 113,
     "metadata": {},
     "output_type": "execute_result"
    }
   ],
   "source": [
    "numerical_features"
   ]
  },
  {
   "cell_type": "code",
   "execution_count": 114,
   "id": "26089df5",
   "metadata": {},
   "outputs": [
    {
     "data": {
      "text/plain": [
       "0       208500\n",
       "1       181500\n",
       "2       223500\n",
       "3       140000\n",
       "4       250000\n",
       "         ...  \n",
       "1455    175000\n",
       "1456    210000\n",
       "1457    266500\n",
       "1458    142125\n",
       "1459    147500\n",
       "Name: SalePrice, Length: 1460, dtype: int64"
      ]
     },
     "execution_count": 114,
     "metadata": {},
     "output_type": "execute_result"
    }
   ],
   "source": [
    "y"
   ]
  },
  {
   "cell_type": "code",
   "execution_count": 115,
   "id": "c273e394",
   "metadata": {},
   "outputs": [
    {
     "data": {
      "text/html": [
       "<div>\n",
       "<style scoped>\n",
       "    .dataframe tbody tr th:only-of-type {\n",
       "        vertical-align: middle;\n",
       "    }\n",
       "\n",
       "    .dataframe tbody tr th {\n",
       "        vertical-align: top;\n",
       "    }\n",
       "\n",
       "    .dataframe thead th {\n",
       "        text-align: right;\n",
       "    }\n",
       "</style>\n",
       "<table border=\"1\" class=\"dataframe\">\n",
       "  <thead>\n",
       "    <tr style=\"text-align: right;\">\n",
       "      <th></th>\n",
       "      <th>Feature</th>\n",
       "      <th>Pearson Correlation</th>\n",
       "      <th>Pearson P-value</th>\n",
       "      <th>Spearman Correlation</th>\n",
       "      <th>Spearman P-value</th>\n",
       "      <th>Pearson Significant (p&lt;0.05)</th>\n",
       "      <th>Spearman Significant (p&lt;0.05)</th>\n",
       "    </tr>\n",
       "  </thead>\n",
       "  <tbody>\n",
       "    <tr>\n",
       "      <th>2</th>\n",
       "      <td>OverallQual</td>\n",
       "      <td>0.785555</td>\n",
       "      <td>2.596140e-245</td>\n",
       "      <td>0.801016</td>\n",
       "      <td>4.393571e-262</td>\n",
       "      <td>True</td>\n",
       "      <td>True</td>\n",
       "    </tr>\n",
       "    <tr>\n",
       "      <th>33</th>\n",
       "      <td>GrLivArea_capped</td>\n",
       "      <td>0.705882</td>\n",
       "      <td>7.824090e-177</td>\n",
       "      <td>0.723462</td>\n",
       "      <td>7.481305e-190</td>\n",
       "      <td>True</td>\n",
       "      <td>True</td>\n",
       "    </tr>\n",
       "    <tr>\n",
       "      <th>19</th>\n",
       "      <td>GarageCars</td>\n",
       "      <td>0.640991</td>\n",
       "      <td>3.931616e-136</td>\n",
       "      <td>0.686763</td>\n",
       "      <td>9.944780e-164</td>\n",
       "      <td>True</td>\n",
       "      <td>True</td>\n",
       "    </tr>\n",
       "    <tr>\n",
       "      <th>32</th>\n",
       "      <td>TotalBsmtSF_capped</td>\n",
       "      <td>0.629145</td>\n",
       "      <td>9.721332e-130</td>\n",
       "      <td>0.595039</td>\n",
       "      <td>8.524088e-113</td>\n",
       "      <td>True</td>\n",
       "      <td>True</td>\n",
       "    </tr>\n",
       "    <tr>\n",
       "      <th>34</th>\n",
       "      <td>GarageArea_capped</td>\n",
       "      <td>0.628319</td>\n",
       "      <td>2.649247e-129</td>\n",
       "      <td>0.638711</td>\n",
       "      <td>7.031420e-135</td>\n",
       "      <td>True</td>\n",
       "      <td>True</td>\n",
       "    </tr>\n",
       "    <tr>\n",
       "      <th>35</th>\n",
       "      <td>1stFlrSF_capped</td>\n",
       "      <td>0.606657</td>\n",
       "      <td>2.454636e-118</td>\n",
       "      <td>0.566285</td>\n",
       "      <td>5.183359e-100</td>\n",
       "      <td>True</td>\n",
       "      <td>True</td>\n",
       "    </tr>\n",
       "    <tr>\n",
       "      <th>13</th>\n",
       "      <td>FullBath</td>\n",
       "      <td>0.552546</td>\n",
       "      <td>2.457699e-94</td>\n",
       "      <td>0.625567</td>\n",
       "      <td>7.325603e-128</td>\n",
       "      <td>True</td>\n",
       "      <td>True</td>\n",
       "    </tr>\n",
       "    <tr>\n",
       "      <th>17</th>\n",
       "      <td>TotRmsAbvGrd</td>\n",
       "      <td>0.520388</td>\n",
       "      <td>4.890384e-82</td>\n",
       "      <td>0.520834</td>\n",
       "      <td>3.371573e-82</td>\n",
       "      <td>True</td>\n",
       "      <td>True</td>\n",
       "    </tr>\n",
       "    <tr>\n",
       "      <th>4</th>\n",
       "      <td>YearBuilt</td>\n",
       "      <td>0.516501</td>\n",
       "      <td>1.225755e-80</td>\n",
       "      <td>0.643216</td>\n",
       "      <td>2.302134e-137</td>\n",
       "      <td>True</td>\n",
       "      <td>True</td>\n",
       "    </tr>\n",
       "    <tr>\n",
       "      <th>5</th>\n",
       "      <td>YearRemodAdd</td>\n",
       "      <td>0.508593</td>\n",
       "      <td>7.567351e-78</td>\n",
       "      <td>0.562948</td>\n",
       "      <td>1.311313e-98</td>\n",
       "      <td>True</td>\n",
       "      <td>True</td>\n",
       "    </tr>\n",
       "    <tr>\n",
       "      <th>29</th>\n",
       "      <td>MasVnrArea_NoNull</td>\n",
       "      <td>0.457608</td>\n",
       "      <td>1.636095e-61</td>\n",
       "      <td>0.400172</td>\n",
       "      <td>3.780580e-46</td>\n",
       "      <td>True</td>\n",
       "      <td>True</td>\n",
       "    </tr>\n",
       "    <tr>\n",
       "      <th>18</th>\n",
       "      <td>Fireplaces</td>\n",
       "      <td>0.457549</td>\n",
       "      <td>1.702416e-61</td>\n",
       "      <td>0.513571</td>\n",
       "      <td>1.351303e-79</td>\n",
       "      <td>True</td>\n",
       "      <td>True</td>\n",
       "    </tr>\n",
       "    <tr>\n",
       "      <th>31</th>\n",
       "      <td>LotArea_capped</td>\n",
       "      <td>0.406206</td>\n",
       "      <td>1.259502e-47</td>\n",
       "      <td>0.463610</td>\n",
       "      <td>2.700016e-63</td>\n",
       "      <td>True</td>\n",
       "      <td>True</td>\n",
       "    </tr>\n",
       "    <tr>\n",
       "      <th>28</th>\n",
       "      <td>GarageYrBlt_NoNull</td>\n",
       "      <td>0.389268</td>\n",
       "      <td>1.483993e-43</td>\n",
       "      <td>0.439261</td>\n",
       "      <td>2.800643e-56</td>\n",
       "      <td>True</td>\n",
       "      <td>True</td>\n",
       "    </tr>\n",
       "    <tr>\n",
       "      <th>30</th>\n",
       "      <td>LotFrontage_capped</td>\n",
       "      <td>0.362553</td>\n",
       "      <td>6.460769e-31</td>\n",
       "      <td>0.390156</td>\n",
       "      <td>6.157027e-36</td>\n",
       "      <td>True</td>\n",
       "      <td>True</td>\n",
       "    </tr>\n",
       "    <tr>\n",
       "      <th>6</th>\n",
       "      <td>BsmtFinSF1</td>\n",
       "      <td>0.359460</td>\n",
       "      <td>6.017958e-37</td>\n",
       "      <td>0.270418</td>\n",
       "      <td>5.069513e-21</td>\n",
       "      <td>True</td>\n",
       "      <td>True</td>\n",
       "    </tr>\n",
       "    <tr>\n",
       "      <th>20</th>\n",
       "      <td>WoodDeckSF</td>\n",
       "      <td>0.329843</td>\n",
       "      <td>4.827624e-31</td>\n",
       "      <td>0.372022</td>\n",
       "      <td>1.198997e-39</td>\n",
       "      <td>True</td>\n",
       "      <td>True</td>\n",
       "    </tr>\n",
       "    <tr>\n",
       "      <th>9</th>\n",
       "      <td>2ndFlrSF</td>\n",
       "      <td>0.314030</td>\n",
       "      <td>3.810251e-28</td>\n",
       "      <td>0.286169</td>\n",
       "      <td>1.882088e-23</td>\n",
       "      <td>True</td>\n",
       "      <td>True</td>\n",
       "    </tr>\n",
       "    <tr>\n",
       "      <th>21</th>\n",
       "      <td>OpenPorchSF</td>\n",
       "      <td>0.299969</td>\n",
       "      <td>1.032805e-25</td>\n",
       "      <td>0.475361</td>\n",
       "      <td>6.867190e-67</td>\n",
       "      <td>True</td>\n",
       "      <td>True</td>\n",
       "    </tr>\n",
       "    <tr>\n",
       "      <th>14</th>\n",
       "      <td>HalfBath</td>\n",
       "      <td>0.280481</td>\n",
       "      <td>1.480975e-22</td>\n",
       "      <td>0.338142</td>\n",
       "      <td>1.239466e-32</td>\n",
       "      <td>True</td>\n",
       "      <td>True</td>\n",
       "    </tr>\n",
       "    <tr>\n",
       "      <th>11</th>\n",
       "      <td>BsmtFullBath</td>\n",
       "      <td>0.226346</td>\n",
       "      <td>4.911938e-15</td>\n",
       "      <td>0.207373</td>\n",
       "      <td>8.214871e-13</td>\n",
       "      <td>True</td>\n",
       "      <td>True</td>\n",
       "    </tr>\n",
       "    <tr>\n",
       "      <th>8</th>\n",
       "      <td>BsmtUnfSF</td>\n",
       "      <td>0.222487</td>\n",
       "      <td>1.446395e-14</td>\n",
       "      <td>0.201681</td>\n",
       "      <td>3.478749e-12</td>\n",
       "      <td>True</td>\n",
       "      <td>True</td>\n",
       "    </tr>\n",
       "    <tr>\n",
       "      <th>15</th>\n",
       "      <td>BedroomAbvGr</td>\n",
       "      <td>0.156211</td>\n",
       "      <td>8.053917e-08</td>\n",
       "      <td>0.224264</td>\n",
       "      <td>8.818070e-15</td>\n",
       "      <td>True</td>\n",
       "      <td>True</td>\n",
       "    </tr>\n",
       "    <tr>\n",
       "      <th>22</th>\n",
       "      <td>EnclosedPorch</td>\n",
       "      <td>-0.149532</td>\n",
       "      <td>2.839378e-07</td>\n",
       "      <td>-0.235771</td>\n",
       "      <td>3.229359e-16</td>\n",
       "      <td>True</td>\n",
       "      <td>True</td>\n",
       "    </tr>\n",
       "    <tr>\n",
       "      <th>16</th>\n",
       "      <td>KitchenAbvGr</td>\n",
       "      <td>-0.142785</td>\n",
       "      <td>9.597516e-07</td>\n",
       "      <td>-0.171165</td>\n",
       "      <td>3.933786e-09</td>\n",
       "      <td>True</td>\n",
       "      <td>True</td>\n",
       "    </tr>\n",
       "    <tr>\n",
       "      <th>24</th>\n",
       "      <td>ScreenPorch</td>\n",
       "      <td>0.119172</td>\n",
       "      <td>4.445292e-05</td>\n",
       "      <td>0.097627</td>\n",
       "      <td>8.350267e-04</td>\n",
       "      <td>True</td>\n",
       "      <td>True</td>\n",
       "    </tr>\n",
       "    <tr>\n",
       "      <th>1</th>\n",
       "      <td>MSSubClass</td>\n",
       "      <td>-0.088081</td>\n",
       "      <td>2.587585e-03</td>\n",
       "      <td>0.007575</td>\n",
       "      <td>7.959373e-01</td>\n",
       "      <td>True</td>\n",
       "      <td>False</td>\n",
       "    </tr>\n",
       "    <tr>\n",
       "      <th>3</th>\n",
       "      <td>OverallCond</td>\n",
       "      <td>-0.074391</td>\n",
       "      <td>1.098427e-02</td>\n",
       "      <td>-0.124019</td>\n",
       "      <td>2.134307e-05</td>\n",
       "      <td>True</td>\n",
       "      <td>True</td>\n",
       "    </tr>\n",
       "    <tr>\n",
       "      <th>23</th>\n",
       "      <td>3SsnPorch</td>\n",
       "      <td>0.051532</td>\n",
       "      <td>7.833516e-02</td>\n",
       "      <td>0.068058</td>\n",
       "      <td>2.000978e-02</td>\n",
       "      <td>False</td>\n",
       "      <td>True</td>\n",
       "    </tr>\n",
       "    <tr>\n",
       "      <th>12</th>\n",
       "      <td>BsmtHalfBath</td>\n",
       "      <td>-0.048346</td>\n",
       "      <td>9.864184e-02</td>\n",
       "      <td>-0.033013</td>\n",
       "      <td>2.595975e-01</td>\n",
       "      <td>False</td>\n",
       "      <td>False</td>\n",
       "    </tr>\n",
       "    <tr>\n",
       "      <th>26</th>\n",
       "      <td>MoSold</td>\n",
       "      <td>0.041890</td>\n",
       "      <td>1.525087e-01</td>\n",
       "      <td>0.065799</td>\n",
       "      <td>2.452709e-02</td>\n",
       "      <td>False</td>\n",
       "      <td>True</td>\n",
       "    </tr>\n",
       "    <tr>\n",
       "      <th>25</th>\n",
       "      <td>MiscVal</td>\n",
       "      <td>-0.020179</td>\n",
       "      <td>4.908524e-01</td>\n",
       "      <td>-0.039610</td>\n",
       "      <td>1.761239e-01</td>\n",
       "      <td>False</td>\n",
       "      <td>False</td>\n",
       "    </tr>\n",
       "    <tr>\n",
       "      <th>0</th>\n",
       "      <td>Id</td>\n",
       "      <td>-0.019643</td>\n",
       "      <td>5.024397e-01</td>\n",
       "      <td>-0.014570</td>\n",
       "      <td>6.188727e-01</td>\n",
       "      <td>False</td>\n",
       "      <td>False</td>\n",
       "    </tr>\n",
       "    <tr>\n",
       "      <th>10</th>\n",
       "      <td>LowQualFinSF</td>\n",
       "      <td>-0.011189</td>\n",
       "      <td>7.024579e-01</td>\n",
       "      <td>-0.054863</td>\n",
       "      <td>6.087265e-02</td>\n",
       "      <td>False</td>\n",
       "      <td>False</td>\n",
       "    </tr>\n",
       "    <tr>\n",
       "      <th>27</th>\n",
       "      <td>YrSold</td>\n",
       "      <td>-0.009099</td>\n",
       "      <td>7.560708e-01</td>\n",
       "      <td>-0.008944</td>\n",
       "      <td>7.600893e-01</td>\n",
       "      <td>False</td>\n",
       "      <td>False</td>\n",
       "    </tr>\n",
       "    <tr>\n",
       "      <th>7</th>\n",
       "      <td>BsmtFinSF2</td>\n",
       "      <td>-0.005731</td>\n",
       "      <td>8.448794e-01</td>\n",
       "      <td>-0.025305</td>\n",
       "      <td>3.875590e-01</td>\n",
       "      <td>False</td>\n",
       "      <td>False</td>\n",
       "    </tr>\n",
       "  </tbody>\n",
       "</table>\n",
       "</div>"
      ],
      "text/plain": [
       "               Feature  Pearson Correlation  Pearson P-value  \\\n",
       "2          OverallQual             0.785555    2.596140e-245   \n",
       "33    GrLivArea_capped             0.705882    7.824090e-177   \n",
       "19          GarageCars             0.640991    3.931616e-136   \n",
       "32  TotalBsmtSF_capped             0.629145    9.721332e-130   \n",
       "34   GarageArea_capped             0.628319    2.649247e-129   \n",
       "35     1stFlrSF_capped             0.606657    2.454636e-118   \n",
       "13            FullBath             0.552546     2.457699e-94   \n",
       "17        TotRmsAbvGrd             0.520388     4.890384e-82   \n",
       "4            YearBuilt             0.516501     1.225755e-80   \n",
       "5         YearRemodAdd             0.508593     7.567351e-78   \n",
       "29   MasVnrArea_NoNull             0.457608     1.636095e-61   \n",
       "18          Fireplaces             0.457549     1.702416e-61   \n",
       "31      LotArea_capped             0.406206     1.259502e-47   \n",
       "28  GarageYrBlt_NoNull             0.389268     1.483993e-43   \n",
       "30  LotFrontage_capped             0.362553     6.460769e-31   \n",
       "6           BsmtFinSF1             0.359460     6.017958e-37   \n",
       "20          WoodDeckSF             0.329843     4.827624e-31   \n",
       "9             2ndFlrSF             0.314030     3.810251e-28   \n",
       "21         OpenPorchSF             0.299969     1.032805e-25   \n",
       "14            HalfBath             0.280481     1.480975e-22   \n",
       "11        BsmtFullBath             0.226346     4.911938e-15   \n",
       "8            BsmtUnfSF             0.222487     1.446395e-14   \n",
       "15        BedroomAbvGr             0.156211     8.053917e-08   \n",
       "22       EnclosedPorch            -0.149532     2.839378e-07   \n",
       "16        KitchenAbvGr            -0.142785     9.597516e-07   \n",
       "24         ScreenPorch             0.119172     4.445292e-05   \n",
       "1           MSSubClass            -0.088081     2.587585e-03   \n",
       "3          OverallCond            -0.074391     1.098427e-02   \n",
       "23           3SsnPorch             0.051532     7.833516e-02   \n",
       "12        BsmtHalfBath            -0.048346     9.864184e-02   \n",
       "26              MoSold             0.041890     1.525087e-01   \n",
       "25             MiscVal            -0.020179     4.908524e-01   \n",
       "0                   Id            -0.019643     5.024397e-01   \n",
       "10        LowQualFinSF            -0.011189     7.024579e-01   \n",
       "27              YrSold            -0.009099     7.560708e-01   \n",
       "7           BsmtFinSF2            -0.005731     8.448794e-01   \n",
       "\n",
       "    Spearman Correlation  Spearman P-value  Pearson Significant (p<0.05)  \\\n",
       "2               0.801016     4.393571e-262                          True   \n",
       "33              0.723462     7.481305e-190                          True   \n",
       "19              0.686763     9.944780e-164                          True   \n",
       "32              0.595039     8.524088e-113                          True   \n",
       "34              0.638711     7.031420e-135                          True   \n",
       "35              0.566285     5.183359e-100                          True   \n",
       "13              0.625567     7.325603e-128                          True   \n",
       "17              0.520834      3.371573e-82                          True   \n",
       "4               0.643216     2.302134e-137                          True   \n",
       "5               0.562948      1.311313e-98                          True   \n",
       "29              0.400172      3.780580e-46                          True   \n",
       "18              0.513571      1.351303e-79                          True   \n",
       "31              0.463610      2.700016e-63                          True   \n",
       "28              0.439261      2.800643e-56                          True   \n",
       "30              0.390156      6.157027e-36                          True   \n",
       "6               0.270418      5.069513e-21                          True   \n",
       "20              0.372022      1.198997e-39                          True   \n",
       "9               0.286169      1.882088e-23                          True   \n",
       "21              0.475361      6.867190e-67                          True   \n",
       "14              0.338142      1.239466e-32                          True   \n",
       "11              0.207373      8.214871e-13                          True   \n",
       "8               0.201681      3.478749e-12                          True   \n",
       "15              0.224264      8.818070e-15                          True   \n",
       "22             -0.235771      3.229359e-16                          True   \n",
       "16             -0.171165      3.933786e-09                          True   \n",
       "24              0.097627      8.350267e-04                          True   \n",
       "1               0.007575      7.959373e-01                          True   \n",
       "3              -0.124019      2.134307e-05                          True   \n",
       "23              0.068058      2.000978e-02                         False   \n",
       "12             -0.033013      2.595975e-01                         False   \n",
       "26              0.065799      2.452709e-02                         False   \n",
       "25             -0.039610      1.761239e-01                         False   \n",
       "0              -0.014570      6.188727e-01                         False   \n",
       "10             -0.054863      6.087265e-02                         False   \n",
       "27             -0.008944      7.600893e-01                         False   \n",
       "7              -0.025305      3.875590e-01                         False   \n",
       "\n",
       "    Spearman Significant (p<0.05)  \n",
       "2                            True  \n",
       "33                           True  \n",
       "19                           True  \n",
       "32                           True  \n",
       "34                           True  \n",
       "35                           True  \n",
       "13                           True  \n",
       "17                           True  \n",
       "4                            True  \n",
       "5                            True  \n",
       "29                           True  \n",
       "18                           True  \n",
       "31                           True  \n",
       "28                           True  \n",
       "30                           True  \n",
       "6                            True  \n",
       "20                           True  \n",
       "9                            True  \n",
       "21                           True  \n",
       "14                           True  \n",
       "11                           True  \n",
       "8                            True  \n",
       "15                           True  \n",
       "22                           True  \n",
       "16                           True  \n",
       "24                           True  \n",
       "1                           False  \n",
       "3                            True  \n",
       "23                           True  \n",
       "12                          False  \n",
       "26                           True  \n",
       "25                          False  \n",
       "0                           False  \n",
       "10                          False  \n",
       "27                          False  \n",
       "7                           False  "
      ]
     },
     "execution_count": 115,
     "metadata": {},
     "output_type": "execute_result"
    }
   ],
   "source": [
    "from scipy.stats import pearsonr, spearmanr\n",
    "import pandas as pd\n",
    "\n",
    "results = []\n",
    "\n",
    "for col in numerical_features:\n",
    "    # Drop NaN safely for this column + target\n",
    "    valid_data = X_train[[col]].join(y).dropna()\n",
    "    x = valid_data[col]\n",
    "    target = valid_data[y.name] # Ensure target is a Series\n",
    "\n",
    "    # Pearson correlation (linear)\n",
    "    pearson_corr, pearson_p = pearsonr(x, target)\n",
    "\n",
    "    # Spearman correlation (rank-based, for non-linear monotonic)\n",
    "    spearman_corr, spearman_p = spearmanr(x, target)\n",
    "\n",
    "    results.append({\n",
    "        'Feature': col,\n",
    "        'Pearson Correlation': pearson_corr,\n",
    "        'Pearson P-value': pearson_p,\n",
    "        'Spearman Correlation': spearman_corr,\n",
    "        'Spearman P-value': spearman_p\n",
    "    })\n",
    "\n",
    "# Convert to DataFrame\n",
    "corr_df = pd.DataFrame(results)\n",
    "\n",
    "# Add flags for significance\n",
    "corr_df['Pearson Significant (p<0.05)'] = corr_df['Pearson P-value'] < 0.05\n",
    "corr_df['Spearman Significant (p<0.05)'] = corr_df['Spearman P-value'] < 0.05\n",
    "\n",
    "# Sort by absolute correlation strength\n",
    "corr_df = corr_df.sort_values(by='Pearson Correlation', key=lambda x: abs(x), ascending=False)\n",
    "\n",
    "corr_df\n"
   ]
  },
  {
   "cell_type": "code",
   "execution_count": 116,
   "id": "e75ddafc",
   "metadata": {},
   "outputs": [
    {
     "name": "stdout",
     "output_type": "stream",
     "text": [
      "\n",
      "✅ Significant numerical features correlated with target: ['OverallQual', 'GrLivArea_capped', 'GarageCars', 'TotalBsmtSF_capped', 'GarageArea_capped', '1stFlrSF_capped', 'FullBath', 'TotRmsAbvGrd', 'YearBuilt', 'YearRemodAdd', 'MasVnrArea_NoNull', 'Fireplaces', 'LotArea_capped', 'GarageYrBlt_NoNull', 'LotFrontage_capped', 'BsmtFinSF1', 'WoodDeckSF', '2ndFlrSF', 'OpenPorchSF', 'HalfBath', 'BsmtFullBath', 'BsmtUnfSF', 'BedroomAbvGr', 'EnclosedPorch', 'KitchenAbvGr', 'ScreenPorch', 'MSSubClass', 'OverallCond']\n"
     ]
    }
   ],
   "source": [
    "# Optional: show only significant features\n",
    "significant_features_num = corr_df[corr_df['Pearson P-value'] < 0.05]['Feature'].tolist()\n",
    "print(\"\\n✅ Significant numerical features correlated with target:\", significant_features_num)"
   ]
  },
  {
   "cell_type": "code",
   "execution_count": 117,
   "id": "0dee4ec0",
   "metadata": {},
   "outputs": [
    {
     "data": {
      "text/plain": [
       "(1168, 54)"
      ]
     },
     "execution_count": 117,
     "metadata": {},
     "output_type": "execute_result"
    }
   ],
   "source": [
    "X_train.shape"
   ]
  },
  {
   "cell_type": "code",
   "execution_count": 118,
   "id": "5ff0d227",
   "metadata": {},
   "outputs": [],
   "source": [
    "# drop non-significant features from X_train and X_test\n",
    "X_train = X_train[significant_features_num + significant_features_cat]\n",
    "X_test = X_test[significant_features_num + significant_features_cat]"
   ]
  },
  {
   "cell_type": "code",
   "execution_count": 119,
   "id": "3370fde1",
   "metadata": {},
   "outputs": [
    {
     "data": {
      "text/plain": [
       "(1168, 46)"
      ]
     },
     "execution_count": 119,
     "metadata": {},
     "output_type": "execute_result"
    }
   ],
   "source": [
    "X_train.shape"
   ]
  },
  {
   "cell_type": "code",
   "execution_count": 120,
   "id": "afc692bd",
   "metadata": {},
   "outputs": [],
   "source": [
    "numerical_features = X_train.select_dtypes(include=['int64', 'float64']).columns"
   ]
  },
  {
   "cell_type": "code",
   "execution_count": 121,
   "id": "97d9840b",
   "metadata": {},
   "outputs": [
    {
     "data": {
      "text/plain": [
       "(28,)"
      ]
     },
     "execution_count": 121,
     "metadata": {},
     "output_type": "execute_result"
    }
   ],
   "source": [
    "numerical_features.shape"
   ]
  },
  {
   "cell_type": "code",
   "execution_count": 122,
   "id": "2155d60b",
   "metadata": {},
   "outputs": [
    {
     "name": "stdout",
     "output_type": "stream",
     "text": [
      "               feature  importance\n",
      "0          OverallQual    0.563385\n",
      "1     GrLivArea_capped    0.123067\n",
      "3   TotalBsmtSF_capped    0.037274\n",
      "17            2ndFlrSF    0.037130\n",
      "15          BsmtFinSF1    0.035071\n",
      "5      1stFlrSF_capped    0.028981\n",
      "12      LotArea_capped    0.021456\n",
      "4    GarageArea_capped    0.019566\n",
      "8            YearBuilt    0.018723\n",
      "14  LotFrontage_capped    0.015906\n",
      "2           GarageCars    0.014178\n",
      "18         OpenPorchSF    0.010663\n",
      "9         YearRemodAdd    0.010593\n",
      "7         TotRmsAbvGrd    0.008067\n",
      "13  GarageYrBlt_NoNull    0.007541\n",
      "21           BsmtUnfSF    0.006938\n",
      "16          WoodDeckSF    0.006308\n",
      "6             FullBath    0.006095\n",
      "27         OverallCond    0.005690\n",
      "10   MasVnrArea_NoNull    0.005257\n",
      "11          Fireplaces    0.003856\n",
      "26          MSSubClass    0.003795\n",
      "25         ScreenPorch    0.003612\n",
      "22        BedroomAbvGr    0.002063\n",
      "19            HalfBath    0.001376\n",
      "23       EnclosedPorch    0.001281\n",
      "24        KitchenAbvGr    0.001067\n",
      "20        BsmtFullBath    0.001060\n"
     ]
    }
   ],
   "source": [
    "from sklearn.ensemble import RandomForestRegressor\n",
    "\n",
    "# dropping categorical feature from training for feature importance analysis\n",
    "X_train_num = X_train[numerical_features]\n",
    "\n",
    "# Train model with both features\n",
    "rf = RandomForestRegressor(random_state=42)\n",
    "rf.fit(X_train_num, y_train)\n",
    "\n",
    "# Get feature importances\n",
    "importances = pd.DataFrame({\n",
    "    'feature': X_train_num.columns,\n",
    "    'importance': rf.feature_importances_\n",
    "}).sort_values('importance', ascending=False)\n",
    "\n",
    "print(importances)"
   ]
  },
  {
   "cell_type": "code",
   "execution_count": 123,
   "id": "ed8e7fe9",
   "metadata": {},
   "outputs": [],
   "source": [
    "# Calculate cumulative importance\n",
    "importances['cumulative'] = importances['importance'].cumsum()\n",
    "\n",
    "# Select features that together explain up to 95% of total importance\n",
    "threshold = 0.95\n",
    "keep_features = importances[importances['cumulative'] <= threshold]['feature'].tolist()\n",
    "\n",
    "# Include the next feature that pushes cumulative importance over 95%\n",
    "if importances.loc[len(keep_features), 'cumulative'] <= 1.0:\n",
    "    keep_features = importances.loc[:len(keep_features), 'feature'].tolist()\n",
    "\n",
    "# Create reduced training set\n",
    "X_train_reduced = X_train_num[keep_features]"
   ]
  },
  {
   "cell_type": "code",
   "execution_count": 124,
   "id": "a1109573",
   "metadata": {},
   "outputs": [
    {
     "name": "stdout",
     "output_type": "stream",
     "text": [
      "Selected 10 features out of 28\n",
      "Kept features:\n",
      " ['OverallQual', 'GrLivArea_capped', 'TotalBsmtSF_capped', '2ndFlrSF', 'BsmtFinSF1', '1stFlrSF_capped', 'LotArea_capped', 'GarageArea_capped', 'YearBuilt', 'LotFrontage_capped']\n",
      "\n",
      "Dropped features:\n",
      " ['GarageCars', 'OpenPorchSF', 'YearRemodAdd', 'TotRmsAbvGrd', 'GarageYrBlt_NoNull', 'BsmtUnfSF', 'WoodDeckSF', 'FullBath', 'OverallCond', 'MasVnrArea_NoNull', 'Fireplaces', 'MSSubClass', 'ScreenPorch', 'BedroomAbvGr', 'HalfBath', 'EnclosedPorch', 'KitchenAbvGr', 'BsmtFullBath']\n"
     ]
    }
   ],
   "source": [
    "#print which features are kept or dropped\n",
    "print(f\"Selected {len(keep_features)} features out of {len(importances)}\")\n",
    "print(\"Kept features:\\n\", keep_features)\n",
    "print(\"\\nDropped features:\\n\", [f for f in importances['feature'] if f not in keep_features])"
   ]
  },
  {
   "cell_type": "code",
   "execution_count": 125,
   "id": "0c0a01ed",
   "metadata": {},
   "outputs": [],
   "source": [
    "# reducing test set accordingly\n",
    "X_test_num = X_test[numerical_features]\n",
    "X_test_reduced = X_test_num[keep_features]"
   ]
  },
  {
   "cell_type": "code",
   "execution_count": 126,
   "id": "e84f36a8",
   "metadata": {},
   "outputs": [
    {
     "data": {
      "text/plain": [
       "((1168, 46), (1168, 10), (292, 46), (292, 10))"
      ]
     },
     "execution_count": 126,
     "metadata": {},
     "output_type": "execute_result"
    }
   ],
   "source": [
    "X_train.shape , X_train_reduced.shape, X_test.shape , X_test_reduced.shape"
   ]
  },
  {
   "cell_type": "code",
   "execution_count": 127,
   "id": "0d2e03b8",
   "metadata": {},
   "outputs": [],
   "source": [
    "# dropping numerical features from X_train and X_test\n",
    "X_train = X_train.drop(columns=numerical_features)\n",
    "X_test = X_test.drop(columns=numerical_features)"
   ]
  },
  {
   "cell_type": "code",
   "execution_count": 128,
   "id": "7c35e60b",
   "metadata": {},
   "outputs": [],
   "source": [
    "# concatenate reduced numerical features back to X_train and X_test\n",
    "X_train = pd.concat([X_train, X_train_reduced], axis=1)\n",
    "X_test = pd.concat([X_test, X_test_reduced], axis=1)"
   ]
  },
  {
   "cell_type": "code",
   "execution_count": 129,
   "id": "d3aa2192",
   "metadata": {},
   "outputs": [
    {
     "data": {
      "text/plain": [
       "((1168, 28), (1168, 10), (292, 28), (292, 10))"
      ]
     },
     "execution_count": 129,
     "metadata": {},
     "output_type": "execute_result"
    }
   ],
   "source": [
    "X_train.shape , X_train_reduced.shape, X_test.shape , X_test_reduced.shape"
   ]
  },
  {
   "cell_type": "code",
   "execution_count": 132,
   "id": "f87ea1ed",
   "metadata": {},
   "outputs": [],
   "source": [
    "X_train.to_csv(\"../data/interim/train_selected.csv\", index=False)\n",
    "X_test.to_csv(\"../data/interim/test_selected.csv\", index=False)"
   ]
  },
  {
   "cell_type": "code",
   "execution_count": 133,
   "id": "1c70fba9",
   "metadata": {},
   "outputs": [],
   "source": [
    "y_train.to_csv(\"../data/interim/y_train.csv\", index=False)\n",
    "y_test.to_csv(\"../data/interim/y_test.csv\", index=False)"
   ]
  }
 ],
 "metadata": {
  "kernelspec": {
   "display_name": "ds_venv",
   "language": "python",
   "name": "python3"
  },
  "language_info": {
   "codemirror_mode": {
    "name": "ipython",
    "version": 3
   },
   "file_extension": ".py",
   "mimetype": "text/x-python",
   "name": "python",
   "nbconvert_exporter": "python",
   "pygments_lexer": "ipython3",
   "version": "3.13.7"
  }
 },
 "nbformat": 4,
 "nbformat_minor": 5
}

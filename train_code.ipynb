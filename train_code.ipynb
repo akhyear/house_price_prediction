{
 "cells": [
  {
   "cell_type": "code",
   "execution_count": 1,
   "id": "3cfb3df7",
   "metadata": {},
   "outputs": [],
   "source": [
    "import pandas as pd\n",
    "import seaborn as sns\n",
    "import matplotlib.pyplot as plt\n",
    "import numpy as np"
   ]
  },
  {
   "cell_type": "code",
   "execution_count": 2,
   "id": "1eb7fd62",
   "metadata": {},
   "outputs": [],
   "source": [
    "df = pd.read_csv('train.csv')"
   ]
  },
  {
   "cell_type": "markdown",
   "id": "c3b87e6d",
   "metadata": {},
   "source": [
    "# Ask Basic Question"
   ]
  },
  {
   "cell_type": "code",
   "execution_count": 3,
   "id": "ea9e8cbf",
   "metadata": {},
   "outputs": [
    {
     "data": {
      "text/plain": [
       "(1460, 81)"
      ]
     },
     "execution_count": 3,
     "metadata": {},
     "output_type": "execute_result"
    }
   ],
   "source": [
    "# How big is the dataset?\n",
    "df.shape"
   ]
  },
  {
   "cell_type": "code",
   "execution_count": 4,
   "id": "432d5f0f",
   "metadata": {},
   "outputs": [
    {
     "data": {
      "text/html": [
       "<div>\n",
       "<style scoped>\n",
       "    .dataframe tbody tr th:only-of-type {\n",
       "        vertical-align: middle;\n",
       "    }\n",
       "\n",
       "    .dataframe tbody tr th {\n",
       "        vertical-align: top;\n",
       "    }\n",
       "\n",
       "    .dataframe thead th {\n",
       "        text-align: right;\n",
       "    }\n",
       "</style>\n",
       "<table border=\"1\" class=\"dataframe\">\n",
       "  <thead>\n",
       "    <tr style=\"text-align: right;\">\n",
       "      <th></th>\n",
       "      <th>Id</th>\n",
       "      <th>MSSubClass</th>\n",
       "      <th>MSZoning</th>\n",
       "      <th>LotFrontage</th>\n",
       "      <th>LotArea</th>\n",
       "      <th>Street</th>\n",
       "      <th>Alley</th>\n",
       "      <th>LotShape</th>\n",
       "      <th>LandContour</th>\n",
       "      <th>Utilities</th>\n",
       "      <th>...</th>\n",
       "      <th>PoolArea</th>\n",
       "      <th>PoolQC</th>\n",
       "      <th>Fence</th>\n",
       "      <th>MiscFeature</th>\n",
       "      <th>MiscVal</th>\n",
       "      <th>MoSold</th>\n",
       "      <th>YrSold</th>\n",
       "      <th>SaleType</th>\n",
       "      <th>SaleCondition</th>\n",
       "      <th>SalePrice</th>\n",
       "    </tr>\n",
       "  </thead>\n",
       "  <tbody>\n",
       "    <tr>\n",
       "      <th>0</th>\n",
       "      <td>1</td>\n",
       "      <td>60</td>\n",
       "      <td>RL</td>\n",
       "      <td>65.0</td>\n",
       "      <td>8450</td>\n",
       "      <td>Pave</td>\n",
       "      <td>NaN</td>\n",
       "      <td>Reg</td>\n",
       "      <td>Lvl</td>\n",
       "      <td>AllPub</td>\n",
       "      <td>...</td>\n",
       "      <td>0</td>\n",
       "      <td>NaN</td>\n",
       "      <td>NaN</td>\n",
       "      <td>NaN</td>\n",
       "      <td>0</td>\n",
       "      <td>2</td>\n",
       "      <td>2008</td>\n",
       "      <td>WD</td>\n",
       "      <td>Normal</td>\n",
       "      <td>208500</td>\n",
       "    </tr>\n",
       "    <tr>\n",
       "      <th>1</th>\n",
       "      <td>2</td>\n",
       "      <td>20</td>\n",
       "      <td>RL</td>\n",
       "      <td>80.0</td>\n",
       "      <td>9600</td>\n",
       "      <td>Pave</td>\n",
       "      <td>NaN</td>\n",
       "      <td>Reg</td>\n",
       "      <td>Lvl</td>\n",
       "      <td>AllPub</td>\n",
       "      <td>...</td>\n",
       "      <td>0</td>\n",
       "      <td>NaN</td>\n",
       "      <td>NaN</td>\n",
       "      <td>NaN</td>\n",
       "      <td>0</td>\n",
       "      <td>5</td>\n",
       "      <td>2007</td>\n",
       "      <td>WD</td>\n",
       "      <td>Normal</td>\n",
       "      <td>181500</td>\n",
       "    </tr>\n",
       "    <tr>\n",
       "      <th>2</th>\n",
       "      <td>3</td>\n",
       "      <td>60</td>\n",
       "      <td>RL</td>\n",
       "      <td>68.0</td>\n",
       "      <td>11250</td>\n",
       "      <td>Pave</td>\n",
       "      <td>NaN</td>\n",
       "      <td>IR1</td>\n",
       "      <td>Lvl</td>\n",
       "      <td>AllPub</td>\n",
       "      <td>...</td>\n",
       "      <td>0</td>\n",
       "      <td>NaN</td>\n",
       "      <td>NaN</td>\n",
       "      <td>NaN</td>\n",
       "      <td>0</td>\n",
       "      <td>9</td>\n",
       "      <td>2008</td>\n",
       "      <td>WD</td>\n",
       "      <td>Normal</td>\n",
       "      <td>223500</td>\n",
       "    </tr>\n",
       "    <tr>\n",
       "      <th>3</th>\n",
       "      <td>4</td>\n",
       "      <td>70</td>\n",
       "      <td>RL</td>\n",
       "      <td>60.0</td>\n",
       "      <td>9550</td>\n",
       "      <td>Pave</td>\n",
       "      <td>NaN</td>\n",
       "      <td>IR1</td>\n",
       "      <td>Lvl</td>\n",
       "      <td>AllPub</td>\n",
       "      <td>...</td>\n",
       "      <td>0</td>\n",
       "      <td>NaN</td>\n",
       "      <td>NaN</td>\n",
       "      <td>NaN</td>\n",
       "      <td>0</td>\n",
       "      <td>2</td>\n",
       "      <td>2006</td>\n",
       "      <td>WD</td>\n",
       "      <td>Abnorml</td>\n",
       "      <td>140000</td>\n",
       "    </tr>\n",
       "    <tr>\n",
       "      <th>4</th>\n",
       "      <td>5</td>\n",
       "      <td>60</td>\n",
       "      <td>RL</td>\n",
       "      <td>84.0</td>\n",
       "      <td>14260</td>\n",
       "      <td>Pave</td>\n",
       "      <td>NaN</td>\n",
       "      <td>IR1</td>\n",
       "      <td>Lvl</td>\n",
       "      <td>AllPub</td>\n",
       "      <td>...</td>\n",
       "      <td>0</td>\n",
       "      <td>NaN</td>\n",
       "      <td>NaN</td>\n",
       "      <td>NaN</td>\n",
       "      <td>0</td>\n",
       "      <td>12</td>\n",
       "      <td>2008</td>\n",
       "      <td>WD</td>\n",
       "      <td>Normal</td>\n",
       "      <td>250000</td>\n",
       "    </tr>\n",
       "  </tbody>\n",
       "</table>\n",
       "<p>5 rows × 81 columns</p>\n",
       "</div>"
      ],
      "text/plain": [
       "   Id  MSSubClass MSZoning  LotFrontage  LotArea Street Alley LotShape  \\\n",
       "0   1          60       RL         65.0     8450   Pave   NaN      Reg   \n",
       "1   2          20       RL         80.0     9600   Pave   NaN      Reg   \n",
       "2   3          60       RL         68.0    11250   Pave   NaN      IR1   \n",
       "3   4          70       RL         60.0     9550   Pave   NaN      IR1   \n",
       "4   5          60       RL         84.0    14260   Pave   NaN      IR1   \n",
       "\n",
       "  LandContour Utilities  ... PoolArea PoolQC Fence MiscFeature MiscVal MoSold  \\\n",
       "0         Lvl    AllPub  ...        0    NaN   NaN         NaN       0      2   \n",
       "1         Lvl    AllPub  ...        0    NaN   NaN         NaN       0      5   \n",
       "2         Lvl    AllPub  ...        0    NaN   NaN         NaN       0      9   \n",
       "3         Lvl    AllPub  ...        0    NaN   NaN         NaN       0      2   \n",
       "4         Lvl    AllPub  ...        0    NaN   NaN         NaN       0     12   \n",
       "\n",
       "  YrSold  SaleType  SaleCondition  SalePrice  \n",
       "0   2008        WD         Normal     208500  \n",
       "1   2007        WD         Normal     181500  \n",
       "2   2008        WD         Normal     223500  \n",
       "3   2006        WD        Abnorml     140000  \n",
       "4   2008        WD         Normal     250000  \n",
       "\n",
       "[5 rows x 81 columns]"
      ]
     },
     "execution_count": 4,
     "metadata": {},
     "output_type": "execute_result"
    }
   ],
   "source": [
    "# how does the dataset look?\n",
    "df.head()\n",
    "#df.sample(5)"
   ]
  },
  {
   "cell_type": "code",
   "execution_count": 5,
   "id": "2aa05255",
   "metadata": {},
   "outputs": [
    {
     "name": "stdout",
     "output_type": "stream",
     "text": [
      "<class 'pandas.core.frame.DataFrame'>\n",
      "RangeIndex: 1460 entries, 0 to 1459\n",
      "Data columns (total 81 columns):\n",
      " #   Column         Non-Null Count  Dtype  \n",
      "---  ------         --------------  -----  \n",
      " 0   Id             1460 non-null   int64  \n",
      " 1   MSSubClass     1460 non-null   int64  \n",
      " 2   MSZoning       1460 non-null   object \n",
      " 3   LotFrontage    1201 non-null   float64\n",
      " 4   LotArea        1460 non-null   int64  \n",
      " 5   Street         1460 non-null   object \n",
      " 6   Alley          91 non-null     object \n",
      " 7   LotShape       1460 non-null   object \n",
      " 8   LandContour    1460 non-null   object \n",
      " 9   Utilities      1460 non-null   object \n",
      " 10  LotConfig      1460 non-null   object \n",
      " 11  LandSlope      1460 non-null   object \n",
      " 12  Neighborhood   1460 non-null   object \n",
      " 13  Condition1     1460 non-null   object \n",
      " 14  Condition2     1460 non-null   object \n",
      " 15  BldgType       1460 non-null   object \n",
      " 16  HouseStyle     1460 non-null   object \n",
      " 17  OverallQual    1460 non-null   int64  \n",
      " 18  OverallCond    1460 non-null   int64  \n",
      " 19  YearBuilt      1460 non-null   int64  \n",
      " 20  YearRemodAdd   1460 non-null   int64  \n",
      " 21  RoofStyle      1460 non-null   object \n",
      " 22  RoofMatl       1460 non-null   object \n",
      " 23  Exterior1st    1460 non-null   object \n",
      " 24  Exterior2nd    1460 non-null   object \n",
      " 25  MasVnrType     588 non-null    object \n",
      " 26  MasVnrArea     1452 non-null   float64\n",
      " 27  ExterQual      1460 non-null   object \n",
      " 28  ExterCond      1460 non-null   object \n",
      " 29  Foundation     1460 non-null   object \n",
      " 30  BsmtQual       1423 non-null   object \n",
      " 31  BsmtCond       1423 non-null   object \n",
      " 32  BsmtExposure   1422 non-null   object \n",
      " 33  BsmtFinType1   1423 non-null   object \n",
      " 34  BsmtFinSF1     1460 non-null   int64  \n",
      " 35  BsmtFinType2   1422 non-null   object \n",
      " 36  BsmtFinSF2     1460 non-null   int64  \n",
      " 37  BsmtUnfSF      1460 non-null   int64  \n",
      " 38  TotalBsmtSF    1460 non-null   int64  \n",
      " 39  Heating        1460 non-null   object \n",
      " 40  HeatingQC      1460 non-null   object \n",
      " 41  CentralAir     1460 non-null   object \n",
      " 42  Electrical     1459 non-null   object \n",
      " 43  1stFlrSF       1460 non-null   int64  \n",
      " 44  2ndFlrSF       1460 non-null   int64  \n",
      " 45  LowQualFinSF   1460 non-null   int64  \n",
      " 46  GrLivArea      1460 non-null   int64  \n",
      " 47  BsmtFullBath   1460 non-null   int64  \n",
      " 48  BsmtHalfBath   1460 non-null   int64  \n",
      " 49  FullBath       1460 non-null   int64  \n",
      " 50  HalfBath       1460 non-null   int64  \n",
      " 51  BedroomAbvGr   1460 non-null   int64  \n",
      " 52  KitchenAbvGr   1460 non-null   int64  \n",
      " 53  KitchenQual    1460 non-null   object \n",
      " 54  TotRmsAbvGrd   1460 non-null   int64  \n",
      " 55  Functional     1460 non-null   object \n",
      " 56  Fireplaces     1460 non-null   int64  \n",
      " 57  FireplaceQu    770 non-null    object \n",
      " 58  GarageType     1379 non-null   object \n",
      " 59  GarageYrBlt    1379 non-null   float64\n",
      " 60  GarageFinish   1379 non-null   object \n",
      " 61  GarageCars     1460 non-null   int64  \n",
      " 62  GarageArea     1460 non-null   int64  \n",
      " 63  GarageQual     1379 non-null   object \n",
      " 64  GarageCond     1379 non-null   object \n",
      " 65  PavedDrive     1460 non-null   object \n",
      " 66  WoodDeckSF     1460 non-null   int64  \n",
      " 67  OpenPorchSF    1460 non-null   int64  \n",
      " 68  EnclosedPorch  1460 non-null   int64  \n",
      " 69  3SsnPorch      1460 non-null   int64  \n",
      " 70  ScreenPorch    1460 non-null   int64  \n",
      " 71  PoolArea       1460 non-null   int64  \n",
      " 72  PoolQC         7 non-null      object \n",
      " 73  Fence          281 non-null    object \n",
      " 74  MiscFeature    54 non-null     object \n",
      " 75  MiscVal        1460 non-null   int64  \n",
      " 76  MoSold         1460 non-null   int64  \n",
      " 77  YrSold         1460 non-null   int64  \n",
      " 78  SaleType       1460 non-null   object \n",
      " 79  SaleCondition  1460 non-null   object \n",
      " 80  SalePrice      1460 non-null   int64  \n",
      "dtypes: float64(3), int64(35), object(43)\n",
      "memory usage: 924.0+ KB\n"
     ]
    }
   ],
   "source": [
    "# what is the data type of each column?\n",
    "df.info()"
   ]
  },
  {
   "cell_type": "code",
   "execution_count": 6,
   "id": "5c2a1946",
   "metadata": {},
   "outputs": [
    {
     "data": {
      "text/plain": [
       "Id                 0\n",
       "MSSubClass         0\n",
       "MSZoning           0\n",
       "LotFrontage      259\n",
       "LotArea            0\n",
       "                ... \n",
       "MoSold             0\n",
       "YrSold             0\n",
       "SaleType           0\n",
       "SaleCondition      0\n",
       "SalePrice          0\n",
       "Length: 81, dtype: int64"
      ]
     },
     "execution_count": 6,
     "metadata": {},
     "output_type": "execute_result"
    }
   ],
   "source": [
    "# are there any missing values?\n",
    "df.isnull().sum()"
   ]
  },
  {
   "cell_type": "code",
   "execution_count": 7,
   "id": "1bb04ad6",
   "metadata": {},
   "outputs": [
    {
     "data": {
      "text/html": [
       "<div>\n",
       "<style scoped>\n",
       "    .dataframe tbody tr th:only-of-type {\n",
       "        vertical-align: middle;\n",
       "    }\n",
       "\n",
       "    .dataframe tbody tr th {\n",
       "        vertical-align: top;\n",
       "    }\n",
       "\n",
       "    .dataframe thead th {\n",
       "        text-align: right;\n",
       "    }\n",
       "</style>\n",
       "<table border=\"1\" class=\"dataframe\">\n",
       "  <thead>\n",
       "    <tr style=\"text-align: right;\">\n",
       "      <th></th>\n",
       "      <th>Id</th>\n",
       "      <th>MSSubClass</th>\n",
       "      <th>LotFrontage</th>\n",
       "      <th>LotArea</th>\n",
       "      <th>OverallQual</th>\n",
       "      <th>OverallCond</th>\n",
       "      <th>YearBuilt</th>\n",
       "      <th>YearRemodAdd</th>\n",
       "      <th>MasVnrArea</th>\n",
       "      <th>BsmtFinSF1</th>\n",
       "      <th>...</th>\n",
       "      <th>WoodDeckSF</th>\n",
       "      <th>OpenPorchSF</th>\n",
       "      <th>EnclosedPorch</th>\n",
       "      <th>3SsnPorch</th>\n",
       "      <th>ScreenPorch</th>\n",
       "      <th>PoolArea</th>\n",
       "      <th>MiscVal</th>\n",
       "      <th>MoSold</th>\n",
       "      <th>YrSold</th>\n",
       "      <th>SalePrice</th>\n",
       "    </tr>\n",
       "  </thead>\n",
       "  <tbody>\n",
       "    <tr>\n",
       "      <th>count</th>\n",
       "      <td>1460.000000</td>\n",
       "      <td>1460.000000</td>\n",
       "      <td>1201.000000</td>\n",
       "      <td>1460.000000</td>\n",
       "      <td>1460.000000</td>\n",
       "      <td>1460.000000</td>\n",
       "      <td>1460.000000</td>\n",
       "      <td>1460.000000</td>\n",
       "      <td>1452.000000</td>\n",
       "      <td>1460.000000</td>\n",
       "      <td>...</td>\n",
       "      <td>1460.000000</td>\n",
       "      <td>1460.000000</td>\n",
       "      <td>1460.000000</td>\n",
       "      <td>1460.000000</td>\n",
       "      <td>1460.000000</td>\n",
       "      <td>1460.000000</td>\n",
       "      <td>1460.000000</td>\n",
       "      <td>1460.000000</td>\n",
       "      <td>1460.000000</td>\n",
       "      <td>1460.000000</td>\n",
       "    </tr>\n",
       "    <tr>\n",
       "      <th>mean</th>\n",
       "      <td>730.500000</td>\n",
       "      <td>56.897260</td>\n",
       "      <td>70.049958</td>\n",
       "      <td>10516.828082</td>\n",
       "      <td>6.099315</td>\n",
       "      <td>5.575342</td>\n",
       "      <td>1971.267808</td>\n",
       "      <td>1984.865753</td>\n",
       "      <td>103.685262</td>\n",
       "      <td>443.639726</td>\n",
       "      <td>...</td>\n",
       "      <td>94.244521</td>\n",
       "      <td>46.660274</td>\n",
       "      <td>21.954110</td>\n",
       "      <td>3.409589</td>\n",
       "      <td>15.060959</td>\n",
       "      <td>2.758904</td>\n",
       "      <td>43.489041</td>\n",
       "      <td>6.321918</td>\n",
       "      <td>2007.815753</td>\n",
       "      <td>180921.195890</td>\n",
       "    </tr>\n",
       "    <tr>\n",
       "      <th>std</th>\n",
       "      <td>421.610009</td>\n",
       "      <td>42.300571</td>\n",
       "      <td>24.284752</td>\n",
       "      <td>9981.264932</td>\n",
       "      <td>1.382997</td>\n",
       "      <td>1.112799</td>\n",
       "      <td>30.202904</td>\n",
       "      <td>20.645407</td>\n",
       "      <td>181.066207</td>\n",
       "      <td>456.098091</td>\n",
       "      <td>...</td>\n",
       "      <td>125.338794</td>\n",
       "      <td>66.256028</td>\n",
       "      <td>61.119149</td>\n",
       "      <td>29.317331</td>\n",
       "      <td>55.757415</td>\n",
       "      <td>40.177307</td>\n",
       "      <td>496.123024</td>\n",
       "      <td>2.703626</td>\n",
       "      <td>1.328095</td>\n",
       "      <td>79442.502883</td>\n",
       "    </tr>\n",
       "    <tr>\n",
       "      <th>min</th>\n",
       "      <td>1.000000</td>\n",
       "      <td>20.000000</td>\n",
       "      <td>21.000000</td>\n",
       "      <td>1300.000000</td>\n",
       "      <td>1.000000</td>\n",
       "      <td>1.000000</td>\n",
       "      <td>1872.000000</td>\n",
       "      <td>1950.000000</td>\n",
       "      <td>0.000000</td>\n",
       "      <td>0.000000</td>\n",
       "      <td>...</td>\n",
       "      <td>0.000000</td>\n",
       "      <td>0.000000</td>\n",
       "      <td>0.000000</td>\n",
       "      <td>0.000000</td>\n",
       "      <td>0.000000</td>\n",
       "      <td>0.000000</td>\n",
       "      <td>0.000000</td>\n",
       "      <td>1.000000</td>\n",
       "      <td>2006.000000</td>\n",
       "      <td>34900.000000</td>\n",
       "    </tr>\n",
       "    <tr>\n",
       "      <th>25%</th>\n",
       "      <td>365.750000</td>\n",
       "      <td>20.000000</td>\n",
       "      <td>59.000000</td>\n",
       "      <td>7553.500000</td>\n",
       "      <td>5.000000</td>\n",
       "      <td>5.000000</td>\n",
       "      <td>1954.000000</td>\n",
       "      <td>1967.000000</td>\n",
       "      <td>0.000000</td>\n",
       "      <td>0.000000</td>\n",
       "      <td>...</td>\n",
       "      <td>0.000000</td>\n",
       "      <td>0.000000</td>\n",
       "      <td>0.000000</td>\n",
       "      <td>0.000000</td>\n",
       "      <td>0.000000</td>\n",
       "      <td>0.000000</td>\n",
       "      <td>0.000000</td>\n",
       "      <td>5.000000</td>\n",
       "      <td>2007.000000</td>\n",
       "      <td>129975.000000</td>\n",
       "    </tr>\n",
       "    <tr>\n",
       "      <th>50%</th>\n",
       "      <td>730.500000</td>\n",
       "      <td>50.000000</td>\n",
       "      <td>69.000000</td>\n",
       "      <td>9478.500000</td>\n",
       "      <td>6.000000</td>\n",
       "      <td>5.000000</td>\n",
       "      <td>1973.000000</td>\n",
       "      <td>1994.000000</td>\n",
       "      <td>0.000000</td>\n",
       "      <td>383.500000</td>\n",
       "      <td>...</td>\n",
       "      <td>0.000000</td>\n",
       "      <td>25.000000</td>\n",
       "      <td>0.000000</td>\n",
       "      <td>0.000000</td>\n",
       "      <td>0.000000</td>\n",
       "      <td>0.000000</td>\n",
       "      <td>0.000000</td>\n",
       "      <td>6.000000</td>\n",
       "      <td>2008.000000</td>\n",
       "      <td>163000.000000</td>\n",
       "    </tr>\n",
       "    <tr>\n",
       "      <th>75%</th>\n",
       "      <td>1095.250000</td>\n",
       "      <td>70.000000</td>\n",
       "      <td>80.000000</td>\n",
       "      <td>11601.500000</td>\n",
       "      <td>7.000000</td>\n",
       "      <td>6.000000</td>\n",
       "      <td>2000.000000</td>\n",
       "      <td>2004.000000</td>\n",
       "      <td>166.000000</td>\n",
       "      <td>712.250000</td>\n",
       "      <td>...</td>\n",
       "      <td>168.000000</td>\n",
       "      <td>68.000000</td>\n",
       "      <td>0.000000</td>\n",
       "      <td>0.000000</td>\n",
       "      <td>0.000000</td>\n",
       "      <td>0.000000</td>\n",
       "      <td>0.000000</td>\n",
       "      <td>8.000000</td>\n",
       "      <td>2009.000000</td>\n",
       "      <td>214000.000000</td>\n",
       "    </tr>\n",
       "    <tr>\n",
       "      <th>max</th>\n",
       "      <td>1460.000000</td>\n",
       "      <td>190.000000</td>\n",
       "      <td>313.000000</td>\n",
       "      <td>215245.000000</td>\n",
       "      <td>10.000000</td>\n",
       "      <td>9.000000</td>\n",
       "      <td>2010.000000</td>\n",
       "      <td>2010.000000</td>\n",
       "      <td>1600.000000</td>\n",
       "      <td>5644.000000</td>\n",
       "      <td>...</td>\n",
       "      <td>857.000000</td>\n",
       "      <td>547.000000</td>\n",
       "      <td>552.000000</td>\n",
       "      <td>508.000000</td>\n",
       "      <td>480.000000</td>\n",
       "      <td>738.000000</td>\n",
       "      <td>15500.000000</td>\n",
       "      <td>12.000000</td>\n",
       "      <td>2010.000000</td>\n",
       "      <td>755000.000000</td>\n",
       "    </tr>\n",
       "  </tbody>\n",
       "</table>\n",
       "<p>8 rows × 38 columns</p>\n",
       "</div>"
      ],
      "text/plain": [
       "                Id   MSSubClass  LotFrontage        LotArea  OverallQual  \\\n",
       "count  1460.000000  1460.000000  1201.000000    1460.000000  1460.000000   \n",
       "mean    730.500000    56.897260    70.049958   10516.828082     6.099315   \n",
       "std     421.610009    42.300571    24.284752    9981.264932     1.382997   \n",
       "min       1.000000    20.000000    21.000000    1300.000000     1.000000   \n",
       "25%     365.750000    20.000000    59.000000    7553.500000     5.000000   \n",
       "50%     730.500000    50.000000    69.000000    9478.500000     6.000000   \n",
       "75%    1095.250000    70.000000    80.000000   11601.500000     7.000000   \n",
       "max    1460.000000   190.000000   313.000000  215245.000000    10.000000   \n",
       "\n",
       "       OverallCond    YearBuilt  YearRemodAdd   MasVnrArea   BsmtFinSF1  ...  \\\n",
       "count  1460.000000  1460.000000   1460.000000  1452.000000  1460.000000  ...   \n",
       "mean      5.575342  1971.267808   1984.865753   103.685262   443.639726  ...   \n",
       "std       1.112799    30.202904     20.645407   181.066207   456.098091  ...   \n",
       "min       1.000000  1872.000000   1950.000000     0.000000     0.000000  ...   \n",
       "25%       5.000000  1954.000000   1967.000000     0.000000     0.000000  ...   \n",
       "50%       5.000000  1973.000000   1994.000000     0.000000   383.500000  ...   \n",
       "75%       6.000000  2000.000000   2004.000000   166.000000   712.250000  ...   \n",
       "max       9.000000  2010.000000   2010.000000  1600.000000  5644.000000  ...   \n",
       "\n",
       "        WoodDeckSF  OpenPorchSF  EnclosedPorch    3SsnPorch  ScreenPorch  \\\n",
       "count  1460.000000  1460.000000    1460.000000  1460.000000  1460.000000   \n",
       "mean     94.244521    46.660274      21.954110     3.409589    15.060959   \n",
       "std     125.338794    66.256028      61.119149    29.317331    55.757415   \n",
       "min       0.000000     0.000000       0.000000     0.000000     0.000000   \n",
       "25%       0.000000     0.000000       0.000000     0.000000     0.000000   \n",
       "50%       0.000000    25.000000       0.000000     0.000000     0.000000   \n",
       "75%     168.000000    68.000000       0.000000     0.000000     0.000000   \n",
       "max     857.000000   547.000000     552.000000   508.000000   480.000000   \n",
       "\n",
       "          PoolArea       MiscVal       MoSold       YrSold      SalePrice  \n",
       "count  1460.000000   1460.000000  1460.000000  1460.000000    1460.000000  \n",
       "mean      2.758904     43.489041     6.321918  2007.815753  180921.195890  \n",
       "std      40.177307    496.123024     2.703626     1.328095   79442.502883  \n",
       "min       0.000000      0.000000     1.000000  2006.000000   34900.000000  \n",
       "25%       0.000000      0.000000     5.000000  2007.000000  129975.000000  \n",
       "50%       0.000000      0.000000     6.000000  2008.000000  163000.000000  \n",
       "75%       0.000000      0.000000     8.000000  2009.000000  214000.000000  \n",
       "max     738.000000  15500.000000    12.000000  2010.000000  755000.000000  \n",
       "\n",
       "[8 rows x 38 columns]"
      ]
     },
     "execution_count": 7,
     "metadata": {},
     "output_type": "execute_result"
    }
   ],
   "source": [
    "# how does the data look mathematically?\n",
    "df.describe()"
   ]
  },
  {
   "cell_type": "code",
   "execution_count": 8,
   "id": "a32e4d57",
   "metadata": {},
   "outputs": [
    {
     "data": {
      "text/plain": [
       "np.int64(0)"
      ]
     },
     "execution_count": 8,
     "metadata": {},
     "output_type": "execute_result"
    }
   ],
   "source": [
    "# are there duplicates?\n",
    "df.duplicated().sum()"
   ]
  },
  {
   "cell_type": "code",
   "execution_count": 9,
   "id": "52558b58",
   "metadata": {},
   "outputs": [
    {
     "data": {
      "text/html": [
       "<div>\n",
       "<style scoped>\n",
       "    .dataframe tbody tr th:only-of-type {\n",
       "        vertical-align: middle;\n",
       "    }\n",
       "\n",
       "    .dataframe tbody tr th {\n",
       "        vertical-align: top;\n",
       "    }\n",
       "\n",
       "    .dataframe thead th {\n",
       "        text-align: right;\n",
       "    }\n",
       "</style>\n",
       "<table border=\"1\" class=\"dataframe\">\n",
       "  <thead>\n",
       "    <tr style=\"text-align: right;\">\n",
       "      <th></th>\n",
       "      <th>Id</th>\n",
       "      <th>MSSubClass</th>\n",
       "      <th>LotFrontage</th>\n",
       "      <th>LotArea</th>\n",
       "      <th>OverallQual</th>\n",
       "      <th>OverallCond</th>\n",
       "      <th>YearBuilt</th>\n",
       "      <th>YearRemodAdd</th>\n",
       "      <th>MasVnrArea</th>\n",
       "      <th>BsmtFinSF1</th>\n",
       "      <th>...</th>\n",
       "      <th>WoodDeckSF</th>\n",
       "      <th>OpenPorchSF</th>\n",
       "      <th>EnclosedPorch</th>\n",
       "      <th>3SsnPorch</th>\n",
       "      <th>ScreenPorch</th>\n",
       "      <th>PoolArea</th>\n",
       "      <th>MiscVal</th>\n",
       "      <th>MoSold</th>\n",
       "      <th>YrSold</th>\n",
       "      <th>SalePrice</th>\n",
       "    </tr>\n",
       "  </thead>\n",
       "  <tbody>\n",
       "    <tr>\n",
       "      <th>Id</th>\n",
       "      <td>1.000000</td>\n",
       "      <td>0.011156</td>\n",
       "      <td>-0.010601</td>\n",
       "      <td>-0.033226</td>\n",
       "      <td>-0.028365</td>\n",
       "      <td>0.012609</td>\n",
       "      <td>-0.012713</td>\n",
       "      <td>-0.021998</td>\n",
       "      <td>-0.050298</td>\n",
       "      <td>-0.005024</td>\n",
       "      <td>...</td>\n",
       "      <td>-0.029643</td>\n",
       "      <td>-0.000477</td>\n",
       "      <td>0.002889</td>\n",
       "      <td>-0.046635</td>\n",
       "      <td>0.001330</td>\n",
       "      <td>0.057044</td>\n",
       "      <td>-0.006242</td>\n",
       "      <td>0.021172</td>\n",
       "      <td>0.000712</td>\n",
       "      <td>-0.021917</td>\n",
       "    </tr>\n",
       "    <tr>\n",
       "      <th>MSSubClass</th>\n",
       "      <td>0.011156</td>\n",
       "      <td>1.000000</td>\n",
       "      <td>-0.386347</td>\n",
       "      <td>-0.139781</td>\n",
       "      <td>0.032628</td>\n",
       "      <td>-0.059316</td>\n",
       "      <td>0.027850</td>\n",
       "      <td>0.040581</td>\n",
       "      <td>0.022936</td>\n",
       "      <td>-0.069836</td>\n",
       "      <td>...</td>\n",
       "      <td>-0.012579</td>\n",
       "      <td>-0.006100</td>\n",
       "      <td>-0.012037</td>\n",
       "      <td>-0.043825</td>\n",
       "      <td>-0.026030</td>\n",
       "      <td>0.008283</td>\n",
       "      <td>-0.007683</td>\n",
       "      <td>-0.013585</td>\n",
       "      <td>-0.021407</td>\n",
       "      <td>-0.084284</td>\n",
       "    </tr>\n",
       "    <tr>\n",
       "      <th>LotFrontage</th>\n",
       "      <td>-0.010601</td>\n",
       "      <td>-0.386347</td>\n",
       "      <td>1.000000</td>\n",
       "      <td>0.426095</td>\n",
       "      <td>0.251646</td>\n",
       "      <td>-0.059213</td>\n",
       "      <td>0.123349</td>\n",
       "      <td>0.088866</td>\n",
       "      <td>0.193458</td>\n",
       "      <td>0.233633</td>\n",
       "      <td>...</td>\n",
       "      <td>0.088521</td>\n",
       "      <td>0.151972</td>\n",
       "      <td>0.010700</td>\n",
       "      <td>0.070029</td>\n",
       "      <td>0.041383</td>\n",
       "      <td>0.206167</td>\n",
       "      <td>0.003368</td>\n",
       "      <td>0.011200</td>\n",
       "      <td>0.007450</td>\n",
       "      <td>0.351799</td>\n",
       "    </tr>\n",
       "    <tr>\n",
       "      <th>LotArea</th>\n",
       "      <td>-0.033226</td>\n",
       "      <td>-0.139781</td>\n",
       "      <td>0.426095</td>\n",
       "      <td>1.000000</td>\n",
       "      <td>0.105806</td>\n",
       "      <td>-0.005636</td>\n",
       "      <td>0.014228</td>\n",
       "      <td>0.013788</td>\n",
       "      <td>0.104160</td>\n",
       "      <td>0.214103</td>\n",
       "      <td>...</td>\n",
       "      <td>0.171698</td>\n",
       "      <td>0.084774</td>\n",
       "      <td>-0.018340</td>\n",
       "      <td>0.020423</td>\n",
       "      <td>0.043160</td>\n",
       "      <td>0.077672</td>\n",
       "      <td>0.038068</td>\n",
       "      <td>0.001205</td>\n",
       "      <td>-0.014261</td>\n",
       "      <td>0.263843</td>\n",
       "    </tr>\n",
       "    <tr>\n",
       "      <th>OverallQual</th>\n",
       "      <td>-0.028365</td>\n",
       "      <td>0.032628</td>\n",
       "      <td>0.251646</td>\n",
       "      <td>0.105806</td>\n",
       "      <td>1.000000</td>\n",
       "      <td>-0.091932</td>\n",
       "      <td>0.572323</td>\n",
       "      <td>0.550684</td>\n",
       "      <td>0.411876</td>\n",
       "      <td>0.239666</td>\n",
       "      <td>...</td>\n",
       "      <td>0.238923</td>\n",
       "      <td>0.308819</td>\n",
       "      <td>-0.113937</td>\n",
       "      <td>0.030371</td>\n",
       "      <td>0.064886</td>\n",
       "      <td>0.065166</td>\n",
       "      <td>-0.031406</td>\n",
       "      <td>0.070815</td>\n",
       "      <td>-0.027347</td>\n",
       "      <td>0.790982</td>\n",
       "    </tr>\n",
       "    <tr>\n",
       "      <th>OverallCond</th>\n",
       "      <td>0.012609</td>\n",
       "      <td>-0.059316</td>\n",
       "      <td>-0.059213</td>\n",
       "      <td>-0.005636</td>\n",
       "      <td>-0.091932</td>\n",
       "      <td>1.000000</td>\n",
       "      <td>-0.375983</td>\n",
       "      <td>0.073741</td>\n",
       "      <td>-0.128101</td>\n",
       "      <td>-0.046231</td>\n",
       "      <td>...</td>\n",
       "      <td>-0.003334</td>\n",
       "      <td>-0.032589</td>\n",
       "      <td>0.070356</td>\n",
       "      <td>0.025504</td>\n",
       "      <td>0.054811</td>\n",
       "      <td>-0.001985</td>\n",
       "      <td>0.068777</td>\n",
       "      <td>-0.003511</td>\n",
       "      <td>0.043950</td>\n",
       "      <td>-0.077856</td>\n",
       "    </tr>\n",
       "    <tr>\n",
       "      <th>YearBuilt</th>\n",
       "      <td>-0.012713</td>\n",
       "      <td>0.027850</td>\n",
       "      <td>0.123349</td>\n",
       "      <td>0.014228</td>\n",
       "      <td>0.572323</td>\n",
       "      <td>-0.375983</td>\n",
       "      <td>1.000000</td>\n",
       "      <td>0.592855</td>\n",
       "      <td>0.315707</td>\n",
       "      <td>0.249503</td>\n",
       "      <td>...</td>\n",
       "      <td>0.224880</td>\n",
       "      <td>0.188686</td>\n",
       "      <td>-0.387268</td>\n",
       "      <td>0.031355</td>\n",
       "      <td>-0.050364</td>\n",
       "      <td>0.004950</td>\n",
       "      <td>-0.034383</td>\n",
       "      <td>0.012398</td>\n",
       "      <td>-0.013618</td>\n",
       "      <td>0.522897</td>\n",
       "    </tr>\n",
       "    <tr>\n",
       "      <th>YearRemodAdd</th>\n",
       "      <td>-0.021998</td>\n",
       "      <td>0.040581</td>\n",
       "      <td>0.088866</td>\n",
       "      <td>0.013788</td>\n",
       "      <td>0.550684</td>\n",
       "      <td>0.073741</td>\n",
       "      <td>0.592855</td>\n",
       "      <td>1.000000</td>\n",
       "      <td>0.179618</td>\n",
       "      <td>0.128451</td>\n",
       "      <td>...</td>\n",
       "      <td>0.205726</td>\n",
       "      <td>0.226298</td>\n",
       "      <td>-0.193919</td>\n",
       "      <td>0.045286</td>\n",
       "      <td>-0.038740</td>\n",
       "      <td>0.005829</td>\n",
       "      <td>-0.010286</td>\n",
       "      <td>0.021490</td>\n",
       "      <td>0.035743</td>\n",
       "      <td>0.507101</td>\n",
       "    </tr>\n",
       "    <tr>\n",
       "      <th>MasVnrArea</th>\n",
       "      <td>-0.050298</td>\n",
       "      <td>0.022936</td>\n",
       "      <td>0.193458</td>\n",
       "      <td>0.104160</td>\n",
       "      <td>0.411876</td>\n",
       "      <td>-0.128101</td>\n",
       "      <td>0.315707</td>\n",
       "      <td>0.179618</td>\n",
       "      <td>1.000000</td>\n",
       "      <td>0.264736</td>\n",
       "      <td>...</td>\n",
       "      <td>0.159718</td>\n",
       "      <td>0.125703</td>\n",
       "      <td>-0.110204</td>\n",
       "      <td>0.018796</td>\n",
       "      <td>0.061466</td>\n",
       "      <td>0.011723</td>\n",
       "      <td>-0.029815</td>\n",
       "      <td>-0.005965</td>\n",
       "      <td>-0.008201</td>\n",
       "      <td>0.477493</td>\n",
       "    </tr>\n",
       "    <tr>\n",
       "      <th>BsmtFinSF1</th>\n",
       "      <td>-0.005024</td>\n",
       "      <td>-0.069836</td>\n",
       "      <td>0.233633</td>\n",
       "      <td>0.214103</td>\n",
       "      <td>0.239666</td>\n",
       "      <td>-0.046231</td>\n",
       "      <td>0.249503</td>\n",
       "      <td>0.128451</td>\n",
       "      <td>0.264736</td>\n",
       "      <td>1.000000</td>\n",
       "      <td>...</td>\n",
       "      <td>0.204306</td>\n",
       "      <td>0.111761</td>\n",
       "      <td>-0.102303</td>\n",
       "      <td>0.026451</td>\n",
       "      <td>0.062021</td>\n",
       "      <td>0.140491</td>\n",
       "      <td>0.003571</td>\n",
       "      <td>-0.015727</td>\n",
       "      <td>0.014359</td>\n",
       "      <td>0.386420</td>\n",
       "    </tr>\n",
       "    <tr>\n",
       "      <th>BsmtFinSF2</th>\n",
       "      <td>-0.005968</td>\n",
       "      <td>-0.065649</td>\n",
       "      <td>0.049900</td>\n",
       "      <td>0.111170</td>\n",
       "      <td>-0.059119</td>\n",
       "      <td>0.040229</td>\n",
       "      <td>-0.049107</td>\n",
       "      <td>-0.067759</td>\n",
       "      <td>-0.072319</td>\n",
       "      <td>-0.050117</td>\n",
       "      <td>...</td>\n",
       "      <td>0.067898</td>\n",
       "      <td>0.003093</td>\n",
       "      <td>0.036543</td>\n",
       "      <td>-0.029993</td>\n",
       "      <td>0.088871</td>\n",
       "      <td>0.041709</td>\n",
       "      <td>0.004940</td>\n",
       "      <td>-0.015211</td>\n",
       "      <td>0.031706</td>\n",
       "      <td>-0.011378</td>\n",
       "    </tr>\n",
       "    <tr>\n",
       "      <th>BsmtUnfSF</th>\n",
       "      <td>-0.007940</td>\n",
       "      <td>-0.140759</td>\n",
       "      <td>0.132644</td>\n",
       "      <td>-0.002618</td>\n",
       "      <td>0.308159</td>\n",
       "      <td>-0.136841</td>\n",
       "      <td>0.149040</td>\n",
       "      <td>0.181133</td>\n",
       "      <td>0.114442</td>\n",
       "      <td>-0.495251</td>\n",
       "      <td>...</td>\n",
       "      <td>-0.005316</td>\n",
       "      <td>0.129005</td>\n",
       "      <td>-0.002538</td>\n",
       "      <td>0.020764</td>\n",
       "      <td>-0.012579</td>\n",
       "      <td>-0.035092</td>\n",
       "      <td>-0.023837</td>\n",
       "      <td>0.034888</td>\n",
       "      <td>-0.041258</td>\n",
       "      <td>0.214479</td>\n",
       "    </tr>\n",
       "    <tr>\n",
       "      <th>TotalBsmtSF</th>\n",
       "      <td>-0.015415</td>\n",
       "      <td>-0.238518</td>\n",
       "      <td>0.392075</td>\n",
       "      <td>0.260833</td>\n",
       "      <td>0.537808</td>\n",
       "      <td>-0.171098</td>\n",
       "      <td>0.391452</td>\n",
       "      <td>0.291066</td>\n",
       "      <td>0.363936</td>\n",
       "      <td>0.522396</td>\n",
       "      <td>...</td>\n",
       "      <td>0.232019</td>\n",
       "      <td>0.247264</td>\n",
       "      <td>-0.095478</td>\n",
       "      <td>0.037384</td>\n",
       "      <td>0.084489</td>\n",
       "      <td>0.126053</td>\n",
       "      <td>-0.018479</td>\n",
       "      <td>0.013196</td>\n",
       "      <td>-0.014969</td>\n",
       "      <td>0.613581</td>\n",
       "    </tr>\n",
       "    <tr>\n",
       "      <th>1stFlrSF</th>\n",
       "      <td>0.010496</td>\n",
       "      <td>-0.251758</td>\n",
       "      <td>0.457181</td>\n",
       "      <td>0.299475</td>\n",
       "      <td>0.476224</td>\n",
       "      <td>-0.144203</td>\n",
       "      <td>0.281986</td>\n",
       "      <td>0.240379</td>\n",
       "      <td>0.344501</td>\n",
       "      <td>0.445863</td>\n",
       "      <td>...</td>\n",
       "      <td>0.235459</td>\n",
       "      <td>0.211671</td>\n",
       "      <td>-0.065292</td>\n",
       "      <td>0.056104</td>\n",
       "      <td>0.088758</td>\n",
       "      <td>0.131525</td>\n",
       "      <td>-0.021096</td>\n",
       "      <td>0.031372</td>\n",
       "      <td>-0.013604</td>\n",
       "      <td>0.605852</td>\n",
       "    </tr>\n",
       "    <tr>\n",
       "      <th>2ndFlrSF</th>\n",
       "      <td>0.005590</td>\n",
       "      <td>0.307886</td>\n",
       "      <td>0.080177</td>\n",
       "      <td>0.050986</td>\n",
       "      <td>0.295493</td>\n",
       "      <td>0.028942</td>\n",
       "      <td>0.010308</td>\n",
       "      <td>0.140024</td>\n",
       "      <td>0.174561</td>\n",
       "      <td>-0.137079</td>\n",
       "      <td>...</td>\n",
       "      <td>0.092165</td>\n",
       "      <td>0.208026</td>\n",
       "      <td>0.061989</td>\n",
       "      <td>-0.024358</td>\n",
       "      <td>0.040606</td>\n",
       "      <td>0.081487</td>\n",
       "      <td>0.016197</td>\n",
       "      <td>0.035164</td>\n",
       "      <td>-0.028700</td>\n",
       "      <td>0.319334</td>\n",
       "    </tr>\n",
       "    <tr>\n",
       "      <th>LowQualFinSF</th>\n",
       "      <td>-0.044230</td>\n",
       "      <td>0.046474</td>\n",
       "      <td>0.038469</td>\n",
       "      <td>0.004779</td>\n",
       "      <td>-0.030429</td>\n",
       "      <td>0.025494</td>\n",
       "      <td>-0.183784</td>\n",
       "      <td>-0.062419</td>\n",
       "      <td>-0.069071</td>\n",
       "      <td>-0.064503</td>\n",
       "      <td>...</td>\n",
       "      <td>-0.025444</td>\n",
       "      <td>0.018251</td>\n",
       "      <td>0.061081</td>\n",
       "      <td>-0.004296</td>\n",
       "      <td>0.026799</td>\n",
       "      <td>0.062157</td>\n",
       "      <td>-0.003793</td>\n",
       "      <td>-0.022174</td>\n",
       "      <td>-0.028921</td>\n",
       "      <td>-0.025606</td>\n",
       "    </tr>\n",
       "    <tr>\n",
       "      <th>GrLivArea</th>\n",
       "      <td>0.008273</td>\n",
       "      <td>0.074853</td>\n",
       "      <td>0.402797</td>\n",
       "      <td>0.263116</td>\n",
       "      <td>0.593007</td>\n",
       "      <td>-0.079686</td>\n",
       "      <td>0.199010</td>\n",
       "      <td>0.287389</td>\n",
       "      <td>0.390857</td>\n",
       "      <td>0.208171</td>\n",
       "      <td>...</td>\n",
       "      <td>0.247433</td>\n",
       "      <td>0.330224</td>\n",
       "      <td>0.009113</td>\n",
       "      <td>0.020643</td>\n",
       "      <td>0.101510</td>\n",
       "      <td>0.170205</td>\n",
       "      <td>-0.002416</td>\n",
       "      <td>0.050240</td>\n",
       "      <td>-0.036526</td>\n",
       "      <td>0.708624</td>\n",
       "    </tr>\n",
       "    <tr>\n",
       "      <th>BsmtFullBath</th>\n",
       "      <td>0.002289</td>\n",
       "      <td>0.003491</td>\n",
       "      <td>0.100949</td>\n",
       "      <td>0.158155</td>\n",
       "      <td>0.111098</td>\n",
       "      <td>-0.054942</td>\n",
       "      <td>0.187599</td>\n",
       "      <td>0.119470</td>\n",
       "      <td>0.085310</td>\n",
       "      <td>0.649212</td>\n",
       "      <td>...</td>\n",
       "      <td>0.175315</td>\n",
       "      <td>0.067341</td>\n",
       "      <td>-0.049911</td>\n",
       "      <td>-0.000106</td>\n",
       "      <td>0.023148</td>\n",
       "      <td>0.067616</td>\n",
       "      <td>-0.023047</td>\n",
       "      <td>-0.025361</td>\n",
       "      <td>0.067049</td>\n",
       "      <td>0.227122</td>\n",
       "    </tr>\n",
       "    <tr>\n",
       "      <th>BsmtHalfBath</th>\n",
       "      <td>-0.020155</td>\n",
       "      <td>-0.002333</td>\n",
       "      <td>-0.007234</td>\n",
       "      <td>0.048046</td>\n",
       "      <td>-0.040150</td>\n",
       "      <td>0.117821</td>\n",
       "      <td>-0.038162</td>\n",
       "      <td>-0.012337</td>\n",
       "      <td>0.026673</td>\n",
       "      <td>0.067418</td>\n",
       "      <td>...</td>\n",
       "      <td>0.040161</td>\n",
       "      <td>-0.025324</td>\n",
       "      <td>-0.008555</td>\n",
       "      <td>0.035114</td>\n",
       "      <td>0.032121</td>\n",
       "      <td>0.020025</td>\n",
       "      <td>-0.007367</td>\n",
       "      <td>0.032873</td>\n",
       "      <td>-0.046524</td>\n",
       "      <td>-0.016844</td>\n",
       "    </tr>\n",
       "    <tr>\n",
       "      <th>FullBath</th>\n",
       "      <td>0.005587</td>\n",
       "      <td>0.131608</td>\n",
       "      <td>0.198769</td>\n",
       "      <td>0.126031</td>\n",
       "      <td>0.550600</td>\n",
       "      <td>-0.194149</td>\n",
       "      <td>0.468271</td>\n",
       "      <td>0.439046</td>\n",
       "      <td>0.276833</td>\n",
       "      <td>0.058543</td>\n",
       "      <td>...</td>\n",
       "      <td>0.187703</td>\n",
       "      <td>0.259977</td>\n",
       "      <td>-0.115093</td>\n",
       "      <td>0.035353</td>\n",
       "      <td>-0.008106</td>\n",
       "      <td>0.049604</td>\n",
       "      <td>-0.014290</td>\n",
       "      <td>0.055872</td>\n",
       "      <td>-0.019669</td>\n",
       "      <td>0.560664</td>\n",
       "    </tr>\n",
       "    <tr>\n",
       "      <th>HalfBath</th>\n",
       "      <td>0.006784</td>\n",
       "      <td>0.177354</td>\n",
       "      <td>0.053532</td>\n",
       "      <td>0.014259</td>\n",
       "      <td>0.273458</td>\n",
       "      <td>-0.060769</td>\n",
       "      <td>0.242656</td>\n",
       "      <td>0.183331</td>\n",
       "      <td>0.201444</td>\n",
       "      <td>0.004262</td>\n",
       "      <td>...</td>\n",
       "      <td>0.108080</td>\n",
       "      <td>0.199740</td>\n",
       "      <td>-0.095317</td>\n",
       "      <td>-0.004972</td>\n",
       "      <td>0.072426</td>\n",
       "      <td>0.022381</td>\n",
       "      <td>0.001290</td>\n",
       "      <td>-0.009050</td>\n",
       "      <td>-0.010269</td>\n",
       "      <td>0.284108</td>\n",
       "    </tr>\n",
       "    <tr>\n",
       "      <th>BedroomAbvGr</th>\n",
       "      <td>0.037719</td>\n",
       "      <td>-0.023438</td>\n",
       "      <td>0.263170</td>\n",
       "      <td>0.119690</td>\n",
       "      <td>0.101676</td>\n",
       "      <td>0.012980</td>\n",
       "      <td>-0.070651</td>\n",
       "      <td>-0.040581</td>\n",
       "      <td>0.102821</td>\n",
       "      <td>-0.107355</td>\n",
       "      <td>...</td>\n",
       "      <td>0.046854</td>\n",
       "      <td>0.093810</td>\n",
       "      <td>0.041570</td>\n",
       "      <td>-0.024478</td>\n",
       "      <td>0.044300</td>\n",
       "      <td>0.070703</td>\n",
       "      <td>0.007767</td>\n",
       "      <td>0.046544</td>\n",
       "      <td>-0.036014</td>\n",
       "      <td>0.168213</td>\n",
       "    </tr>\n",
       "    <tr>\n",
       "      <th>KitchenAbvGr</th>\n",
       "      <td>0.002951</td>\n",
       "      <td>0.281721</td>\n",
       "      <td>-0.006069</td>\n",
       "      <td>-0.017784</td>\n",
       "      <td>-0.183882</td>\n",
       "      <td>-0.087001</td>\n",
       "      <td>-0.174800</td>\n",
       "      <td>-0.149598</td>\n",
       "      <td>-0.037610</td>\n",
       "      <td>-0.081007</td>\n",
       "      <td>...</td>\n",
       "      <td>-0.090130</td>\n",
       "      <td>-0.070091</td>\n",
       "      <td>0.037312</td>\n",
       "      <td>-0.024600</td>\n",
       "      <td>-0.051613</td>\n",
       "      <td>-0.014525</td>\n",
       "      <td>0.062341</td>\n",
       "      <td>0.026589</td>\n",
       "      <td>0.031687</td>\n",
       "      <td>-0.135907</td>\n",
       "    </tr>\n",
       "    <tr>\n",
       "      <th>TotRmsAbvGrd</th>\n",
       "      <td>0.027239</td>\n",
       "      <td>0.040380</td>\n",
       "      <td>0.352096</td>\n",
       "      <td>0.190015</td>\n",
       "      <td>0.427452</td>\n",
       "      <td>-0.057583</td>\n",
       "      <td>0.095589</td>\n",
       "      <td>0.191740</td>\n",
       "      <td>0.280682</td>\n",
       "      <td>0.044316</td>\n",
       "      <td>...</td>\n",
       "      <td>0.165984</td>\n",
       "      <td>0.234192</td>\n",
       "      <td>0.004151</td>\n",
       "      <td>-0.006683</td>\n",
       "      <td>0.059383</td>\n",
       "      <td>0.083757</td>\n",
       "      <td>0.024763</td>\n",
       "      <td>0.036907</td>\n",
       "      <td>-0.034516</td>\n",
       "      <td>0.533723</td>\n",
       "    </tr>\n",
       "    <tr>\n",
       "      <th>Fireplaces</th>\n",
       "      <td>-0.019772</td>\n",
       "      <td>-0.045569</td>\n",
       "      <td>0.266639</td>\n",
       "      <td>0.271364</td>\n",
       "      <td>0.396765</td>\n",
       "      <td>-0.023820</td>\n",
       "      <td>0.147716</td>\n",
       "      <td>0.112581</td>\n",
       "      <td>0.249070</td>\n",
       "      <td>0.260011</td>\n",
       "      <td>...</td>\n",
       "      <td>0.200019</td>\n",
       "      <td>0.169405</td>\n",
       "      <td>-0.024822</td>\n",
       "      <td>0.011257</td>\n",
       "      <td>0.184530</td>\n",
       "      <td>0.095074</td>\n",
       "      <td>0.001409</td>\n",
       "      <td>0.046357</td>\n",
       "      <td>-0.024096</td>\n",
       "      <td>0.466929</td>\n",
       "    </tr>\n",
       "    <tr>\n",
       "      <th>GarageYrBlt</th>\n",
       "      <td>0.000072</td>\n",
       "      <td>0.085072</td>\n",
       "      <td>0.070250</td>\n",
       "      <td>-0.024947</td>\n",
       "      <td>0.547766</td>\n",
       "      <td>-0.324297</td>\n",
       "      <td>0.825667</td>\n",
       "      <td>0.642277</td>\n",
       "      <td>0.252691</td>\n",
       "      <td>0.153484</td>\n",
       "      <td>...</td>\n",
       "      <td>0.224577</td>\n",
       "      <td>0.228425</td>\n",
       "      <td>-0.297003</td>\n",
       "      <td>0.023544</td>\n",
       "      <td>-0.075418</td>\n",
       "      <td>-0.014501</td>\n",
       "      <td>-0.032417</td>\n",
       "      <td>0.005337</td>\n",
       "      <td>-0.001014</td>\n",
       "      <td>0.486362</td>\n",
       "    </tr>\n",
       "    <tr>\n",
       "      <th>GarageCars</th>\n",
       "      <td>0.016570</td>\n",
       "      <td>-0.040110</td>\n",
       "      <td>0.285691</td>\n",
       "      <td>0.154871</td>\n",
       "      <td>0.600671</td>\n",
       "      <td>-0.185758</td>\n",
       "      <td>0.537850</td>\n",
       "      <td>0.420622</td>\n",
       "      <td>0.364204</td>\n",
       "      <td>0.224054</td>\n",
       "      <td>...</td>\n",
       "      <td>0.226342</td>\n",
       "      <td>0.213569</td>\n",
       "      <td>-0.151434</td>\n",
       "      <td>0.035765</td>\n",
       "      <td>0.050494</td>\n",
       "      <td>0.020934</td>\n",
       "      <td>-0.043080</td>\n",
       "      <td>0.040522</td>\n",
       "      <td>-0.039117</td>\n",
       "      <td>0.640409</td>\n",
       "    </tr>\n",
       "    <tr>\n",
       "      <th>GarageArea</th>\n",
       "      <td>0.017634</td>\n",
       "      <td>-0.098672</td>\n",
       "      <td>0.344997</td>\n",
       "      <td>0.180403</td>\n",
       "      <td>0.562022</td>\n",
       "      <td>-0.151521</td>\n",
       "      <td>0.478954</td>\n",
       "      <td>0.371600</td>\n",
       "      <td>0.373066</td>\n",
       "      <td>0.296970</td>\n",
       "      <td>...</td>\n",
       "      <td>0.224666</td>\n",
       "      <td>0.241435</td>\n",
       "      <td>-0.121777</td>\n",
       "      <td>0.035087</td>\n",
       "      <td>0.051412</td>\n",
       "      <td>0.061047</td>\n",
       "      <td>-0.027400</td>\n",
       "      <td>0.027974</td>\n",
       "      <td>-0.027378</td>\n",
       "      <td>0.623431</td>\n",
       "    </tr>\n",
       "    <tr>\n",
       "      <th>WoodDeckSF</th>\n",
       "      <td>-0.029643</td>\n",
       "      <td>-0.012579</td>\n",
       "      <td>0.088521</td>\n",
       "      <td>0.171698</td>\n",
       "      <td>0.238923</td>\n",
       "      <td>-0.003334</td>\n",
       "      <td>0.224880</td>\n",
       "      <td>0.205726</td>\n",
       "      <td>0.159718</td>\n",
       "      <td>0.204306</td>\n",
       "      <td>...</td>\n",
       "      <td>1.000000</td>\n",
       "      <td>0.058661</td>\n",
       "      <td>-0.125989</td>\n",
       "      <td>-0.032771</td>\n",
       "      <td>-0.074181</td>\n",
       "      <td>0.073378</td>\n",
       "      <td>-0.009551</td>\n",
       "      <td>0.021011</td>\n",
       "      <td>0.022270</td>\n",
       "      <td>0.324413</td>\n",
       "    </tr>\n",
       "    <tr>\n",
       "      <th>OpenPorchSF</th>\n",
       "      <td>-0.000477</td>\n",
       "      <td>-0.006100</td>\n",
       "      <td>0.151972</td>\n",
       "      <td>0.084774</td>\n",
       "      <td>0.308819</td>\n",
       "      <td>-0.032589</td>\n",
       "      <td>0.188686</td>\n",
       "      <td>0.226298</td>\n",
       "      <td>0.125703</td>\n",
       "      <td>0.111761</td>\n",
       "      <td>...</td>\n",
       "      <td>0.058661</td>\n",
       "      <td>1.000000</td>\n",
       "      <td>-0.093079</td>\n",
       "      <td>-0.005842</td>\n",
       "      <td>0.074304</td>\n",
       "      <td>0.060762</td>\n",
       "      <td>-0.018584</td>\n",
       "      <td>0.071255</td>\n",
       "      <td>-0.057619</td>\n",
       "      <td>0.315856</td>\n",
       "    </tr>\n",
       "    <tr>\n",
       "      <th>EnclosedPorch</th>\n",
       "      <td>0.002889</td>\n",
       "      <td>-0.012037</td>\n",
       "      <td>0.010700</td>\n",
       "      <td>-0.018340</td>\n",
       "      <td>-0.113937</td>\n",
       "      <td>0.070356</td>\n",
       "      <td>-0.387268</td>\n",
       "      <td>-0.193919</td>\n",
       "      <td>-0.110204</td>\n",
       "      <td>-0.102303</td>\n",
       "      <td>...</td>\n",
       "      <td>-0.125989</td>\n",
       "      <td>-0.093079</td>\n",
       "      <td>1.000000</td>\n",
       "      <td>-0.037305</td>\n",
       "      <td>-0.082864</td>\n",
       "      <td>0.054203</td>\n",
       "      <td>0.018361</td>\n",
       "      <td>-0.028887</td>\n",
       "      <td>-0.009916</td>\n",
       "      <td>-0.128578</td>\n",
       "    </tr>\n",
       "    <tr>\n",
       "      <th>3SsnPorch</th>\n",
       "      <td>-0.046635</td>\n",
       "      <td>-0.043825</td>\n",
       "      <td>0.070029</td>\n",
       "      <td>0.020423</td>\n",
       "      <td>0.030371</td>\n",
       "      <td>0.025504</td>\n",
       "      <td>0.031355</td>\n",
       "      <td>0.045286</td>\n",
       "      <td>0.018796</td>\n",
       "      <td>0.026451</td>\n",
       "      <td>...</td>\n",
       "      <td>-0.032771</td>\n",
       "      <td>-0.005842</td>\n",
       "      <td>-0.037305</td>\n",
       "      <td>1.000000</td>\n",
       "      <td>-0.031436</td>\n",
       "      <td>-0.007992</td>\n",
       "      <td>0.000354</td>\n",
       "      <td>0.029474</td>\n",
       "      <td>0.018645</td>\n",
       "      <td>0.044584</td>\n",
       "    </tr>\n",
       "    <tr>\n",
       "      <th>ScreenPorch</th>\n",
       "      <td>0.001330</td>\n",
       "      <td>-0.026030</td>\n",
       "      <td>0.041383</td>\n",
       "      <td>0.043160</td>\n",
       "      <td>0.064886</td>\n",
       "      <td>0.054811</td>\n",
       "      <td>-0.050364</td>\n",
       "      <td>-0.038740</td>\n",
       "      <td>0.061466</td>\n",
       "      <td>0.062021</td>\n",
       "      <td>...</td>\n",
       "      <td>-0.074181</td>\n",
       "      <td>0.074304</td>\n",
       "      <td>-0.082864</td>\n",
       "      <td>-0.031436</td>\n",
       "      <td>1.000000</td>\n",
       "      <td>0.051307</td>\n",
       "      <td>0.031946</td>\n",
       "      <td>0.023217</td>\n",
       "      <td>0.010694</td>\n",
       "      <td>0.111447</td>\n",
       "    </tr>\n",
       "    <tr>\n",
       "      <th>PoolArea</th>\n",
       "      <td>0.057044</td>\n",
       "      <td>0.008283</td>\n",
       "      <td>0.206167</td>\n",
       "      <td>0.077672</td>\n",
       "      <td>0.065166</td>\n",
       "      <td>-0.001985</td>\n",
       "      <td>0.004950</td>\n",
       "      <td>0.005829</td>\n",
       "      <td>0.011723</td>\n",
       "      <td>0.140491</td>\n",
       "      <td>...</td>\n",
       "      <td>0.073378</td>\n",
       "      <td>0.060762</td>\n",
       "      <td>0.054203</td>\n",
       "      <td>-0.007992</td>\n",
       "      <td>0.051307</td>\n",
       "      <td>1.000000</td>\n",
       "      <td>0.029669</td>\n",
       "      <td>-0.033737</td>\n",
       "      <td>-0.059689</td>\n",
       "      <td>0.092404</td>\n",
       "    </tr>\n",
       "    <tr>\n",
       "      <th>MiscVal</th>\n",
       "      <td>-0.006242</td>\n",
       "      <td>-0.007683</td>\n",
       "      <td>0.003368</td>\n",
       "      <td>0.038068</td>\n",
       "      <td>-0.031406</td>\n",
       "      <td>0.068777</td>\n",
       "      <td>-0.034383</td>\n",
       "      <td>-0.010286</td>\n",
       "      <td>-0.029815</td>\n",
       "      <td>0.003571</td>\n",
       "      <td>...</td>\n",
       "      <td>-0.009551</td>\n",
       "      <td>-0.018584</td>\n",
       "      <td>0.018361</td>\n",
       "      <td>0.000354</td>\n",
       "      <td>0.031946</td>\n",
       "      <td>0.029669</td>\n",
       "      <td>1.000000</td>\n",
       "      <td>-0.006495</td>\n",
       "      <td>0.004906</td>\n",
       "      <td>-0.021190</td>\n",
       "    </tr>\n",
       "    <tr>\n",
       "      <th>MoSold</th>\n",
       "      <td>0.021172</td>\n",
       "      <td>-0.013585</td>\n",
       "      <td>0.011200</td>\n",
       "      <td>0.001205</td>\n",
       "      <td>0.070815</td>\n",
       "      <td>-0.003511</td>\n",
       "      <td>0.012398</td>\n",
       "      <td>0.021490</td>\n",
       "      <td>-0.005965</td>\n",
       "      <td>-0.015727</td>\n",
       "      <td>...</td>\n",
       "      <td>0.021011</td>\n",
       "      <td>0.071255</td>\n",
       "      <td>-0.028887</td>\n",
       "      <td>0.029474</td>\n",
       "      <td>0.023217</td>\n",
       "      <td>-0.033737</td>\n",
       "      <td>-0.006495</td>\n",
       "      <td>1.000000</td>\n",
       "      <td>-0.145721</td>\n",
       "      <td>0.046432</td>\n",
       "    </tr>\n",
       "    <tr>\n",
       "      <th>YrSold</th>\n",
       "      <td>0.000712</td>\n",
       "      <td>-0.021407</td>\n",
       "      <td>0.007450</td>\n",
       "      <td>-0.014261</td>\n",
       "      <td>-0.027347</td>\n",
       "      <td>0.043950</td>\n",
       "      <td>-0.013618</td>\n",
       "      <td>0.035743</td>\n",
       "      <td>-0.008201</td>\n",
       "      <td>0.014359</td>\n",
       "      <td>...</td>\n",
       "      <td>0.022270</td>\n",
       "      <td>-0.057619</td>\n",
       "      <td>-0.009916</td>\n",
       "      <td>0.018645</td>\n",
       "      <td>0.010694</td>\n",
       "      <td>-0.059689</td>\n",
       "      <td>0.004906</td>\n",
       "      <td>-0.145721</td>\n",
       "      <td>1.000000</td>\n",
       "      <td>-0.028923</td>\n",
       "    </tr>\n",
       "    <tr>\n",
       "      <th>SalePrice</th>\n",
       "      <td>-0.021917</td>\n",
       "      <td>-0.084284</td>\n",
       "      <td>0.351799</td>\n",
       "      <td>0.263843</td>\n",
       "      <td>0.790982</td>\n",
       "      <td>-0.077856</td>\n",
       "      <td>0.522897</td>\n",
       "      <td>0.507101</td>\n",
       "      <td>0.477493</td>\n",
       "      <td>0.386420</td>\n",
       "      <td>...</td>\n",
       "      <td>0.324413</td>\n",
       "      <td>0.315856</td>\n",
       "      <td>-0.128578</td>\n",
       "      <td>0.044584</td>\n",
       "      <td>0.111447</td>\n",
       "      <td>0.092404</td>\n",
       "      <td>-0.021190</td>\n",
       "      <td>0.046432</td>\n",
       "      <td>-0.028923</td>\n",
       "      <td>1.000000</td>\n",
       "    </tr>\n",
       "  </tbody>\n",
       "</table>\n",
       "<p>38 rows × 38 columns</p>\n",
       "</div>"
      ],
      "text/plain": [
       "                     Id  MSSubClass  LotFrontage   LotArea  OverallQual  \\\n",
       "Id             1.000000    0.011156    -0.010601 -0.033226    -0.028365   \n",
       "MSSubClass     0.011156    1.000000    -0.386347 -0.139781     0.032628   \n",
       "LotFrontage   -0.010601   -0.386347     1.000000  0.426095     0.251646   \n",
       "LotArea       -0.033226   -0.139781     0.426095  1.000000     0.105806   \n",
       "OverallQual   -0.028365    0.032628     0.251646  0.105806     1.000000   \n",
       "OverallCond    0.012609   -0.059316    -0.059213 -0.005636    -0.091932   \n",
       "YearBuilt     -0.012713    0.027850     0.123349  0.014228     0.572323   \n",
       "YearRemodAdd  -0.021998    0.040581     0.088866  0.013788     0.550684   \n",
       "MasVnrArea    -0.050298    0.022936     0.193458  0.104160     0.411876   \n",
       "BsmtFinSF1    -0.005024   -0.069836     0.233633  0.214103     0.239666   \n",
       "BsmtFinSF2    -0.005968   -0.065649     0.049900  0.111170    -0.059119   \n",
       "BsmtUnfSF     -0.007940   -0.140759     0.132644 -0.002618     0.308159   \n",
       "TotalBsmtSF   -0.015415   -0.238518     0.392075  0.260833     0.537808   \n",
       "1stFlrSF       0.010496   -0.251758     0.457181  0.299475     0.476224   \n",
       "2ndFlrSF       0.005590    0.307886     0.080177  0.050986     0.295493   \n",
       "LowQualFinSF  -0.044230    0.046474     0.038469  0.004779    -0.030429   \n",
       "GrLivArea      0.008273    0.074853     0.402797  0.263116     0.593007   \n",
       "BsmtFullBath   0.002289    0.003491     0.100949  0.158155     0.111098   \n",
       "BsmtHalfBath  -0.020155   -0.002333    -0.007234  0.048046    -0.040150   \n",
       "FullBath       0.005587    0.131608     0.198769  0.126031     0.550600   \n",
       "HalfBath       0.006784    0.177354     0.053532  0.014259     0.273458   \n",
       "BedroomAbvGr   0.037719   -0.023438     0.263170  0.119690     0.101676   \n",
       "KitchenAbvGr   0.002951    0.281721    -0.006069 -0.017784    -0.183882   \n",
       "TotRmsAbvGrd   0.027239    0.040380     0.352096  0.190015     0.427452   \n",
       "Fireplaces    -0.019772   -0.045569     0.266639  0.271364     0.396765   \n",
       "GarageYrBlt    0.000072    0.085072     0.070250 -0.024947     0.547766   \n",
       "GarageCars     0.016570   -0.040110     0.285691  0.154871     0.600671   \n",
       "GarageArea     0.017634   -0.098672     0.344997  0.180403     0.562022   \n",
       "WoodDeckSF    -0.029643   -0.012579     0.088521  0.171698     0.238923   \n",
       "OpenPorchSF   -0.000477   -0.006100     0.151972  0.084774     0.308819   \n",
       "EnclosedPorch  0.002889   -0.012037     0.010700 -0.018340    -0.113937   \n",
       "3SsnPorch     -0.046635   -0.043825     0.070029  0.020423     0.030371   \n",
       "ScreenPorch    0.001330   -0.026030     0.041383  0.043160     0.064886   \n",
       "PoolArea       0.057044    0.008283     0.206167  0.077672     0.065166   \n",
       "MiscVal       -0.006242   -0.007683     0.003368  0.038068    -0.031406   \n",
       "MoSold         0.021172   -0.013585     0.011200  0.001205     0.070815   \n",
       "YrSold         0.000712   -0.021407     0.007450 -0.014261    -0.027347   \n",
       "SalePrice     -0.021917   -0.084284     0.351799  0.263843     0.790982   \n",
       "\n",
       "               OverallCond  YearBuilt  YearRemodAdd  MasVnrArea  BsmtFinSF1  \\\n",
       "Id                0.012609  -0.012713     -0.021998   -0.050298   -0.005024   \n",
       "MSSubClass       -0.059316   0.027850      0.040581    0.022936   -0.069836   \n",
       "LotFrontage      -0.059213   0.123349      0.088866    0.193458    0.233633   \n",
       "LotArea          -0.005636   0.014228      0.013788    0.104160    0.214103   \n",
       "OverallQual      -0.091932   0.572323      0.550684    0.411876    0.239666   \n",
       "OverallCond       1.000000  -0.375983      0.073741   -0.128101   -0.046231   \n",
       "YearBuilt        -0.375983   1.000000      0.592855    0.315707    0.249503   \n",
       "YearRemodAdd      0.073741   0.592855      1.000000    0.179618    0.128451   \n",
       "MasVnrArea       -0.128101   0.315707      0.179618    1.000000    0.264736   \n",
       "BsmtFinSF1       -0.046231   0.249503      0.128451    0.264736    1.000000   \n",
       "BsmtFinSF2        0.040229  -0.049107     -0.067759   -0.072319   -0.050117   \n",
       "BsmtUnfSF        -0.136841   0.149040      0.181133    0.114442   -0.495251   \n",
       "TotalBsmtSF      -0.171098   0.391452      0.291066    0.363936    0.522396   \n",
       "1stFlrSF         -0.144203   0.281986      0.240379    0.344501    0.445863   \n",
       "2ndFlrSF          0.028942   0.010308      0.140024    0.174561   -0.137079   \n",
       "LowQualFinSF      0.025494  -0.183784     -0.062419   -0.069071   -0.064503   \n",
       "GrLivArea        -0.079686   0.199010      0.287389    0.390857    0.208171   \n",
       "BsmtFullBath     -0.054942   0.187599      0.119470    0.085310    0.649212   \n",
       "BsmtHalfBath      0.117821  -0.038162     -0.012337    0.026673    0.067418   \n",
       "FullBath         -0.194149   0.468271      0.439046    0.276833    0.058543   \n",
       "HalfBath         -0.060769   0.242656      0.183331    0.201444    0.004262   \n",
       "BedroomAbvGr      0.012980  -0.070651     -0.040581    0.102821   -0.107355   \n",
       "KitchenAbvGr     -0.087001  -0.174800     -0.149598   -0.037610   -0.081007   \n",
       "TotRmsAbvGrd     -0.057583   0.095589      0.191740    0.280682    0.044316   \n",
       "Fireplaces       -0.023820   0.147716      0.112581    0.249070    0.260011   \n",
       "GarageYrBlt      -0.324297   0.825667      0.642277    0.252691    0.153484   \n",
       "GarageCars       -0.185758   0.537850      0.420622    0.364204    0.224054   \n",
       "GarageArea       -0.151521   0.478954      0.371600    0.373066    0.296970   \n",
       "WoodDeckSF       -0.003334   0.224880      0.205726    0.159718    0.204306   \n",
       "OpenPorchSF      -0.032589   0.188686      0.226298    0.125703    0.111761   \n",
       "EnclosedPorch     0.070356  -0.387268     -0.193919   -0.110204   -0.102303   \n",
       "3SsnPorch         0.025504   0.031355      0.045286    0.018796    0.026451   \n",
       "ScreenPorch       0.054811  -0.050364     -0.038740    0.061466    0.062021   \n",
       "PoolArea         -0.001985   0.004950      0.005829    0.011723    0.140491   \n",
       "MiscVal           0.068777  -0.034383     -0.010286   -0.029815    0.003571   \n",
       "MoSold           -0.003511   0.012398      0.021490   -0.005965   -0.015727   \n",
       "YrSold            0.043950  -0.013618      0.035743   -0.008201    0.014359   \n",
       "SalePrice        -0.077856   0.522897      0.507101    0.477493    0.386420   \n",
       "\n",
       "               ...  WoodDeckSF  OpenPorchSF  EnclosedPorch  3SsnPorch  \\\n",
       "Id             ...   -0.029643    -0.000477       0.002889  -0.046635   \n",
       "MSSubClass     ...   -0.012579    -0.006100      -0.012037  -0.043825   \n",
       "LotFrontage    ...    0.088521     0.151972       0.010700   0.070029   \n",
       "LotArea        ...    0.171698     0.084774      -0.018340   0.020423   \n",
       "OverallQual    ...    0.238923     0.308819      -0.113937   0.030371   \n",
       "OverallCond    ...   -0.003334    -0.032589       0.070356   0.025504   \n",
       "YearBuilt      ...    0.224880     0.188686      -0.387268   0.031355   \n",
       "YearRemodAdd   ...    0.205726     0.226298      -0.193919   0.045286   \n",
       "MasVnrArea     ...    0.159718     0.125703      -0.110204   0.018796   \n",
       "BsmtFinSF1     ...    0.204306     0.111761      -0.102303   0.026451   \n",
       "BsmtFinSF2     ...    0.067898     0.003093       0.036543  -0.029993   \n",
       "BsmtUnfSF      ...   -0.005316     0.129005      -0.002538   0.020764   \n",
       "TotalBsmtSF    ...    0.232019     0.247264      -0.095478   0.037384   \n",
       "1stFlrSF       ...    0.235459     0.211671      -0.065292   0.056104   \n",
       "2ndFlrSF       ...    0.092165     0.208026       0.061989  -0.024358   \n",
       "LowQualFinSF   ...   -0.025444     0.018251       0.061081  -0.004296   \n",
       "GrLivArea      ...    0.247433     0.330224       0.009113   0.020643   \n",
       "BsmtFullBath   ...    0.175315     0.067341      -0.049911  -0.000106   \n",
       "BsmtHalfBath   ...    0.040161    -0.025324      -0.008555   0.035114   \n",
       "FullBath       ...    0.187703     0.259977      -0.115093   0.035353   \n",
       "HalfBath       ...    0.108080     0.199740      -0.095317  -0.004972   \n",
       "BedroomAbvGr   ...    0.046854     0.093810       0.041570  -0.024478   \n",
       "KitchenAbvGr   ...   -0.090130    -0.070091       0.037312  -0.024600   \n",
       "TotRmsAbvGrd   ...    0.165984     0.234192       0.004151  -0.006683   \n",
       "Fireplaces     ...    0.200019     0.169405      -0.024822   0.011257   \n",
       "GarageYrBlt    ...    0.224577     0.228425      -0.297003   0.023544   \n",
       "GarageCars     ...    0.226342     0.213569      -0.151434   0.035765   \n",
       "GarageArea     ...    0.224666     0.241435      -0.121777   0.035087   \n",
       "WoodDeckSF     ...    1.000000     0.058661      -0.125989  -0.032771   \n",
       "OpenPorchSF    ...    0.058661     1.000000      -0.093079  -0.005842   \n",
       "EnclosedPorch  ...   -0.125989    -0.093079       1.000000  -0.037305   \n",
       "3SsnPorch      ...   -0.032771    -0.005842      -0.037305   1.000000   \n",
       "ScreenPorch    ...   -0.074181     0.074304      -0.082864  -0.031436   \n",
       "PoolArea       ...    0.073378     0.060762       0.054203  -0.007992   \n",
       "MiscVal        ...   -0.009551    -0.018584       0.018361   0.000354   \n",
       "MoSold         ...    0.021011     0.071255      -0.028887   0.029474   \n",
       "YrSold         ...    0.022270    -0.057619      -0.009916   0.018645   \n",
       "SalePrice      ...    0.324413     0.315856      -0.128578   0.044584   \n",
       "\n",
       "               ScreenPorch  PoolArea   MiscVal    MoSold    YrSold  SalePrice  \n",
       "Id                0.001330  0.057044 -0.006242  0.021172  0.000712  -0.021917  \n",
       "MSSubClass       -0.026030  0.008283 -0.007683 -0.013585 -0.021407  -0.084284  \n",
       "LotFrontage       0.041383  0.206167  0.003368  0.011200  0.007450   0.351799  \n",
       "LotArea           0.043160  0.077672  0.038068  0.001205 -0.014261   0.263843  \n",
       "OverallQual       0.064886  0.065166 -0.031406  0.070815 -0.027347   0.790982  \n",
       "OverallCond       0.054811 -0.001985  0.068777 -0.003511  0.043950  -0.077856  \n",
       "YearBuilt        -0.050364  0.004950 -0.034383  0.012398 -0.013618   0.522897  \n",
       "YearRemodAdd     -0.038740  0.005829 -0.010286  0.021490  0.035743   0.507101  \n",
       "MasVnrArea        0.061466  0.011723 -0.029815 -0.005965 -0.008201   0.477493  \n",
       "BsmtFinSF1        0.062021  0.140491  0.003571 -0.015727  0.014359   0.386420  \n",
       "BsmtFinSF2        0.088871  0.041709  0.004940 -0.015211  0.031706  -0.011378  \n",
       "BsmtUnfSF        -0.012579 -0.035092 -0.023837  0.034888 -0.041258   0.214479  \n",
       "TotalBsmtSF       0.084489  0.126053 -0.018479  0.013196 -0.014969   0.613581  \n",
       "1stFlrSF          0.088758  0.131525 -0.021096  0.031372 -0.013604   0.605852  \n",
       "2ndFlrSF          0.040606  0.081487  0.016197  0.035164 -0.028700   0.319334  \n",
       "LowQualFinSF      0.026799  0.062157 -0.003793 -0.022174 -0.028921  -0.025606  \n",
       "GrLivArea         0.101510  0.170205 -0.002416  0.050240 -0.036526   0.708624  \n",
       "BsmtFullBath      0.023148  0.067616 -0.023047 -0.025361  0.067049   0.227122  \n",
       "BsmtHalfBath      0.032121  0.020025 -0.007367  0.032873 -0.046524  -0.016844  \n",
       "FullBath         -0.008106  0.049604 -0.014290  0.055872 -0.019669   0.560664  \n",
       "HalfBath          0.072426  0.022381  0.001290 -0.009050 -0.010269   0.284108  \n",
       "BedroomAbvGr      0.044300  0.070703  0.007767  0.046544 -0.036014   0.168213  \n",
       "KitchenAbvGr     -0.051613 -0.014525  0.062341  0.026589  0.031687  -0.135907  \n",
       "TotRmsAbvGrd      0.059383  0.083757  0.024763  0.036907 -0.034516   0.533723  \n",
       "Fireplaces        0.184530  0.095074  0.001409  0.046357 -0.024096   0.466929  \n",
       "GarageYrBlt      -0.075418 -0.014501 -0.032417  0.005337 -0.001014   0.486362  \n",
       "GarageCars        0.050494  0.020934 -0.043080  0.040522 -0.039117   0.640409  \n",
       "GarageArea        0.051412  0.061047 -0.027400  0.027974 -0.027378   0.623431  \n",
       "WoodDeckSF       -0.074181  0.073378 -0.009551  0.021011  0.022270   0.324413  \n",
       "OpenPorchSF       0.074304  0.060762 -0.018584  0.071255 -0.057619   0.315856  \n",
       "EnclosedPorch    -0.082864  0.054203  0.018361 -0.028887 -0.009916  -0.128578  \n",
       "3SsnPorch        -0.031436 -0.007992  0.000354  0.029474  0.018645   0.044584  \n",
       "ScreenPorch       1.000000  0.051307  0.031946  0.023217  0.010694   0.111447  \n",
       "PoolArea          0.051307  1.000000  0.029669 -0.033737 -0.059689   0.092404  \n",
       "MiscVal           0.031946  0.029669  1.000000 -0.006495  0.004906  -0.021190  \n",
       "MoSold            0.023217 -0.033737 -0.006495  1.000000 -0.145721   0.046432  \n",
       "YrSold            0.010694 -0.059689  0.004906 -0.145721  1.000000  -0.028923  \n",
       "SalePrice         0.111447  0.092404 -0.021190  0.046432 -0.028923   1.000000  \n",
       "\n",
       "[38 rows x 38 columns]"
      ]
     },
     "execution_count": 9,
     "metadata": {},
     "output_type": "execute_result"
    }
   ],
   "source": [
    "# how is the correlation between the features?\n",
    "df_numeric = df.select_dtypes(include=['float64', 'int64'])\n",
    "df_numeric.corr()"
   ]
  },
  {
   "cell_type": "code",
   "execution_count": 10,
   "id": "fd01626d",
   "metadata": {},
   "outputs": [
    {
     "name": "stdout",
     "output_type": "stream",
     "text": [
      "Columns with mixed types:\n",
      "['Alley', 'MasVnrType', 'BsmtQual', 'BsmtCond', 'BsmtExposure', 'BsmtFinType1', 'BsmtFinType2', 'Electrical', 'FireplaceQu', 'GarageType', 'GarageFinish', 'GarageQual', 'GarageCond', 'PoolQC', 'Fence', 'MiscFeature']\n",
      "SUM:  16\n"
     ]
    }
   ],
   "source": [
    "# function to check for mixed types in a column\n",
    "def has_mixed_types(col):\n",
    "    return col.apply(type).nunique() > 1\n",
    "\n",
    "# Apply it to all columns\n",
    "mixed_type_columns = df.columns[df.apply(has_mixed_types)]\n",
    "\n",
    "# Print result\n",
    "print(\"Columns with mixed types:\")\n",
    "print(mixed_type_columns.tolist())\n",
    "print(\"SUM: \", len(mixed_type_columns))"
   ]
  },
  {
   "cell_type": "code",
   "execution_count": 11,
   "id": "6ac3851a",
   "metadata": {},
   "outputs": [
    {
     "name": "stdout",
     "output_type": "stream",
     "text": [
      "\n",
      "🧪 Column: Alley\n",
      "🔢 Data types count:\n",
      "Alley\n",
      "<class 'float'>    1369\n",
      "<class 'str'>        91\n",
      "Name: count, dtype: int64\n",
      "\n",
      "🧪 Column: MasVnrType\n",
      "🔢 Data types count:\n",
      "MasVnrType\n",
      "<class 'float'>    872\n",
      "<class 'str'>      588\n",
      "Name: count, dtype: int64\n",
      "\n",
      "🧪 Column: BsmtQual\n",
      "🔢 Data types count:\n",
      "BsmtQual\n",
      "<class 'str'>      1423\n",
      "<class 'float'>      37\n",
      "Name: count, dtype: int64\n",
      "\n",
      "🧪 Column: BsmtCond\n",
      "🔢 Data types count:\n",
      "BsmtCond\n",
      "<class 'str'>      1423\n",
      "<class 'float'>      37\n",
      "Name: count, dtype: int64\n",
      "\n",
      "🧪 Column: BsmtExposure\n",
      "🔢 Data types count:\n",
      "BsmtExposure\n",
      "<class 'str'>      1422\n",
      "<class 'float'>      38\n",
      "Name: count, dtype: int64\n",
      "\n",
      "🧪 Column: BsmtFinType1\n",
      "🔢 Data types count:\n",
      "BsmtFinType1\n",
      "<class 'str'>      1423\n",
      "<class 'float'>      37\n",
      "Name: count, dtype: int64\n",
      "\n",
      "🧪 Column: BsmtFinType2\n",
      "🔢 Data types count:\n",
      "BsmtFinType2\n",
      "<class 'str'>      1422\n",
      "<class 'float'>      38\n",
      "Name: count, dtype: int64\n",
      "\n",
      "🧪 Column: Electrical\n",
      "🔢 Data types count:\n",
      "Electrical\n",
      "<class 'str'>      1459\n",
      "<class 'float'>       1\n",
      "Name: count, dtype: int64\n",
      "\n",
      "🧪 Column: FireplaceQu\n",
      "🔢 Data types count:\n",
      "FireplaceQu\n",
      "<class 'str'>      770\n",
      "<class 'float'>    690\n",
      "Name: count, dtype: int64\n",
      "\n",
      "🧪 Column: GarageType\n",
      "🔢 Data types count:\n",
      "GarageType\n",
      "<class 'str'>      1379\n",
      "<class 'float'>      81\n",
      "Name: count, dtype: int64\n",
      "\n",
      "🧪 Column: GarageFinish\n",
      "🔢 Data types count:\n",
      "GarageFinish\n",
      "<class 'str'>      1379\n",
      "<class 'float'>      81\n",
      "Name: count, dtype: int64\n",
      "\n",
      "🧪 Column: GarageQual\n",
      "🔢 Data types count:\n",
      "GarageQual\n",
      "<class 'str'>      1379\n",
      "<class 'float'>      81\n",
      "Name: count, dtype: int64\n",
      "\n",
      "🧪 Column: GarageCond\n",
      "🔢 Data types count:\n",
      "GarageCond\n",
      "<class 'str'>      1379\n",
      "<class 'float'>      81\n",
      "Name: count, dtype: int64\n",
      "\n",
      "🧪 Column: PoolQC\n",
      "🔢 Data types count:\n",
      "PoolQC\n",
      "<class 'float'>    1453\n",
      "<class 'str'>         7\n",
      "Name: count, dtype: int64\n",
      "\n",
      "🧪 Column: Fence\n",
      "🔢 Data types count:\n",
      "Fence\n",
      "<class 'float'>    1179\n",
      "<class 'str'>       281\n",
      "Name: count, dtype: int64\n",
      "\n",
      "🧪 Column: MiscFeature\n",
      "🔢 Data types count:\n",
      "MiscFeature\n",
      "<class 'float'>    1406\n",
      "<class 'str'>        54\n",
      "Name: count, dtype: int64\n"
     ]
    }
   ],
   "source": [
    "# Loop through mixed-type columns and show type counts + sample values\n",
    "for col in mixed_type_columns:\n",
    "    print(f\"\\n🧪 Column: {col}\")\n",
    "    \n",
    "    # Count how many of each data type\n",
    "    type_counts = df[col].apply(type).value_counts()\n",
    "    print(\"🔢 Data types count:\")\n",
    "    print(type_counts)\n",
    "    \n",
    "    # Optional: show example values from each type\n",
    "    # print(\"🔍 Example values per type:\")\n",
    "    # for dtype in type_counts.index:\n",
    "    #     examples = df[col][df[col].apply(lambda x: isinstance(x, dtype))].dropna().unique()[:5]\n",
    "    #     print(f\" - {dtype.__name__}: {examples}\")"
   ]
  },
  {
   "cell_type": "markdown",
   "id": "0c5c2461",
   "metadata": {},
   "source": [
    "# Handling Missing Data"
   ]
  },
  {
   "cell_type": "code",
   "execution_count": 12,
   "id": "bcaedb78",
   "metadata": {},
   "outputs": [
    {
     "data": {
      "text/plain": [
       "PoolQC          99.520548\n",
       "MiscFeature     96.301370\n",
       "Alley           93.767123\n",
       "Fence           80.753425\n",
       "MasVnrType      59.726027\n",
       "FireplaceQu     47.260274\n",
       "LotFrontage     17.739726\n",
       "GarageQual       5.547945\n",
       "GarageFinish     5.547945\n",
       "GarageType       5.547945\n",
       "GarageYrBlt      5.547945\n",
       "GarageCond       5.547945\n",
       "BsmtFinType2     2.602740\n",
       "BsmtExposure     2.602740\n",
       "BsmtCond         2.534247\n",
       "dtype: float64"
      ]
     },
     "execution_count": 12,
     "metadata": {},
     "output_type": "execute_result"
    }
   ],
   "source": [
    "# Show percentage of missing values, sorted descending, top 10\n",
    "df.isnull().mean().sort_values(ascending=False).head(15) * 100"
   ]
  },
  {
   "cell_type": "code",
   "execution_count": 13,
   "id": "117e3531",
   "metadata": {},
   "outputs": [
    {
     "name": "stdout",
     "output_type": "stream",
     "text": [
      "The number of columns with null values: 19\n"
     ]
    }
   ],
   "source": [
    "null_columns_count = df.isnull().any().sum()\n",
    "print(f'The number of columns with null values: {null_columns_count}')"
   ]
  },
  {
   "cell_type": "code",
   "execution_count": 14,
   "id": "0605c75e",
   "metadata": {},
   "outputs": [
    {
     "data": {
      "text/plain": [
       "PoolArea\n",
       "0      1453\n",
       "512       1\n",
       "648       1\n",
       "576       1\n",
       "555       1\n",
       "480       1\n",
       "519       1\n",
       "738       1\n",
       "Name: count, dtype: int64"
      ]
     },
     "execution_count": 14,
     "metadata": {},
     "output_type": "execute_result"
    }
   ],
   "source": [
    "df['PoolArea'].value_counts()"
   ]
  },
  {
   "cell_type": "code",
   "execution_count": 15,
   "id": "5386dd24",
   "metadata": {},
   "outputs": [],
   "source": [
    "# So in 1460 there are 1456 rows with 0 PoolArea, so I'm sropping the column,\n",
    "# because it doesn't add any value to the dataset.\n",
    "# also, droping PoolQC (pool quality) because it is realted to PoolArea\n",
    "# and has too many missing values.\n",
    "df = df.drop(columns=['PoolArea', 'PoolQC'])"
   ]
  },
  {
   "cell_type": "code",
   "execution_count": 16,
   "id": "ae08bf0c",
   "metadata": {},
   "outputs": [
    {
     "data": {
      "text/plain": [
       "(1460, 79)"
      ]
     },
     "execution_count": 16,
     "metadata": {},
     "output_type": "execute_result"
    }
   ],
   "source": [
    "df.shape"
   ]
  },
  {
   "cell_type": "code",
   "execution_count": 17,
   "id": "070f3837",
   "metadata": {},
   "outputs": [
    {
     "data": {
      "text/plain": [
       "MiscFeature     96.301370\n",
       "Alley           93.767123\n",
       "Fence           80.753425\n",
       "MasVnrType      59.726027\n",
       "FireplaceQu     47.260274\n",
       "LotFrontage     17.739726\n",
       "GarageYrBlt      5.547945\n",
       "GarageCond       5.547945\n",
       "GarageQual       5.547945\n",
       "GarageType       5.547945\n",
       "GarageFinish     5.547945\n",
       "BsmtExposure     2.602740\n",
       "BsmtFinType2     2.602740\n",
       "BsmtQual         2.534247\n",
       "BsmtCond         2.534247\n",
       "dtype: float64"
      ]
     },
     "execution_count": 17,
     "metadata": {},
     "output_type": "execute_result"
    }
   ],
   "source": [
    "df.isnull().mean().sort_values(ascending=False).head(15) * 100"
   ]
  },
  {
   "cell_type": "code",
   "execution_count": 18,
   "id": "70fd9e9f",
   "metadata": {},
   "outputs": [],
   "source": [
    "# MiscFeature: Miscellaneous feature that are not covered in other categories.\n",
    "# It has too many missing values and the values are not very informative.\n",
    "# So I'm dropping it.\n",
    "\n",
    "# Alley: 93% of total house does not have alley access. \n",
    "# So I don't think it adds any value to the dataset.\n",
    "\n",
    "# Fence: 80% of total house does not have fence.\n",
    "# So I don't think it adds any value to the dataset.\n",
    "\n",
    "# MasVnrType: 59% of total house does not have masonry veneer.\n",
    "# So I don't think it adds any value to the dataset.\n",
    "\n",
    "df = df.drop(columns=['MiscFeature', 'Alley', 'Fence', 'MasVnrType'])"
   ]
  },
  {
   "cell_type": "code",
   "execution_count": 19,
   "id": "34d15a29",
   "metadata": {},
   "outputs": [
    {
     "data": {
      "text/plain": [
       "(1460, 75)"
      ]
     },
     "execution_count": 19,
     "metadata": {},
     "output_type": "execute_result"
    }
   ],
   "source": [
    "df.shape   "
   ]
  },
  {
   "cell_type": "markdown",
   "id": "4e72e06a",
   "metadata": {},
   "source": [
    "# Imputing missing value:\n",
    "\n",
    "choosing how to do it depends on:\n",
    "- The percentage of missing data\n",
    "- The importance of the variable\n",
    "- Whether it's MCAR (Missing Completely At Random), MAR (Missing At Random), or MNAR (Missing Not At Random)\n",
    "- The type of variable (categorical/numerical)\n",
    "- How much information you'd lose"
   ]
  },
  {
   "cell_type": "markdown",
   "id": "5ee58330",
   "metadata": {},
   "source": [
    "### 1. FireplaceQu"
   ]
  },
  {
   "cell_type": "code",
   "execution_count": 20,
   "id": "49981332",
   "metadata": {},
   "outputs": [
    {
     "data": {
      "text/plain": [
       "FireplaceQu     47.260274\n",
       "LotFrontage     17.739726\n",
       "GarageType       5.547945\n",
       "GarageFinish     5.547945\n",
       "GarageCond       5.547945\n",
       "GarageQual       5.547945\n",
       "GarageYrBlt      5.547945\n",
       "BsmtExposure     2.602740\n",
       "BsmtFinType2     2.602740\n",
       "BsmtCond         2.534247\n",
       "BsmtFinType1     2.534247\n",
       "BsmtQual         2.534247\n",
       "MasVnrArea       0.547945\n",
       "Electrical       0.068493\n",
       "LotConfig        0.000000\n",
       "LandSlope        0.000000\n",
       "Street           0.000000\n",
       "dtype: float64"
      ]
     },
     "execution_count": 20,
     "metadata": {},
     "output_type": "execute_result"
    }
   ],
   "source": [
    "df.isnull().mean().sort_values(ascending=False).head(17) * 100"
   ]
  },
  {
   "cell_type": "code",
   "execution_count": 21,
   "id": "9ce0129f",
   "metadata": {},
   "outputs": [
    {
     "data": {
      "text/plain": [
       "FireplaceQu\n",
       "<class 'str'>      770\n",
       "<class 'float'>    690\n",
       "Name: count, dtype: int64"
      ]
     },
     "execution_count": 21,
     "metadata": {},
     "output_type": "execute_result"
    }
   ],
   "source": [
    "df['FireplaceQu'].apply(type).value_counts()"
   ]
  },
  {
   "cell_type": "code",
   "execution_count": 22,
   "id": "d4c81c1c",
   "metadata": {},
   "outputs": [],
   "source": [
    "# Imputing missing value. the null values in FireplaceQu are replaced with 'None'.\n",
    "# This is because the null values indicate that there is no fireplace in the house.\n",
    "\n",
    "df['FireplaceQu'] = df['FireplaceQu'].fillna('None')"
   ]
  },
  {
   "cell_type": "code",
   "execution_count": 23,
   "id": "6640686b",
   "metadata": {},
   "outputs": [
    {
     "data": {
      "text/plain": [
       "FireplaceQu\n",
       "<class 'str'>    1460\n",
       "Name: count, dtype: int64"
      ]
     },
     "execution_count": 23,
     "metadata": {},
     "output_type": "execute_result"
    }
   ],
   "source": [
    "df['FireplaceQu'].apply(type).value_counts()"
   ]
  },
  {
   "cell_type": "markdown",
   "id": "fe6272a1",
   "metadata": {},
   "source": [
    "### 2. LotFrontage"
   ]
  },
  {
   "cell_type": "code",
   "execution_count": 24,
   "id": "4d1d320e",
   "metadata": {},
   "outputs": [],
   "source": [
    "# Step 1: What does LotFrontage mean?\n",
    "# LotFrontage: Linear feet of street connected to property.\n",
    "# It is the length of the property that is connected to the street."
   ]
  },
  {
   "cell_type": "code",
   "execution_count": 25,
   "id": "89efad9b",
   "metadata": {},
   "outputs": [
    {
     "name": "stdout",
     "output_type": "stream",
     "text": [
      "Series([], Name: count, dtype: int64)\n"
     ]
    }
   ],
   "source": [
    "missing_LotFrontage_type = df[df['LotFrontage'].isnull()]\n",
    "print(missing_LotFrontage_type['LotFrontage'].value_counts())"
   ]
  },
  {
   "cell_type": "code",
   "execution_count": 26,
   "id": "ccdd3700",
   "metadata": {},
   "outputs": [
    {
     "data": {
      "text/plain": [
       "Neighborhood\n",
       "NAmes      39\n",
       "Gilbert    30\n",
       "NWAmes     28\n",
       "Sawyer     26\n",
       "CollgCr    24\n",
       "ClearCr    15\n",
       "Mitchel    13\n",
       "Crawfor    10\n",
       "SawyerW     9\n",
       "Edwards     8\n",
       "Timber      8\n",
       "Somerst     8\n",
       "NoRidge     8\n",
       "BrkSide     7\n",
       "StoneBr     5\n",
       "OldTown     4\n",
       "Veenker     4\n",
       "IDOTRR      3\n",
       "Blmngtn     3\n",
       "NPkVill     2\n",
       "MeadowV     2\n",
       "SWISU       2\n",
       "NridgHt     1\n",
       "Name: count, dtype: int64"
      ]
     },
     "execution_count": 26,
     "metadata": {},
     "output_type": "execute_result"
    }
   ],
   "source": [
    "#  Step 2: Check Missing Pattern — Is It Missing Randomly?\n",
    "# Count missing values per neighborhood\n",
    "df[df['LotFrontage'].isnull()]['Neighborhood'].value_counts()\n",
    "# so missing values are not random, they are concentrated in certain neighborhoods."
   ]
  },
  {
   "cell_type": "code",
   "execution_count": 27,
   "id": "c37762ee",
   "metadata": {},
   "outputs": [
    {
     "data": {
      "image/png": "[encoded data removed]",
      "text/plain": [
       "<Figure size 640x480 with 1 Axes>"
      ]
     },
     "metadata": {},
     "output_type": "display_data"
    }
   ],
   "source": [
    "sns.histplot(df['LotFrontage'], kde=True)\n",
    "plt.title('Distribution of LotFrontage')\n",
    "plt.show()\n",
    "\n",
    "# data is not normally distributed, it is skewed to the left.\n",
    "# so we can use median to fill the missing values."
   ]
  },
  {
   "cell_type": "code",
   "execution_count": 28,
   "id": "dd2c7dbe",
   "metadata": {},
   "outputs": [
    {
     "data": {
      "text/plain": [
       "<Axes: xlabel='LotFrontage', ylabel='SalePrice'>"
      ]
     },
     "execution_count": 28,
     "metadata": {},
     "output_type": "execute_result"
    },
    {
     "data": {
      "image/png": "[encoded data removed]",
      "text/plain": [
       "<Figure size 640x480 with 1 Axes>"
      ]
     },
     "metadata": {},
     "output_type": "display_data"
    }
   ],
   "source": [
    "# Step 3: Visualize Relationship with Target Variable\n",
    "sns.scatterplot(data=df, x='LotFrontage', y='SalePrice')\n",
    "\n",
    "# so LotFrontage has a limited impact on sale price beyond a certain point"
   ]
  },
  {
   "cell_type": "code",
   "execution_count": 29,
   "id": "a7710c74",
   "metadata": {},
   "outputs": [
    {
     "name": "stdout",
     "output_type": "stream",
     "text": [
      "Correlation with SalePrice: 0.351799096570678\n"
     ]
    }
   ],
   "source": [
    "# Step 4: Check Correlation \n",
    "correlation = df['LotFrontage'].corr(df['SalePrice'])\n",
    "print(f\"Correlation with SalePrice: {correlation}\")"
   ]
  },
  {
   "cell_type": "code",
   "execution_count": 30,
   "id": "5a6fdbae",
   "metadata": {},
   "outputs": [
    {
     "data": {
      "text/html": [
       "<div>\n",
       "<style scoped>\n",
       "    .dataframe tbody tr th:only-of-type {\n",
       "        vertical-align: middle;\n",
       "    }\n",
       "\n",
       "    .dataframe tbody tr th {\n",
       "        vertical-align: top;\n",
       "    }\n",
       "\n",
       "    .dataframe thead th {\n",
       "        text-align: right;\n",
       "    }\n",
       "</style>\n",
       "<table border=\"1\" class=\"dataframe\">\n",
       "  <thead>\n",
       "    <tr style=\"text-align: right;\">\n",
       "      <th></th>\n",
       "      <th>LotFrontage</th>\n",
       "      <th>LotArea</th>\n",
       "      <th>GrLivArea</th>\n",
       "      <th>SalePrice</th>\n",
       "    </tr>\n",
       "  </thead>\n",
       "  <tbody>\n",
       "    <tr>\n",
       "      <th>LotFrontage</th>\n",
       "      <td>1.000000</td>\n",
       "      <td>0.426095</td>\n",
       "      <td>0.402797</td>\n",
       "      <td>0.351799</td>\n",
       "    </tr>\n",
       "    <tr>\n",
       "      <th>LotArea</th>\n",
       "      <td>0.426095</td>\n",
       "      <td>1.000000</td>\n",
       "      <td>0.263116</td>\n",
       "      <td>0.263843</td>\n",
       "    </tr>\n",
       "    <tr>\n",
       "      <th>GrLivArea</th>\n",
       "      <td>0.402797</td>\n",
       "      <td>0.263116</td>\n",
       "      <td>1.000000</td>\n",
       "      <td>0.708624</td>\n",
       "    </tr>\n",
       "    <tr>\n",
       "      <th>SalePrice</th>\n",
       "      <td>0.351799</td>\n",
       "      <td>0.263843</td>\n",
       "      <td>0.708624</td>\n",
       "      <td>1.000000</td>\n",
       "    </tr>\n",
       "  </tbody>\n",
       "</table>\n",
       "</div>"
      ],
      "text/plain": [
       "             LotFrontage   LotArea  GrLivArea  SalePrice\n",
       "LotFrontage     1.000000  0.426095   0.402797   0.351799\n",
       "LotArea         0.426095  1.000000   0.263116   0.263843\n",
       "GrLivArea       0.402797  0.263116   1.000000   0.708624\n",
       "SalePrice       0.351799  0.263843   0.708624   1.000000"
      ]
     },
     "execution_count": 30,
     "metadata": {},
     "output_type": "execute_result"
    }
   ],
   "source": [
    "df[['LotFrontage', 'LotArea', 'GrLivArea', 'SalePrice']].corr()"
   ]
  },
  {
   "cell_type": "code",
   "execution_count": 31,
   "id": "17f4e088",
   "metadata": {},
   "outputs": [
    {
     "name": "stdout",
     "output_type": "stream",
     "text": [
      "LotFrontage: 0.1532\n",
      "LotArea: 0.1801\n",
      "GrLivArea: 0.6667\n"
     ]
    }
   ],
   "source": [
    "# Step 5: Compare Feature Importance via Model\n",
    "from sklearn.ensemble import RandomForestRegressor\n",
    "from sklearn.impute import SimpleImputer\n",
    "from sklearn.model_selection import train_test_split\n",
    "\n",
    "# Simple Imputation for missing LotFrontage (temp)\n",
    "imputer = SimpleImputer(strategy='median')\n",
    "df['LotFrontage'] = imputer.fit_transform(df[['LotFrontage']])\n",
    "\n",
    "features = ['LotFrontage', 'LotArea', 'GrLivArea']\n",
    "X = df[features]\n",
    "y = df['SalePrice']\n",
    "\n",
    "model = RandomForestRegressor()\n",
    "model.fit(X, y)\n",
    "\n",
    "importances = model.feature_importances_\n",
    "for f, imp in zip(features, importances):\n",
    "    print(f\"{f}: {imp:.4f}\")\n"
   ]
  },
  {
   "cell_type": "code",
   "execution_count": 32,
   "id": "dcdde885",
   "metadata": {},
   "outputs": [
    {
     "data": {
      "text/plain": [
       "'\\n| Reason                                          | Explanation                                  |\\n| ----------------------------------------------- | -------------------------------------------- |\\n| ✅ Feature importance is **decent**              | 15% is not negligible — it’s adding signal   |\\n| ✅ Helps with property size, street access info  | Which affects price                          |\\n| ✅ Might interact well with other features       | Especially neighborhood or building type     |\\n| ❌ Dropping it means **losing predictive power** | Even if you can’t recover all missing values |\\n'"
      ]
     },
     "execution_count": 32,
     "metadata": {},
     "output_type": "execute_result"
    }
   ],
   "source": [
    "'''\n",
    "| Reason                                          | Explanation                                  |\n",
    "| ----------------------------------------------- | -------------------------------------------- |\n",
    "| ✅ Feature importance is **decent**              | 15% is not negligible — it’s adding signal   |\n",
    "| ✅ Helps with property size, street access info  | Which affects price                          |\n",
    "| ✅ Might interact well with other features       | Especially neighborhood or building type     |\n",
    "| ❌ Dropping it means **losing predictive power** | Even if you can’t recover all missing values |\n",
    "'''"
   ]
  },
  {
   "cell_type": "markdown",
   "id": "0671f4d1",
   "metadata": {},
   "source": [
    "### 3. GarageType"
   ]
  },
  {
   "cell_type": "code",
   "execution_count": 33,
   "id": "5cbc467d",
   "metadata": {},
   "outputs": [
    {
     "data": {
      "text/plain": [
       "GarageType      5.547945\n",
       "GarageYrBlt     5.547945\n",
       "GarageCond      5.547945\n",
       "GarageQual      5.547945\n",
       "GarageFinish    5.547945\n",
       "BsmtFinType2    2.602740\n",
       "BsmtExposure    2.602740\n",
       "BsmtQual        2.534247\n",
       "BsmtFinType1    2.534247\n",
       "BsmtCond        2.534247\n",
       "MasVnrArea      0.547945\n",
       "Electrical      0.068493\n",
       "LandSlope       0.000000\n",
       "Utilities       0.000000\n",
       "LotConfig       0.000000\n",
       "LotShape        0.000000\n",
       "Street          0.000000\n",
       "dtype: float64"
      ]
     },
     "execution_count": 33,
     "metadata": {},
     "output_type": "execute_result"
    }
   ],
   "source": [
    "df.isnull().mean().sort_values(ascending=False).head(17) * 100"
   ]
  },
  {
   "cell_type": "code",
   "execution_count": 34,
   "id": "26336274",
   "metadata": {},
   "outputs": [
    {
     "data": {
      "text/plain": [
       "0       Attchd\n",
       "1       Attchd\n",
       "2       Attchd\n",
       "3       Detchd\n",
       "4       Attchd\n",
       "         ...  \n",
       "1455    Attchd\n",
       "1456    Attchd\n",
       "1457    Attchd\n",
       "1458    Attchd\n",
       "1459    Attchd\n",
       "Name: GarageType, Length: 1460, dtype: object"
      ]
     },
     "execution_count": 34,
     "metadata": {},
     "output_type": "execute_result"
    }
   ],
   "source": [
    "df['GarageType']"
   ]
  },
  {
   "cell_type": "code",
   "execution_count": 35,
   "id": "299da84b",
   "metadata": {},
   "outputs": [
    {
     "name": "stdout",
     "output_type": "stream",
     "text": [
      "GarageArea\n",
      "0    81\n",
      "Name: count, dtype: int64\n"
     ]
    }
   ],
   "source": [
    "# Check if missing GarageType correlates with GarageArea = 0\n",
    "missing_garage_type = df[df['GarageType'].isnull()]\n",
    "print(missing_garage_type['GarageArea'].value_counts())\n",
    "# If many missing GarageType rows have GarageArea = 0, it suggests MNAR (e.g., no garage)."
   ]
  },
  {
   "cell_type": "code",
   "execution_count": 36,
   "id": "50867d9e",
   "metadata": {},
   "outputs": [
    {
     "data": {
      "text/plain": [
       "0       Attchd\n",
       "1       Attchd\n",
       "2       Attchd\n",
       "3       Detchd\n",
       "4       Attchd\n",
       "         ...  \n",
       "1455    Attchd\n",
       "1456    Attchd\n",
       "1457    Attchd\n",
       "1458    Attchd\n",
       "1459    Attchd\n",
       "Name: GarageType_NoNull, Length: 1460, dtype: object"
      ]
     },
     "execution_count": 36,
     "metadata": {},
     "output_type": "execute_result"
    }
   ],
   "source": [
    "# imputing missing GarageType values, with None\n",
    "df['GarageType_NoNull'] = df['GarageType'].fillna('None')\n",
    "df['GarageType_NoNull']"
   ]
  },
  {
   "cell_type": "code",
   "execution_count": 37,
   "id": "67e2f6bb",
   "metadata": {},
   "outputs": [
    {
     "data": {
      "image/png": "[encoded data removed]",
      "text/plain": [
       "<Figure size 1000x600 with 1 Axes>"
      ]
     },
     "metadata": {},
     "output_type": "display_data"
    }
   ],
   "source": [
    "# Compare value counts for original and imputed GarageType\n",
    "original_counts = df['GarageType'].value_counts(dropna=False)\n",
    "imputed_counts = df['GarageType_NoNull'].value_counts()\n",
    "\n",
    "# Combine into a DataFrame for side-by-side comparison\n",
    "comparison = pd.DataFrame({\n",
    "    'Original': original_counts,\n",
    "    'Imputed': imputed_counts\n",
    "}).fillna(0)\n",
    "\n",
    "# Plot as bar chart\n",
    "comparison.plot(kind='bar', figsize=(10, 6))\n",
    "plt.title('GarageType: Original vs Imputed (None)')\n",
    "plt.ylabel('Count')\n",
    "plt.show()"
   ]
  },
  {
   "cell_type": "code",
   "execution_count": 38,
   "id": "81054db9",
   "metadata": {},
   "outputs": [
    {
     "data": {
      "text/plain": [
       "0       Attchd\n",
       "1       Attchd\n",
       "2       Attchd\n",
       "3       Detchd\n",
       "4       Attchd\n",
       "         ...  \n",
       "1455    Attchd\n",
       "1456    Attchd\n",
       "1457    Attchd\n",
       "1458    Attchd\n",
       "1459    Attchd\n",
       "Name: GarageType, Length: 1460, dtype: object"
      ]
     },
     "execution_count": 38,
     "metadata": {},
     "output_type": "execute_result"
    }
   ],
   "source": [
    "df['GarageType']"
   ]
  },
  {
   "cell_type": "code",
   "execution_count": 39,
   "id": "28076ebf",
   "metadata": {},
   "outputs": [],
   "source": [
    "df = df.drop(columns=['GarageType'])"
   ]
  },
  {
   "cell_type": "markdown",
   "id": "e0cce09c",
   "metadata": {},
   "source": [
    "### 4. GarageYrBlt"
   ]
  },
  {
   "cell_type": "code",
   "execution_count": 40,
   "id": "2fde6097",
   "metadata": {},
   "outputs": [
    {
     "data": {
      "text/plain": [
       "GarageFinish    5.547945\n",
       "GarageCond      5.547945\n",
       "GarageQual      5.547945\n",
       "GarageYrBlt     5.547945\n",
       "BsmtFinType2    2.602740\n",
       "BsmtExposure    2.602740\n",
       "BsmtQual        2.534247\n",
       "BsmtCond        2.534247\n",
       "BsmtFinType1    2.534247\n",
       "MasVnrArea      0.547945\n",
       "Electrical      0.068493\n",
       "LandSlope       0.000000\n",
       "LotConfig       0.000000\n",
       "Utilities       0.000000\n",
       "LandContour     0.000000\n",
       "LotShape        0.000000\n",
       "Street          0.000000\n",
       "dtype: float64"
      ]
     },
     "execution_count": 40,
     "metadata": {},
     "output_type": "execute_result"
    }
   ],
   "source": [
    "df.isnull().mean().sort_values(ascending=False).head(17) * 100"
   ]
  },
  {
   "cell_type": "code",
   "execution_count": 41,
   "id": "3590069c",
   "metadata": {},
   "outputs": [
    {
     "name": "stdout",
     "output_type": "stream",
     "text": [
      "Correlation with SalePrice: 0.48636167748786086\n"
     ]
    }
   ],
   "source": [
    "correlation = df['GarageYrBlt'].corr(df['SalePrice'])\n",
    "print(f\"Correlation with SalePrice: {correlation}\")"
   ]
  },
  {
   "cell_type": "code",
   "execution_count": 42,
   "id": "a625a892",
   "metadata": {},
   "outputs": [
    {
     "data": {
      "text/plain": [
       "0       2003.0\n",
       "1       1976.0\n",
       "2       2001.0\n",
       "3       1998.0\n",
       "4       2000.0\n",
       "         ...  \n",
       "1455    1999.0\n",
       "1456    1978.0\n",
       "1457    1941.0\n",
       "1458    1950.0\n",
       "1459    1965.0\n",
       "Name: GarageYrBlt, Length: 1460, dtype: float64"
      ]
     },
     "execution_count": 42,
     "metadata": {},
     "output_type": "execute_result"
    }
   ],
   "source": [
    "df['GarageYrBlt']"
   ]
  },
  {
   "cell_type": "code",
   "execution_count": 43,
   "id": "5a8d5e92",
   "metadata": {},
   "outputs": [
    {
     "data": {
      "image/png": "[encoded data removed]",
      "text/plain": [
       "<Figure size 640x480 with 1 Axes>"
      ]
     },
     "metadata": {},
     "output_type": "display_data"
    }
   ],
   "source": [
    "sns.histplot(df['GarageYrBlt'], kde=True)\n",
    "plt.title('Distribution of GarageYrBlt')\n",
    "plt.show()"
   ]
  },
  {
   "cell_type": "code",
   "execution_count": 44,
   "id": "4380e389",
   "metadata": {},
   "outputs": [
    {
     "data": {
      "text/plain": [
       "<Axes: xlabel='GarageYrBlt', ylabel='SalePrice'>"
      ]
     },
     "execution_count": 44,
     "metadata": {},
     "output_type": "execute_result"
    },
    {
     "data": {
      "image/png": "[encoded data removed]",
      "text/plain": [
       "<Figure size 640x480 with 1 Axes>"
      ]
     },
     "metadata": {},
     "output_type": "display_data"
    }
   ],
   "source": [
    "sns.scatterplot(data=df, x='GarageYrBlt', y='SalePrice')\n",
    "\n",
    "# so here is the thing is, the GarageYrBlt have high impact in saleprice. "
   ]
  },
  {
   "cell_type": "code",
   "execution_count": 45,
   "id": "db5463eb",
   "metadata": {},
   "outputs": [],
   "source": [
    "mode_GarageYrBlt = df['GarageYrBlt'].mode()[0] # I have to put 0 here. because mode can return multiple values.\n",
    "# So I'm using the first value of the mode.\n",
    "df['GarageYrBlt_NoNull'] = df['GarageYrBlt'].fillna(mode_GarageYrBlt)"
   ]
  },
  {
   "cell_type": "code",
   "execution_count": 46,
   "id": "ee5bbc27",
   "metadata": {},
   "outputs": [],
   "source": [
    "mean_GarageYrBlt = df['GarageYrBlt'].mean()\n",
    "df['GarageYrBlt_NoNull2'] = df['GarageYrBlt'].fillna(mean_GarageYrBlt)"
   ]
  },
  {
   "cell_type": "code",
   "execution_count": 47,
   "id": "dfced508",
   "metadata": {},
   "outputs": [
    {
     "data": {
      "image/png": "[encoded data removed]",
      "text/plain": [
       "<Figure size 1000x600 with 1 Axes>"
      ]
     },
     "metadata": {},
     "output_type": "display_data"
    }
   ],
   "source": [
    "fig = plt.figure(figsize=(10, 6))\n",
    "ax = fig.add_subplot(111)\n",
    "df['GarageYrBlt'].plot(kind = 'kde', ax=ax, label='Original', color = 'red')\n",
    "df['GarageYrBlt_NoNull'].plot(kind = 'kde', ax=ax, label='Mode Imputed', color = 'blue')\n",
    "df['GarageYrBlt_NoNull2'].plot(kind = 'kde', ax=ax, label='Mean Imputed', color = 'green')\n",
    "ax.set_title('GarageYrBlt Distribution')\n",
    "ax.legend()\n",
    "plt.show()"
   ]
  },
  {
   "cell_type": "code",
   "execution_count": 48,
   "id": "af57dc7b",
   "metadata": {},
   "outputs": [],
   "source": [
    "# so there the diffrence imputing the missing values with mode is good, but mean is not that good.\n",
    "# because the mean is affected by outliers, so it is not a good choice for this\n",
    "df = df.drop(columns=['GarageYrBlt', 'GarageYrBlt_NoNull2'])"
   ]
  },
  {
   "cell_type": "markdown",
   "id": "b4e7773a",
   "metadata": {},
   "source": [
    "### 5. GarageFinish"
   ]
  },
  {
   "cell_type": "code",
   "execution_count": 49,
   "id": "6ac04d87",
   "metadata": {},
   "outputs": [
    {
     "data": {
      "text/plain": [
       "GarageFinish    5.547945\n",
       "GarageCond      5.547945\n",
       "GarageQual      5.547945\n",
       "BsmtFinType2    2.602740\n",
       "BsmtExposure    2.602740\n",
       "BsmtFinType1    2.534247\n",
       "BsmtQual        2.534247\n",
       "BsmtCond        2.534247\n",
       "MasVnrArea      0.547945\n",
       "Electrical      0.068493\n",
       "Id              0.000000\n",
       "LandSlope       0.000000\n",
       "LotConfig       0.000000\n",
       "Utilities       0.000000\n",
       "LandContour     0.000000\n",
       "LotShape        0.000000\n",
       "Street          0.000000\n",
       "dtype: float64"
      ]
     },
     "execution_count": 49,
     "metadata": {},
     "output_type": "execute_result"
    }
   ],
   "source": [
    "df.isnull().mean().sort_values(ascending=False).head(17) * 100"
   ]
  },
  {
   "cell_type": "code",
   "execution_count": 50,
   "id": "11d7aee6",
   "metadata": {},
   "outputs": [
    {
     "data": {
      "text/plain": [
       "array(['RFn', 'Unf', 'Fin', nan], dtype=object)"
      ]
     },
     "execution_count": 50,
     "metadata": {},
     "output_type": "execute_result"
    }
   ],
   "source": [
    "df['GarageFinish'].unique()"
   ]
  },
  {
   "cell_type": "code",
   "execution_count": 51,
   "id": "ee64b57a",
   "metadata": {},
   "outputs": [
    {
     "data": {
      "text/plain": [
       "0       RFn\n",
       "1       RFn\n",
       "2       RFn\n",
       "3       Unf\n",
       "4       RFn\n",
       "       ... \n",
       "1455    RFn\n",
       "1456    Unf\n",
       "1457    RFn\n",
       "1458    Unf\n",
       "1459    Fin\n",
       "Name: GarageFinish, Length: 1460, dtype: object"
      ]
     },
     "execution_count": 51,
     "metadata": {},
     "output_type": "execute_result"
    }
   ],
   "source": [
    "df['GarageFinish'] = df['GarageFinish'].fillna('NoGarage')\n",
    "df['GarageFinish']"
   ]
  },
  {
   "cell_type": "code",
   "execution_count": 52,
   "id": "c86af726",
   "metadata": {},
   "outputs": [
    {
     "data": {
      "text/plain": [
       "array(['RFn', 'Unf', 'Fin', 'NoGarage'], dtype=object)"
      ]
     },
     "execution_count": 52,
     "metadata": {},
     "output_type": "execute_result"
    }
   ],
   "source": [
    "df['GarageFinish'].unique()"
   ]
  },
  {
   "cell_type": "markdown",
   "id": "c4567e4e",
   "metadata": {},
   "source": [
    "## 6 GarageQual"
   ]
  },
  {
   "cell_type": "code",
   "execution_count": 53,
   "id": "2c60ecb5",
   "metadata": {},
   "outputs": [
    {
     "data": {
      "text/plain": [
       "GarageQual      5.547945\n",
       "GarageCond      5.547945\n",
       "BsmtFinType2    2.602740\n",
       "BsmtExposure    2.602740\n",
       "BsmtQual        2.534247\n",
       "BsmtCond        2.534247\n",
       "BsmtFinType1    2.534247\n",
       "MasVnrArea      0.547945\n",
       "Electrical      0.068493\n",
       "MSSubClass      0.000000\n",
       "dtype: float64"
      ]
     },
     "execution_count": 53,
     "metadata": {},
     "output_type": "execute_result"
    }
   ],
   "source": [
    "df.isnull().mean().sort_values(ascending=False).head(10) * 100"
   ]
  },
  {
   "cell_type": "code",
   "execution_count": 54,
   "id": "ee4a9a67",
   "metadata": {},
   "outputs": [
    {
     "data": {
      "text/plain": [
       "array(['TA', 'Fa', 'Gd', nan, 'Ex', 'Po'], dtype=object)"
      ]
     },
     "execution_count": 54,
     "metadata": {},
     "output_type": "execute_result"
    }
   ],
   "source": [
    "df['GarageQual'].unique()"
   ]
  },
  {
   "cell_type": "code",
   "execution_count": 55,
   "id": "2e025d22",
   "metadata": {},
   "outputs": [
    {
     "data": {
      "text/plain": [
       "0       TA\n",
       "1       TA\n",
       "2       TA\n",
       "3       TA\n",
       "4       TA\n",
       "        ..\n",
       "1455    TA\n",
       "1456    TA\n",
       "1457    TA\n",
       "1458    TA\n",
       "1459    TA\n",
       "Name: GarageQual, Length: 1460, dtype: object"
      ]
     },
     "execution_count": 55,
     "metadata": {},
     "output_type": "execute_result"
    }
   ],
   "source": [
    "df['GarageQual'] = df['GarageQual'].fillna('NoGarage')\n",
    "df['GarageQual']"
   ]
  },
  {
   "cell_type": "code",
   "execution_count": 56,
   "id": "ba5c4ea3",
   "metadata": {},
   "outputs": [
    {
     "data": {
      "text/plain": [
       "array(['TA', 'Fa', 'Gd', 'NoGarage', 'Ex', 'Po'], dtype=object)"
      ]
     },
     "execution_count": 56,
     "metadata": {},
     "output_type": "execute_result"
    }
   ],
   "source": [
    "df['GarageQual'].unique()"
   ]
  },
  {
   "cell_type": "markdown",
   "id": "8f58319f",
   "metadata": {},
   "source": [
    "## 7. GarageCond      "
   ]
  },
  {
   "cell_type": "code",
   "execution_count": 57,
   "id": "7133961e",
   "metadata": {},
   "outputs": [
    {
     "data": {
      "text/plain": [
       "GarageCond      5.547945\n",
       "BsmtFinType2    2.602740\n",
       "BsmtExposure    2.602740\n",
       "BsmtQual        2.534247\n",
       "BsmtFinType1    2.534247\n",
       "BsmtCond        2.534247\n",
       "MasVnrArea      0.547945\n",
       "Electrical      0.068493\n",
       "Id              0.000000\n",
       "MSSubClass      0.000000\n",
       "dtype: float64"
      ]
     },
     "execution_count": 57,
     "metadata": {},
     "output_type": "execute_result"
    }
   ],
   "source": [
    "df.isnull().mean().sort_values(ascending=False).head(10) * 100"
   ]
  },
  {
   "cell_type": "code",
   "execution_count": 58,
   "id": "92f26ae4",
   "metadata": {},
   "outputs": [
    {
     "data": {
      "text/plain": [
       "array(['TA', 'Fa', nan, 'Gd', 'Po', 'Ex'], dtype=object)"
      ]
     },
     "execution_count": 58,
     "metadata": {},
     "output_type": "execute_result"
    }
   ],
   "source": [
    "df['GarageCond'].unique()"
   ]
  },
  {
   "cell_type": "code",
   "execution_count": 59,
   "id": "473068fd",
   "metadata": {},
   "outputs": [
    {
     "data": {
      "text/plain": [
       "0       TA\n",
       "1       TA\n",
       "2       TA\n",
       "3       TA\n",
       "4       TA\n",
       "        ..\n",
       "1455    TA\n",
       "1456    TA\n",
       "1457    TA\n",
       "1458    TA\n",
       "1459    TA\n",
       "Name: GarageCond, Length: 1460, dtype: object"
      ]
     },
     "execution_count": 59,
     "metadata": {},
     "output_type": "execute_result"
    }
   ],
   "source": [
    "df['GarageCond'] = df['GarageCond'].fillna('NoGarage')\n",
    "df['GarageCond']"
   ]
  },
  {
   "cell_type": "code",
   "execution_count": 60,
   "id": "14c0ffe4",
   "metadata": {},
   "outputs": [
    {
     "data": {
      "text/plain": [
       "array(['TA', 'Fa', 'NoGarage', 'Gd', 'Po', 'Ex'], dtype=object)"
      ]
     },
     "execution_count": 60,
     "metadata": {},
     "output_type": "execute_result"
    }
   ],
   "source": [
    "df['GarageCond'].unique()"
   ]
  },
  {
   "cell_type": "markdown",
   "id": "99479291",
   "metadata": {},
   "source": [
    "## 8. BsmtFinType2"
   ]
  },
  {
   "cell_type": "code",
   "execution_count": 61,
   "id": "a1f29fb9",
   "metadata": {},
   "outputs": [
    {
     "data": {
      "text/plain": [
       "BsmtFinType2    2.602740\n",
       "BsmtExposure    2.602740\n",
       "BsmtQual        2.534247\n",
       "BsmtCond        2.534247\n",
       "BsmtFinType1    2.534247\n",
       "MasVnrArea      0.547945\n",
       "Electrical      0.068493\n",
       "LotFrontage     0.000000\n",
       "Id              0.000000\n",
       "MSSubClass      0.000000\n",
       "dtype: float64"
      ]
     },
     "execution_count": 61,
     "metadata": {},
     "output_type": "execute_result"
    }
   ],
   "source": [
    "df.isnull().mean().sort_values(ascending=False).head(10) * 100"
   ]
  },
  {
   "cell_type": "code",
   "execution_count": 62,
   "id": "21057a1e",
   "metadata": {},
   "outputs": [
    {
     "data": {
      "text/plain": [
       "array(['Unf', 'BLQ', nan, 'ALQ', 'Rec', 'LwQ', 'GLQ'], dtype=object)"
      ]
     },
     "execution_count": 62,
     "metadata": {},
     "output_type": "execute_result"
    }
   ],
   "source": [
    "df['BsmtFinType2'].unique()"
   ]
  },
  {
   "cell_type": "code",
   "execution_count": 63,
   "id": "16d615eb",
   "metadata": {},
   "outputs": [
    {
     "data": {
      "text/plain": [
       "0       Unf\n",
       "1       Unf\n",
       "2       Unf\n",
       "3       Unf\n",
       "4       Unf\n",
       "       ... \n",
       "1455    Unf\n",
       "1456    Rec\n",
       "1457    Unf\n",
       "1458    Rec\n",
       "1459    LwQ\n",
       "Name: BsmtFinType2, Length: 1460, dtype: object"
      ]
     },
     "execution_count": 63,
     "metadata": {},
     "output_type": "execute_result"
    }
   ],
   "source": [
    "df['BsmtFinType2'] = df['BsmtFinType2'].fillna('NoBasement')\n",
    "df['BsmtFinType2']"
   ]
  },
  {
   "cell_type": "code",
   "execution_count": 64,
   "id": "1f83fe61",
   "metadata": {},
   "outputs": [
    {
     "data": {
      "text/plain": [
       "array(['Unf', 'BLQ', 'NoBasement', 'ALQ', 'Rec', 'LwQ', 'GLQ'],\n",
       "      dtype=object)"
      ]
     },
     "execution_count": 64,
     "metadata": {},
     "output_type": "execute_result"
    }
   ],
   "source": [
    "df['BsmtFinType2'].unique()"
   ]
  },
  {
   "cell_type": "markdown",
   "id": "ac2f3b7b",
   "metadata": {},
   "source": [
    "## 9. BsmtExposure "
   ]
  },
  {
   "cell_type": "code",
   "execution_count": 65,
   "id": "b5bd184c",
   "metadata": {},
   "outputs": [
    {
     "data": {
      "text/plain": [
       "BsmtExposure    2.602740\n",
       "BsmtFinType1    2.534247\n",
       "BsmtQual        2.534247\n",
       "BsmtCond        2.534247\n",
       "MasVnrArea      0.547945\n",
       "Electrical      0.068493\n",
       "LotArea         0.000000\n",
       "LotFrontage     0.000000\n",
       "Id              0.000000\n",
       "MSSubClass      0.000000\n",
       "dtype: float64"
      ]
     },
     "execution_count": 65,
     "metadata": {},
     "output_type": "execute_result"
    }
   ],
   "source": [
    "df.isnull().mean().sort_values(ascending=False).head(10) * 100"
   ]
  },
  {
   "cell_type": "code",
   "execution_count": 66,
   "id": "93f33393",
   "metadata": {},
   "outputs": [
    {
     "data": {
      "text/plain": [
       "array(['No', 'Gd', 'Mn', 'Av', nan], dtype=object)"
      ]
     },
     "execution_count": 66,
     "metadata": {},
     "output_type": "execute_result"
    }
   ],
   "source": [
    "df['BsmtExposure'].unique()"
   ]
  },
  {
   "cell_type": "code",
   "execution_count": 67,
   "id": "943b6d74",
   "metadata": {},
   "outputs": [
    {
     "data": {
      "text/plain": [
       "0       No\n",
       "1       Gd\n",
       "2       Mn\n",
       "3       No\n",
       "4       Av\n",
       "        ..\n",
       "1455    No\n",
       "1456    No\n",
       "1457    No\n",
       "1458    Mn\n",
       "1459    No\n",
       "Name: BsmtExposure, Length: 1460, dtype: object"
      ]
     },
     "execution_count": 67,
     "metadata": {},
     "output_type": "execute_result"
    }
   ],
   "source": [
    "df['BsmtExposure'] = df['BsmtExposure'].fillna('NoBasement')\n",
    "df['BsmtExposure']"
   ]
  },
  {
   "cell_type": "code",
   "execution_count": 68,
   "id": "4768cdaf",
   "metadata": {},
   "outputs": [
    {
     "data": {
      "text/plain": [
       "array(['No', 'Gd', 'Mn', 'Av', 'NoBasement'], dtype=object)"
      ]
     },
     "execution_count": 68,
     "metadata": {},
     "output_type": "execute_result"
    }
   ],
   "source": [
    "df['BsmtExposure'].unique()"
   ]
  },
  {
   "cell_type": "markdown",
   "id": "485d8a16",
   "metadata": {},
   "source": [
    "## 10. BsmtQual"
   ]
  },
  {
   "cell_type": "code",
   "execution_count": 69,
   "id": "55138345",
   "metadata": {},
   "outputs": [
    {
     "data": {
      "text/plain": [
       "BsmtQual        2.534247\n",
       "BsmtFinType1    2.534247\n",
       "BsmtCond        2.534247\n",
       "MasVnrArea      0.547945\n",
       "Electrical      0.068493\n",
       "Street          0.000000\n",
       "LotArea         0.000000\n",
       "LotFrontage     0.000000\n",
       "Id              0.000000\n",
       "dtype: float64"
      ]
     },
     "execution_count": 69,
     "metadata": {},
     "output_type": "execute_result"
    }
   ],
   "source": [
    "df.isnull().mean().sort_values(ascending=False).head(9) * 100"
   ]
  },
  {
   "cell_type": "code",
   "execution_count": 70,
   "id": "375076f5",
   "metadata": {},
   "outputs": [
    {
     "data": {
      "text/plain": [
       "array(['Gd', 'TA', 'Ex', nan, 'Fa'], dtype=object)"
      ]
     },
     "execution_count": 70,
     "metadata": {},
     "output_type": "execute_result"
    }
   ],
   "source": [
    "df['BsmtQual'].unique()"
   ]
  },
  {
   "cell_type": "code",
   "execution_count": 71,
   "id": "43544e70",
   "metadata": {},
   "outputs": [
    {
     "data": {
      "text/plain": [
       "0       Gd\n",
       "1       Gd\n",
       "2       Gd\n",
       "3       TA\n",
       "4       Gd\n",
       "        ..\n",
       "1455    Gd\n",
       "1456    Gd\n",
       "1457    TA\n",
       "1458    TA\n",
       "1459    TA\n",
       "Name: BsmtQual, Length: 1460, dtype: object"
      ]
     },
     "execution_count": 71,
     "metadata": {},
     "output_type": "execute_result"
    }
   ],
   "source": [
    "df['BsmtQual'] = df['BsmtQual'].fillna('NoBasement')\n",
    "df['BsmtQual']"
   ]
  },
  {
   "cell_type": "code",
   "execution_count": 72,
   "id": "ff1677d7",
   "metadata": {},
   "outputs": [
    {
     "data": {
      "text/plain": [
       "array(['Gd', 'TA', 'Ex', 'NoBasement', 'Fa'], dtype=object)"
      ]
     },
     "execution_count": 72,
     "metadata": {},
     "output_type": "execute_result"
    }
   ],
   "source": [
    "df['BsmtQual'].unique()"
   ]
  },
  {
   "cell_type": "markdown",
   "id": "fef73141",
   "metadata": {},
   "source": [
    "## 11. BsmtFinType1"
   ]
  },
  {
   "cell_type": "code",
   "execution_count": 73,
   "id": "adadb9e7",
   "metadata": {},
   "outputs": [
    {
     "data": {
      "text/plain": [
       "BsmtFinType1    2.534247\n",
       "BsmtCond        2.534247\n",
       "MasVnrArea      0.547945\n",
       "Electrical      0.068493\n",
       "LotArea         0.000000\n",
       "Street          0.000000\n",
       "LotShape        0.000000\n",
       "LotFrontage     0.000000\n",
       "dtype: float64"
      ]
     },
     "execution_count": 73,
     "metadata": {},
     "output_type": "execute_result"
    }
   ],
   "source": [
    "df.isnull().mean().sort_values(ascending=False).head(8) * 100"
   ]
  },
  {
   "cell_type": "code",
   "execution_count": 74,
   "id": "58df0d8d",
   "metadata": {},
   "outputs": [
    {
     "data": {
      "text/plain": [
       "array(['GLQ', 'ALQ', 'Unf', 'Rec', 'BLQ', nan, 'LwQ'], dtype=object)"
      ]
     },
     "execution_count": 74,
     "metadata": {},
     "output_type": "execute_result"
    }
   ],
   "source": [
    "df['BsmtFinType1'].unique()"
   ]
  },
  {
   "cell_type": "code",
   "execution_count": 75,
   "id": "7da61b7c",
   "metadata": {},
   "outputs": [
    {
     "data": {
      "text/plain": [
       "0       Gd\n",
       "1       Gd\n",
       "2       Gd\n",
       "3       TA\n",
       "4       Gd\n",
       "        ..\n",
       "1455    Gd\n",
       "1456    Gd\n",
       "1457    TA\n",
       "1458    TA\n",
       "1459    TA\n",
       "Name: BsmtQual, Length: 1460, dtype: object"
      ]
     },
     "execution_count": 75,
     "metadata": {},
     "output_type": "execute_result"
    }
   ],
   "source": [
    "df['BsmtFinType1'] = df['BsmtQual'].fillna('NoBasement')\n",
    "df['BsmtQual']"
   ]
  },
  {
   "cell_type": "code",
   "execution_count": 76,
   "id": "97d17c7e",
   "metadata": {},
   "outputs": [
    {
     "data": {
      "text/plain": [
       "array(['Gd', 'TA', 'Ex', 'NoBasement', 'Fa'], dtype=object)"
      ]
     },
     "execution_count": 76,
     "metadata": {},
     "output_type": "execute_result"
    }
   ],
   "source": [
    "df['BsmtFinType1'].unique()"
   ]
  },
  {
   "cell_type": "markdown",
   "id": "b165d785",
   "metadata": {},
   "source": [
    "## 12. BsmtCond"
   ]
  },
  {
   "cell_type": "code",
   "execution_count": 77,
   "id": "a32a5b4a",
   "metadata": {},
   "outputs": [
    {
     "data": {
      "text/plain": [
       "BsmtCond       2.534247\n",
       "MasVnrArea     0.547945\n",
       "Electrical     0.068493\n",
       "LotFrontage    0.000000\n",
       "LotArea        0.000000\n",
       "dtype: float64"
      ]
     },
     "execution_count": 77,
     "metadata": {},
     "output_type": "execute_result"
    }
   ],
   "source": [
    "df.isnull().mean().sort_values(ascending=False).head(5) * 100"
   ]
  },
  {
   "cell_type": "code",
   "execution_count": 78,
   "id": "c42109ae",
   "metadata": {},
   "outputs": [
    {
     "data": {
      "text/plain": [
       "array(['TA', 'Gd', nan, 'Fa', 'Po'], dtype=object)"
      ]
     },
     "execution_count": 78,
     "metadata": {},
     "output_type": "execute_result"
    }
   ],
   "source": [
    "df['BsmtCond'].unique() "
   ]
  },
  {
   "cell_type": "code",
   "execution_count": 79,
   "id": "8e931a65",
   "metadata": {},
   "outputs": [
    {
     "data": {
      "text/plain": [
       "0       TA\n",
       "1       TA\n",
       "2       TA\n",
       "3       Gd\n",
       "4       TA\n",
       "        ..\n",
       "1455    TA\n",
       "1456    TA\n",
       "1457    Gd\n",
       "1458    TA\n",
       "1459    TA\n",
       "Name: BsmtCond, Length: 1460, dtype: object"
      ]
     },
     "execution_count": 79,
     "metadata": {},
     "output_type": "execute_result"
    }
   ],
   "source": [
    "df['BsmtCond'] = df['BsmtCond'].fillna('NoBasement')\n",
    "df['BsmtCond']"
   ]
  },
  {
   "cell_type": "code",
   "execution_count": 80,
   "id": "600c609b",
   "metadata": {},
   "outputs": [
    {
     "data": {
      "text/plain": [
       "array(['TA', 'Gd', 'NoBasement', 'Fa', 'Po'], dtype=object)"
      ]
     },
     "execution_count": 80,
     "metadata": {},
     "output_type": "execute_result"
    }
   ],
   "source": [
    "df['BsmtCond'].unique() "
   ]
  },
  {
   "cell_type": "markdown",
   "id": "687d7acb",
   "metadata": {},
   "source": [
    "## 12. MasVnrArea"
   ]
  },
  {
   "cell_type": "code",
   "execution_count": 81,
   "id": "1f6401f4",
   "metadata": {},
   "outputs": [
    {
     "data": {
      "text/plain": [
       "MasVnrArea     0.547945\n",
       "Electrical     0.068493\n",
       "Id             0.000000\n",
       "LotFrontage    0.000000\n",
       "dtype: float64"
      ]
     },
     "execution_count": 81,
     "metadata": {},
     "output_type": "execute_result"
    }
   ],
   "source": [
    "df.isnull().mean().sort_values(ascending=False).head(4) * 100"
   ]
  },
  {
   "cell_type": "code",
   "execution_count": 82,
   "id": "c43de35b",
   "metadata": {},
   "outputs": [
    {
     "data": {
      "image/png": "[encoded data removed]",
      "text/plain": [
       "<Figure size 640x480 with 1 Axes>"
      ]
     },
     "metadata": {},
     "output_type": "display_data"
    }
   ],
   "source": [
    "sns.histplot(df['MasVnrArea'], kde=True)\n",
    "plt.title('Distribution of MasVnrArea')\n",
    "plt.show()"
   ]
  },
  {
   "cell_type": "code",
   "execution_count": 83,
   "id": "323dd4fa",
   "metadata": {},
   "outputs": [
    {
     "data": {
      "text/plain": [
       "<Axes: xlabel='MasVnrArea', ylabel='SalePrice'>"
      ]
     },
     "execution_count": 83,
     "metadata": {},
     "output_type": "execute_result"
    },
    {
     "data": {
      "image/png": "[encoded data removed]",
      "text/plain": [
       "<Figure size 640x480 with 1 Axes>"
      ]
     },
     "metadata": {},
     "output_type": "display_data"
    }
   ],
   "source": [
    "sns.scatterplot(data=df, x='MasVnrArea', y='SalePrice')"
   ]
  },
  {
   "cell_type": "code",
   "execution_count": 84,
   "id": "1cf1e78c",
   "metadata": {},
   "outputs": [
    {
     "data": {
      "text/plain": [
       "np.float64(0.4774930470957155)"
      ]
     },
     "execution_count": 84,
     "metadata": {},
     "output_type": "execute_result"
    }
   ],
   "source": [
    "df['MasVnrArea'].corr(df['SalePrice'])"
   ]
  },
  {
   "cell_type": "code",
   "execution_count": 85,
   "id": "5b6d831f",
   "metadata": {},
   "outputs": [],
   "source": [
    "# the data distribution is not normal, it is skewed to the left\n",
    "# so we can use mode to fill the missing values.\n",
    "\n",
    "mode_MasVnrArea = df['MasVnrArea'].mode()[0]\n",
    "df['MasVnrArea_NoNull'] = df['MasVnrArea'].fillna(mode_MasVnrArea)"
   ]
  },
  {
   "cell_type": "code",
   "execution_count": 86,
   "id": "487e85d9",
   "metadata": {},
   "outputs": [
    {
     "data": {
      "image/png": "[encoded data removed]",
      "text/plain": [
       "<Figure size 1000x600 with 1 Axes>"
      ]
     },
     "metadata": {},
     "output_type": "display_data"
    }
   ],
   "source": [
    "fig = plt.figure(figsize=(10, 6))\n",
    "ax = fig.add_subplot(111)\n",
    "df['MasVnrArea'].plot(kind = 'kde', ax=ax, label='Original', color = 'red')\n",
    "df['MasVnrArea_NoNull'].plot(kind = 'kde', ax=ax, label='Mode Imputed', color = 'blue')\n",
    "ax.set_title('MasVnrArea_NoNull Distribution')\n",
    "ax.legend()\n",
    "plt.show()"
   ]
  },
  {
   "cell_type": "code",
   "execution_count": 87,
   "id": "4e232064",
   "metadata": {},
   "outputs": [
    {
     "data": {
      "text/plain": [
       "np.int64(0)"
      ]
     },
     "execution_count": 87,
     "metadata": {},
     "output_type": "execute_result"
    }
   ],
   "source": [
    "df['MasVnrArea_NoNull'].isnull().sum()"
   ]
  },
  {
   "cell_type": "code",
   "execution_count": 88,
   "id": "377ff57e",
   "metadata": {},
   "outputs": [
    {
     "data": {
      "text/plain": [
       "np.float64(0.47261449900457386)"
      ]
     },
     "execution_count": 88,
     "metadata": {},
     "output_type": "execute_result"
    }
   ],
   "source": [
    "df['MasVnrArea_NoNull'].corr(df['SalePrice'])\n",
    "# 0.4774930470957155 this was MasVnrArea correlation with SalePrice"
   ]
  },
  {
   "cell_type": "code",
   "execution_count": 89,
   "id": "4e90903e",
   "metadata": {},
   "outputs": [],
   "source": [
    "# Dropping the original MasVnrArea column\n",
    "df = df.drop(columns='MasVnrArea')"
   ]
  },
  {
   "cell_type": "markdown",
   "id": "f9a3c4b7",
   "metadata": {},
   "source": [
    "## 13. Electrical"
   ]
  },
  {
   "cell_type": "code",
   "execution_count": 90,
   "id": "41fd116b",
   "metadata": {},
   "outputs": [
    {
     "data": {
      "text/plain": [
       "Electrical    0.068493\n",
       "MSSubClass    0.000000\n",
       "Id            0.000000\n",
       "dtype: float64"
      ]
     },
     "execution_count": 90,
     "metadata": {},
     "output_type": "execute_result"
    }
   ],
   "source": [
    "df.isnull().mean().sort_values(ascending=False).head(3) * 100"
   ]
  },
  {
   "cell_type": "code",
   "execution_count": 91,
   "id": "5d694d0f",
   "metadata": {},
   "outputs": [
    {
     "data": {
      "text/plain": [
       "array(['SBrkr', 'FuseF', 'FuseA', 'FuseP', 'Mix', nan], dtype=object)"
      ]
     },
     "execution_count": 91,
     "metadata": {},
     "output_type": "execute_result"
    }
   ],
   "source": [
    "df['Electrical'].unique()"
   ]
  },
  {
   "cell_type": "code",
   "execution_count": 92,
   "id": "3526454b",
   "metadata": {},
   "outputs": [
    {
     "name": "stdout",
     "output_type": "stream",
     "text": [
      "Electrical\n",
      "FuseA    122196.893617\n",
      "FuseF    107675.444444\n",
      "FuseP     97333.333333\n",
      "Mix       67000.000000\n",
      "SBrkr    186825.113193\n",
      "Name: SalePrice, dtype: float64\n"
     ]
    }
   ],
   "source": [
    "grouped = df.groupby('Electrical')['SalePrice'].mean()\n",
    "print(grouped)\n",
    "\n",
    "# I'm calculating the average sale price for each electrical type.\n",
    "# SO house with 'More standard electrical type has the highest average sale price.\n",
    "# so it have a relationship with SalePrice."
   ]
  },
  {
   "cell_type": "code",
   "execution_count": 93,
   "id": "fb1c5a36",
   "metadata": {},
   "outputs": [
    {
     "data": {
      "image/png": "[encoded data removed]",
      "text/plain": [
       "<Figure size 640x480 with 1 Axes>"
      ]
     },
     "metadata": {},
     "output_type": "display_data"
    }
   ],
   "source": [
    "sns.histplot(df['Electrical'], kde=True)\n",
    "plt.title(\"Distribution of Electrical\")\n",
    "plt.xlabel(\"Electrical\")\n",
    "plt.ylabel(\"Frequency\")\n",
    "plt.show()"
   ]
  },
  {
   "cell_type": "code",
   "execution_count": 94,
   "id": "a7d35291",
   "metadata": {},
   "outputs": [],
   "source": [
    "# I'm imputing the missing values with 'SBrkr' because it has the highest average sale price.\n",
    "df['Electrical'] = df['Electrical'].fillna('SBrkr')"
   ]
  },
  {
   "cell_type": "code",
   "execution_count": 95,
   "id": "d469d246",
   "metadata": {},
   "outputs": [
    {
     "data": {
      "text/plain": [
       "Id            0.0\n",
       "MSSubClass    0.0\n",
       "MSZoning      0.0\n",
       "dtype: float64"
      ]
     },
     "execution_count": 95,
     "metadata": {},
     "output_type": "execute_result"
    }
   ],
   "source": [
    "df.isnull().mean().sort_values(ascending=False).head(3) * 100"
   ]
  },
  {
   "cell_type": "code",
   "execution_count": 96,
   "id": "68d5d6f2",
   "metadata": {},
   "outputs": [
    {
     "name": "stdout",
     "output_type": "stream",
     "text": [
      "The number of columns with null values: 0\n"
     ]
    }
   ],
   "source": [
    "null_columns_count = df.isnull().any().sum()\n",
    "print(f'The number of columns with null values: {null_columns_count}')"
   ]
  },
  {
   "cell_type": "code",
   "execution_count": 97,
   "id": "b1fe19f3",
   "metadata": {},
   "outputs": [],
   "source": [
    "# so the number of columns with null values is 0. we have successfully handled all missing values."
   ]
  },
  {
   "cell_type": "markdown",
   "id": "cb293938",
   "metadata": {},
   "source": [
    "# Handling Mixed variable"
   ]
  },
  {
   "cell_type": "code",
   "execution_count": 98,
   "id": "4aa7dd21",
   "metadata": {},
   "outputs": [
    {
     "name": "stdout",
     "output_type": "stream",
     "text": [
      "Columns with mixed types:\n",
      "[]\n",
      "SUM:  0\n"
     ]
    }
   ],
   "source": [
    "# function to check for mixed types in a column\n",
    "def has_mixed_types(col):\n",
    "    return col.apply(type).nunique() > 1\n",
    "\n",
    "# Apply it to all columns\n",
    "mixed_type_columns = df.columns[df.apply(has_mixed_types)]\n",
    "\n",
    "# Print result\n",
    "print(\"Columns with mixed types:\")\n",
    "print(mixed_type_columns.tolist())\n",
    "print(\"SUM: \", len(mixed_type_columns))"
   ]
  },
  {
   "cell_type": "code",
   "execution_count": 99,
   "id": "65a3d937",
   "metadata": {},
   "outputs": [],
   "source": [
    "# so after removing the columns with mixed types, we have 0 columns with mixed types.\n",
    "# so we completed the task of handling mixed types in the dataset."
   ]
  },
  {
   "cell_type": "markdown",
   "id": "7914c8e3",
   "metadata": {},
   "source": [
    "# Handling duplicate value +\n",
    "# Inconsistence categorical labels"
   ]
  },
  {
   "cell_type": "code",
   "execution_count": 100,
   "id": "c9586925",
   "metadata": {},
   "outputs": [
    {
     "name": "stdout",
     "output_type": "stream",
     "text": [
      "Total number of duplicate rows: 0\n"
     ]
    }
   ],
   "source": [
    "id_duplicates = df['Id'].duplicated().sum()\n",
    "print(f\"Total number of duplicate rows: {id_duplicates}\")"
   ]
  },
  {
   "cell_type": "code",
   "execution_count": 101,
   "id": "2d8124d0",
   "metadata": {},
   "outputs": [
    {
     "name": "stdout",
     "output_type": "stream",
     "text": [
      "Categorical columns:\n",
      "['MSZoning', 'Street', 'LotShape', 'LandContour', 'Utilities', 'LotConfig', 'LandSlope', 'Neighborhood', 'Condition1', 'Condition2', 'BldgType', 'HouseStyle', 'RoofStyle', 'RoofMatl', 'Exterior1st', 'Exterior2nd', 'ExterQual', 'ExterCond', 'Foundation', 'BsmtQual', 'BsmtCond', 'BsmtExposure', 'BsmtFinType1', 'BsmtFinType2', 'Heating', 'HeatingQC', 'CentralAir', 'Electrical', 'KitchenQual', 'Functional', 'FireplaceQu', 'GarageFinish', 'GarageQual', 'GarageCond', 'PavedDrive', 'SaleType', 'SaleCondition', 'GarageType_NoNull']\n"
     ]
    }
   ],
   "source": [
    "# List of all Categorical columns\n",
    "categorical_columns = df.select_dtypes(include=['object']).columns.tolist()\n",
    "print(\"Categorical columns:\")\n",
    "print(categorical_columns)\n"
   ]
  },
  {
   "cell_type": "code",
   "execution_count": 102,
   "id": "9f386d9c",
   "metadata": {},
   "outputs": [
    {
     "name": "stdout",
     "output_type": "stream",
     "text": [
      "Column: MSZoning\n",
      "['RL' 'RM' 'C (all)' 'FV' 'RH']\n",
      "----------------------------------------\n",
      "Column: Street\n",
      "['Pave' 'Grvl']\n",
      "----------------------------------------\n",
      "Column: LotShape\n",
      "['Reg' 'IR1' 'IR2' 'IR3']\n",
      "----------------------------------------\n",
      "Column: LandContour\n",
      "['Lvl' 'Bnk' 'Low' 'HLS']\n",
      "----------------------------------------\n",
      "Column: Utilities\n",
      "['AllPub' 'NoSeWa']\n",
      "----------------------------------------\n",
      "Column: LotConfig\n",
      "['Inside' 'FR2' 'Corner' 'CulDSac' 'FR3']\n",
      "----------------------------------------\n",
      "Column: LandSlope\n",
      "['Gtl' 'Mod' 'Sev']\n",
      "----------------------------------------\n",
      "Column: Neighborhood\n",
      "['CollgCr' 'Veenker' 'Crawfor' 'NoRidge' 'Mitchel' 'Somerst' 'NWAmes'\n",
      " 'OldTown' 'BrkSide' 'Sawyer' 'NridgHt' 'NAmes' 'SawyerW' 'IDOTRR'\n",
      " 'MeadowV' 'Edwards' 'Timber' 'Gilbert' 'StoneBr' 'ClearCr' 'NPkVill'\n",
      " 'Blmngtn' 'BrDale' 'SWISU' 'Blueste']\n",
      "----------------------------------------\n",
      "Column: Condition1\n",
      "['Norm' 'Feedr' 'PosN' 'Artery' 'RRAe' 'RRNn' 'RRAn' 'PosA' 'RRNe']\n",
      "----------------------------------------\n",
      "Column: Condition2\n",
      "['Norm' 'Artery' 'RRNn' 'Feedr' 'PosN' 'PosA' 'RRAn' 'RRAe']\n",
      "----------------------------------------\n",
      "Column: BldgType\n",
      "['1Fam' '2fmCon' 'Duplex' 'TwnhsE' 'Twnhs']\n",
      "----------------------------------------\n",
      "Column: HouseStyle\n",
      "['2Story' '1Story' '1.5Fin' '1.5Unf' 'SFoyer' 'SLvl' '2.5Unf' '2.5Fin']\n",
      "----------------------------------------\n",
      "Column: RoofStyle\n",
      "['Gable' 'Hip' 'Gambrel' 'Mansard' 'Flat' 'Shed']\n",
      "----------------------------------------\n",
      "Column: RoofMatl\n",
      "['CompShg' 'WdShngl' 'Metal' 'WdShake' 'Membran' 'Tar&Grv' 'Roll'\n",
      " 'ClyTile']\n",
      "----------------------------------------\n",
      "Column: Exterior1st\n",
      "['VinylSd' 'MetalSd' 'Wd Sdng' 'HdBoard' 'BrkFace' 'WdShing' 'CemntBd'\n",
      " 'Plywood' 'AsbShng' 'Stucco' 'BrkComm' 'AsphShn' 'Stone' 'ImStucc'\n",
      " 'CBlock']\n",
      "----------------------------------------\n",
      "Column: Exterior2nd\n",
      "['VinylSd' 'MetalSd' 'Wd Shng' 'HdBoard' 'Plywood' 'Wd Sdng' 'CmentBd'\n",
      " 'BrkFace' 'Stucco' 'AsbShng' 'Brk Cmn' 'ImStucc' 'AsphShn' 'Stone'\n",
      " 'Other' 'CBlock']\n",
      "----------------------------------------\n",
      "Column: ExterQual\n",
      "['Gd' 'TA' 'Ex' 'Fa']\n",
      "----------------------------------------\n",
      "Column: ExterCond\n",
      "['TA' 'Gd' 'Fa' 'Po' 'Ex']\n",
      "----------------------------------------\n",
      "Column: Foundation\n",
      "['PConc' 'CBlock' 'BrkTil' 'Wood' 'Slab' 'Stone']\n",
      "----------------------------------------\n",
      "Column: BsmtQual\n",
      "['Gd' 'TA' 'Ex' 'NoBasement' 'Fa']\n",
      "----------------------------------------\n",
      "Column: BsmtCond\n",
      "['TA' 'Gd' 'NoBasement' 'Fa' 'Po']\n",
      "----------------------------------------\n",
      "Column: BsmtExposure\n",
      "['No' 'Gd' 'Mn' 'Av' 'NoBasement']\n",
      "----------------------------------------\n",
      "Column: BsmtFinType1\n",
      "['Gd' 'TA' 'Ex' 'NoBasement' 'Fa']\n",
      "----------------------------------------\n",
      "Column: BsmtFinType2\n",
      "['Unf' 'BLQ' 'NoBasement' 'ALQ' 'Rec' 'LwQ' 'GLQ']\n",
      "----------------------------------------\n",
      "Column: Heating\n",
      "['GasA' 'GasW' 'Grav' 'Wall' 'OthW' 'Floor']\n",
      "----------------------------------------\n",
      "Column: HeatingQC\n",
      "['Ex' 'Gd' 'TA' 'Fa' 'Po']\n",
      "----------------------------------------\n",
      "Column: CentralAir\n",
      "['Y' 'N']\n",
      "----------------------------------------\n",
      "Column: Electrical\n",
      "['SBrkr' 'FuseF' 'FuseA' 'FuseP' 'Mix']\n",
      "----------------------------------------\n",
      "Column: KitchenQual\n",
      "['Gd' 'TA' 'Ex' 'Fa']\n",
      "----------------------------------------\n",
      "Column: Functional\n",
      "['Typ' 'Min1' 'Maj1' 'Min2' 'Mod' 'Maj2' 'Sev']\n",
      "----------------------------------------\n",
      "Column: FireplaceQu\n",
      "['None' 'TA' 'Gd' 'Fa' 'Ex' 'Po']\n",
      "----------------------------------------\n",
      "Column: GarageFinish\n",
      "['RFn' 'Unf' 'Fin' 'NoGarage']\n",
      "----------------------------------------\n",
      "Column: GarageQual\n",
      "['TA' 'Fa' 'Gd' 'NoGarage' 'Ex' 'Po']\n",
      "----------------------------------------\n",
      "Column: GarageCond\n",
      "['TA' 'Fa' 'NoGarage' 'Gd' 'Po' 'Ex']\n",
      "----------------------------------------\n",
      "Column: PavedDrive\n",
      "['Y' 'N' 'P']\n",
      "----------------------------------------\n",
      "Column: SaleType\n",
      "['WD' 'New' 'COD' 'ConLD' 'ConLI' 'CWD' 'ConLw' 'Con' 'Oth']\n",
      "----------------------------------------\n",
      "Column: SaleCondition\n",
      "['Normal' 'Abnorml' 'Partial' 'AdjLand' 'Alloca' 'Family']\n",
      "----------------------------------------\n",
      "Column: GarageType_NoNull\n",
      "['Attchd' 'Detchd' 'BuiltIn' 'CarPort' 'None' 'Basment' '2Types']\n",
      "----------------------------------------\n"
     ]
    }
   ],
   "source": [
    "## Function to print unique values for each categorical column\n",
    "\n",
    "def print_unique_values(df, columns):\n",
    "    for col in columns:\n",
    "        print(f\"Column: {col}\")\n",
    "        print(df[col].unique())\n",
    "        print(\"-\" * 40)\n",
    "\n",
    "# Get all categorical columns\n",
    "categorical_columns = df.select_dtypes(include=['object']).columns.tolist()\n",
    "\n",
    "# Print unique values for each categorical column\n",
    "print_unique_values(df, categorical_columns)"
   ]
  },
  {
   "cell_type": "code",
   "execution_count": 103,
   "id": "8f4ce3fe",
   "metadata": {},
   "outputs": [
    {
     "data": {
      "text/plain": [
       "array(['RL', 'RM', 'C', 'FV', 'RH'], dtype=object)"
      ]
     },
     "execution_count": 103,
     "metadata": {},
     "output_type": "execute_result"
    }
   ],
   "source": [
    "# problem 1 solved\n",
    "# Handling Inconsistence categorical labels\n",
    "df['MSZoning'] = df['MSZoning'].replace('C (all)', 'C')\n",
    "df['MSZoning'].unique()"
   ]
  },
  {
   "cell_type": "code",
   "execution_count": 104,
   "id": "15d7fdce",
   "metadata": {},
   "outputs": [],
   "source": [
    "# I checked all categorical columns and there are no more inconsistencies or Dupicate values.\n",
    "# also there are no extrra spaces."
   ]
  },
  {
   "cell_type": "markdown",
   "id": "4be5fa14",
   "metadata": {},
   "source": [
    "# Outlier "
   ]
  },
  {
   "cell_type": "code",
   "execution_count": 105,
   "id": "6b21d822",
   "metadata": {},
   "outputs": [
    {
     "name": "stdout",
     "output_type": "stream",
     "text": [
      "numerical columns:\n",
      "['Id', 'MSSubClass', 'LotFrontage', 'LotArea', 'OverallQual', 'OverallCond', 'YearBuilt', 'YearRemodAdd', 'BsmtFinSF1', 'BsmtFinSF2', 'BsmtUnfSF', 'TotalBsmtSF', '1stFlrSF', '2ndFlrSF', 'LowQualFinSF', 'GrLivArea', 'BsmtFullBath', 'BsmtHalfBath', 'FullBath', 'HalfBath', 'BedroomAbvGr', 'KitchenAbvGr', 'TotRmsAbvGrd', 'Fireplaces', 'GarageCars', 'GarageArea', 'WoodDeckSF', 'OpenPorchSF', 'EnclosedPorch', '3SsnPorch', 'ScreenPorch', 'MiscVal', 'MoSold', 'YrSold', 'SalePrice', 'GarageYrBlt_NoNull', 'MasVnrArea_NoNull']\n"
     ]
    }
   ],
   "source": [
    "numerical_columns = df.select_dtypes(include=['int64', 'float64']).columns.tolist()\n",
    "print(\"numerical columns:\")\n",
    "print(numerical_columns)"
   ]
  },
  {
   "cell_type": "code",
   "execution_count": 106,
   "id": "cf8fcec1",
   "metadata": {},
   "outputs": [
    {
     "data": {
      "text/plain": [
       "\"for col in numerical_columns:\\n    plt.figure(figsize=(6, 4))\\n    sns.histplot(data=df, x=col, kde=True, color='blue')\\n    plt.title(f'Distribution of {col}')\\n    plt.xlabel(col)\\n    plt.ylabel('Frequency')\\n    plt.tight_layout()\\n    plt.show()\""
      ]
     },
     "execution_count": 106,
     "metadata": {},
     "output_type": "execute_result"
    }
   ],
   "source": [
    "'''for col in numerical_columns:\n",
    "    plt.figure(figsize=(6, 4))\n",
    "    sns.histplot(data=df, x=col, kde=True, color='blue')\n",
    "    plt.title(f'Distribution of {col}')\n",
    "    plt.xlabel(col)\n",
    "    plt.ylabel('Frequency')\n",
    "    plt.tight_layout()\n",
    "    plt.show()'''"
   ]
  },
  {
   "cell_type": "code",
   "execution_count": 107,
   "id": "708247da",
   "metadata": {},
   "outputs": [
    {
     "name": "stdout",
     "output_type": "stream",
     "text": [
      "                           Q1         Q3       IQR  Lower Bound  Upper Bound  \\\n",
      "Id                     365.75    1095.25    729.50     -728.500     2189.500   \n",
      "MSSubClass              20.00      70.00     50.00      -55.000      145.000   \n",
      "LotFrontage             60.00      79.00     19.00       31.500      107.500   \n",
      "LotArea               7553.50   11601.50   4048.00     1481.500    17673.500   \n",
      "OverallQual              5.00       7.00      2.00        2.000       10.000   \n",
      "OverallCond              5.00       6.00      1.00        3.500        7.500   \n",
      "YearBuilt             1954.00    2000.00     46.00     1885.000     2069.000   \n",
      "YearRemodAdd          1967.00    2004.00     37.00     1911.500     2059.500   \n",
      "BsmtFinSF1               0.00     712.25    712.25    -1068.375     1780.625   \n",
      "BsmtFinSF2               0.00       0.00      0.00        0.000        0.000   \n",
      "BsmtUnfSF              223.00     808.00    585.00     -654.500     1685.500   \n",
      "TotalBsmtSF            795.75    1298.25    502.50       42.000     2052.000   \n",
      "1stFlrSF               882.00    1391.25    509.25      118.125     2155.125   \n",
      "2ndFlrSF                 0.00     728.00    728.00    -1092.000     1820.000   \n",
      "LowQualFinSF             0.00       0.00      0.00        0.000        0.000   \n",
      "GrLivArea             1129.50    1776.75    647.25      158.625     2747.625   \n",
      "BsmtFullBath             0.00       1.00      1.00       -1.500        2.500   \n",
      "BsmtHalfBath             0.00       0.00      0.00        0.000        0.000   \n",
      "FullBath                 1.00       2.00      1.00       -0.500        3.500   \n",
      "HalfBath                 0.00       1.00      1.00       -1.500        2.500   \n",
      "BedroomAbvGr             2.00       3.00      1.00        0.500        4.500   \n",
      "KitchenAbvGr             1.00       1.00      0.00        1.000        1.000   \n",
      "TotRmsAbvGrd             5.00       7.00      2.00        2.000       10.000   \n",
      "Fireplaces               0.00       1.00      1.00       -1.500        2.500   \n",
      "GarageCars               1.00       2.00      1.00       -0.500        3.500   \n",
      "GarageArea             334.50     576.00    241.50      -27.750      938.250   \n",
      "WoodDeckSF               0.00     168.00    168.00     -252.000      420.000   \n",
      "OpenPorchSF              0.00      68.00     68.00     -102.000      170.000   \n",
      "EnclosedPorch            0.00       0.00      0.00        0.000        0.000   \n",
      "3SsnPorch                0.00       0.00      0.00        0.000        0.000   \n",
      "ScreenPorch              0.00       0.00      0.00        0.000        0.000   \n",
      "MiscVal                  0.00       0.00      0.00        0.000        0.000   \n",
      "MoSold                   5.00       8.00      3.00        0.500       12.500   \n",
      "YrSold                2007.00    2009.00      2.00     2004.000     2012.000   \n",
      "SalePrice           129975.00  214000.00  84025.00     3937.500   340037.500   \n",
      "GarageYrBlt_NoNull    1962.00    2003.00     41.00     1900.500     2064.500   \n",
      "MasVnrArea_NoNull        0.00     164.25    164.25     -246.375      410.625   \n",
      "\n",
      "                    Outlier Count  Outlier Percentage  skewness  \n",
      "Id                            0.0            0.000000       NaN  \n",
      "MSSubClass                  103.0            7.054795  0.569525  \n",
      "LotFrontage                 106.0            7.260274  0.847560  \n",
      "LotArea                      69.0            4.726027  3.465669  \n",
      "OverallQual                   2.0            0.136986       NaN  \n",
      "OverallCond                 125.0            8.561644 -1.134668  \n",
      "YearBuilt                     7.0            0.479452 -1.274741  \n",
      "YearRemodAdd                  0.0            0.000000       NaN  \n",
      "BsmtFinSF1                    7.0            0.479452  2.564323  \n",
      "BsmtFinSF2                  167.0           11.438356  0.994237  \n",
      "BsmtUnfSF                    29.0            1.986301  1.197419  \n",
      "TotalBsmtSF                  61.0            4.178082  1.180013  \n",
      "1stFlrSF                     20.0            1.369863  2.793118  \n",
      "2ndFlrSF                      2.0            0.136986       NaN  \n",
      "LowQualFinSF                 26.0            1.780822 -0.343270  \n",
      "GrLivArea                    31.0            2.123288  2.128549  \n",
      "BsmtFullBath                  1.0            0.068493       NaN  \n",
      "BsmtHalfBath                 82.0            5.616438  6.281944  \n",
      "FullBath                      0.0            0.000000       NaN  \n",
      "HalfBath                      0.0            0.000000       NaN  \n",
      "BedroomAbvGr                 35.0            2.397260 -1.430413  \n",
      "KitchenAbvGr                 68.0            4.657534 -3.442919  \n",
      "TotRmsAbvGrd                 30.0            2.054795  1.879481  \n",
      "Fireplaces                    5.0            0.342466  0.000000  \n",
      "GarageCars                    5.0            0.342466  0.000000  \n",
      "GarageArea                   21.0            1.438356  1.132342  \n",
      "WoodDeckSF                   32.0            2.191781  1.451151  \n",
      "OpenPorchSF                  77.0            5.273973  2.178035  \n",
      "EnclosedPorch               208.0           14.246575  0.864541  \n",
      "3SsnPorch                    24.0            1.643836  1.287078  \n",
      "ScreenPorch                 116.0            7.945205  1.186468  \n",
      "MiscVal                      52.0            3.561644  5.058396  \n",
      "MoSold                        0.0            0.000000       NaN  \n",
      "YrSold                        0.0            0.000000       NaN  \n",
      "SalePrice                    61.0            4.178082  2.062555  \n",
      "GarageYrBlt_NoNull            1.0            0.068493       NaN  \n",
      "MasVnrArea_NoNull            98.0            6.712329  1.902183  \n"
     ]
    }
   ],
   "source": [
    "# getting full information about outliers in numerical columns\n",
    "\n",
    "outlier_info = {}\n",
    "\n",
    "for col in numerical_columns:\n",
    "    Q1 = df[col].quantile(0.25)\n",
    "    Q3 = df[col].quantile(0.75)\n",
    "    IQR = Q3 - Q1\n",
    "\n",
    "    lower_bound = Q1 - 1.5 * IQR\n",
    "    upper_bound = Q3 + 1.5 * IQR\n",
    "\n",
    "    outliers = df[(df[col] < lower_bound) | (df[col] > upper_bound)]\n",
    "\n",
    "    outlier_info[col] = {\n",
    "        'Q1': Q1,\n",
    "        'Q3': Q3,\n",
    "        'IQR': IQR,\n",
    "        'Lower Bound': lower_bound,\n",
    "        'Upper Bound': upper_bound,\n",
    "        'Outlier Count': outliers.shape[0],\n",
    "        'Outlier Percentage': (outliers.shape[0] / df.shape[0]) * 100,\n",
    "        'skewness': outliers[col].skew()\n",
    "    }\n",
    "\n",
    "# To display the result\n",
    "import pandas as pd\n",
    "outlier_summary = pd.DataFrame(outlier_info).T\n",
    "print(outlier_summary)\n"
   ]
  },
  {
   "cell_type": "code",
   "execution_count": 108,
   "id": "c7375c30",
   "metadata": {},
   "outputs": [
    {
     "name": "stdout",
     "output_type": "stream",
     "text": [
      "'EnclosedPorch' has 14.25% and 208 outliers\n",
      "'BsmtFinSF2' has 11.44% and 167 outliers\n",
      "'OverallCond' has 8.56% and 125 outliers\n",
      "'ScreenPorch' has 7.95% and 116 outliers\n",
      "'LotFrontage' has 7.26% and 106 outliers\n",
      "'MSSubClass' has 7.05% and 103 outliers\n",
      "'MasVnrArea_NoNull' has 6.71% and 98 outliers\n",
      "'BsmtHalfBath' has 5.62% and 82 outliers\n",
      "'OpenPorchSF' has 5.27% and 77 outliers\n",
      "'LotArea' has 4.73% and 69 outliers\n",
      "'KitchenAbvGr' has 4.66% and 68 outliers\n",
      "'SalePrice' has 4.18% and 61 outliers\n",
      "'TotalBsmtSF' has 4.18% and 61 outliers\n",
      "'MiscVal' has 3.56% and 52 outliers\n",
      "'BedroomAbvGr' has 2.40% and 35 outliers\n",
      "'WoodDeckSF' has 2.19% and 32 outliers\n",
      "'GrLivArea' has 2.12% and 31 outliers\n",
      "'TotRmsAbvGrd' has 2.05% and 30 outliers\n",
      "'BsmtUnfSF' has 1.99% and 29 outliers\n",
      "'LowQualFinSF' has 1.78% and 26 outliers\n",
      "'3SsnPorch' has 1.64% and 24 outliers\n",
      "'GarageArea' has 1.44% and 21 outliers\n",
      "'1stFlrSF' has 1.37% and 20 outliers\n",
      "'YearBuilt' has 0.48% and 7 outliers\n",
      "'BsmtFinSF1' has 0.48% and 7 outliers\n",
      "'Fireplaces' has 0.34% and 5 outliers\n",
      "'GarageCars' has 0.34% and 5 outliers\n",
      "'2ndFlrSF' has 0.14% and 2 outliers\n",
      "'OverallQual' has 0.14% and 2 outliers\n",
      "'BsmtFullBath' has 0.07% and 1 outliers\n",
      "'GarageYrBlt_NoNull' has 0.07% and 1 outliers\n",
      "'Id' has 0.00% and 0 outliers\n",
      "'YearRemodAdd' has 0.00% and 0 outliers\n",
      "'HalfBath' has 0.00% and 0 outliers\n",
      "'FullBath' has 0.00% and 0 outliers\n",
      "'MoSold' has 0.00% and 0 outliers\n",
      "'YrSold' has 0.00% and 0 outliers\n"
     ]
    }
   ],
   "source": [
    "# decending order of outlier percentage \n",
    "# so that I can handle the most problematic columns first\n",
    "\n",
    "outlier_data = []\n",
    "\n",
    "for col in numerical_columns:\n",
    "    Q1 = df[col].quantile(0.25)\n",
    "    Q3 = df[col].quantile(0.75)\n",
    "    IQR = Q3 - Q1\n",
    "\n",
    "    lower_bound = Q1 - 1.5 * IQR\n",
    "    upper_bound = Q3 + 1.5 * IQR\n",
    "\n",
    "    outliers = df[(df[col] < lower_bound) | (df[col] > upper_bound)]\n",
    "    outliers_percentage = (outliers.shape[0] / df.shape[0]) * 100\n",
    "    shape = outliers.shape[0]\n",
    "    outlier_data.append(\n",
    "        {'Column': col, \n",
    "        'Outlier_Percentage': outliers_percentage,\n",
    "        'shape': shape\n",
    "        }\n",
    "        )\n",
    "\n",
    "# Create DataFrame and sort\n",
    "outlier_df = pd.DataFrame(outlier_data)\n",
    "outlier_df = outlier_df.sort_values('Outlier_Percentage', ascending=False)\n",
    "\n",
    "# Print results\n",
    "# Print results\n",
    "for _, row in outlier_df.iterrows():\n",
    "    print(f\"'{row['Column']}' has {row['Outlier_Percentage']:.2f}% and {row['shape']} outliers\")"
   ]
  },
  {
   "cell_type": "code",
   "execution_count": 109,
   "id": "27a7eebf",
   "metadata": {},
   "outputs": [],
   "source": [
    "# EnclosedPorch: Enclosed porch area in square feet\n",
    "# BsmtFinSF2: Type 2 finished square feet\n",
    "# OverallCond: Rates the overall condition of the house"
   ]
  },
  {
   "cell_type": "markdown",
   "id": "946a7b53",
   "metadata": {},
   "source": [
    "## 1. EnclosedPorch"
   ]
  },
  {
   "cell_type": "code",
   "execution_count": 110,
   "id": "f0840bec",
   "metadata": {},
   "outputs": [
    {
     "data": {
      "text/plain": [
       "array([  0, 272, 228, 205, 176,  87, 172, 102,  37, 144,  64, 114, 202,\n",
       "       128, 156,  44,  77, 192, 140, 180, 183,  39, 184,  40, 552,  30,\n",
       "       126,  96,  60, 150, 120, 112, 252,  52, 224, 234, 244, 268, 137,\n",
       "        24, 108, 294, 177, 218, 242,  91, 160, 130, 169, 105,  34, 248,\n",
       "       236,  32,  80, 115, 291, 116, 158, 210,  36, 200,  84, 148, 136,\n",
       "       240,  54, 100, 189, 293, 164, 216, 239,  67,  90,  56, 129,  98,\n",
       "       143,  70, 386, 154, 185, 134, 196, 264, 275, 230, 254,  68, 194,\n",
       "       318,  48,  94, 138, 226, 174,  19, 170, 220, 214, 280, 190, 330,\n",
       "       208, 145, 259,  81,  42, 123, 162, 286, 168,  20, 301, 198, 221,\n",
       "       212,  50,  99])"
      ]
     },
     "execution_count": 110,
     "metadata": {},
     "output_type": "execute_result"
    }
   ],
   "source": [
    "df['EnclosedPorch'].unique()"
   ]
  },
  {
   "cell_type": "code",
   "execution_count": 111,
   "id": "12c1c5af",
   "metadata": {},
   "outputs": [
    {
     "data": {
      "text/plain": [
       "EnclosedPorch\n",
       "0      1252\n",
       "112      15\n",
       "96        6\n",
       "144       5\n",
       "192       5\n",
       "       ... \n",
       "198       1\n",
       "221       1\n",
       "212       1\n",
       "50        1\n",
       "99        1\n",
       "Name: count, Length: 120, dtype: int64"
      ]
     },
     "execution_count": 111,
     "metadata": {},
     "output_type": "execute_result"
    }
   ],
   "source": [
    "df['EnclosedPorch'].value_counts()\n"
   ]
  },
  {
   "cell_type": "code",
   "execution_count": 112,
   "id": "4125b76b",
   "metadata": {},
   "outputs": [
    {
     "data": {
      "text/plain": [
       "Text(0.5, 1.0, 'Boxplot of EnclosedPorch')"
      ]
     },
     "execution_count": 112,
     "metadata": {},
     "output_type": "execute_result"
    },
    {
     "data": {
      "image/png": "[encoded data removed]",
      "text/plain": [
       "<Figure size 640x480 with 1 Axes>"
      ]
     },
     "metadata": {},
     "output_type": "display_data"
    }
   ],
   "source": [
    "boxplot = sns.boxplot(x=df['EnclosedPorch'])\n",
    "plt.title('Boxplot of EnclosedPorch')"
   ]
  },
  {
   "cell_type": "code",
   "execution_count": 113,
   "id": "8110fc8f",
   "metadata": {},
   "outputs": [
    {
     "data": {
      "text/plain": [
       "Text(0.5, 1.0, 'Histogram of EnclosedPorch')"
      ]
     },
     "execution_count": 113,
     "metadata": {},
     "output_type": "execute_result"
    },
    {
     "data": {
      "image/png": "[encoded data removed]",
      "text/plain": [
       "<Figure size 640x480 with 1 Axes>"
      ]
     },
     "metadata": {},
     "output_type": "display_data"
    }
   ],
   "source": [
    "histogram = sns.histplot(df['EnclosedPorch'], kde=True)\n",
    "plt.title('Histogram of EnclosedPorch')"
   ]
  },
  {
   "cell_type": "code",
   "execution_count": 114,
   "id": "561d66ac",
   "metadata": {},
   "outputs": [],
   "source": [
    "# so the thing is 0 is not an outlier, it is a valid value.\n",
    "# so I'm not going to drop it, but I will handle it in feature engineering."
   ]
  },
  {
   "cell_type": "markdown",
   "id": "658dfd23",
   "metadata": {},
   "source": [
    "## 2. BsmtFinSF2"
   ]
  },
  {
   "cell_type": "code",
   "execution_count": 115,
   "id": "30a4ebdc",
   "metadata": {},
   "outputs": [
    {
     "data": {
      "text/plain": [
       "array([   0,   32,  668,  486,   93,  491,  506,  712,  362,   41,  169,\n",
       "        869,  150,  670,   28, 1080,  181,  768,  215,  374,  208,  441,\n",
       "        184,  279,  306,  180,  580,  690,  692,  228,  125, 1063,  620,\n",
       "        175,  820, 1474,  264,  479,  147,  232,  380,  544,  294,  258,\n",
       "        121,  391,  531,  344,  539,  713,  210,  311, 1120,  165,  532,\n",
       "         96,  495,  174, 1127,  139,  202,  645,  123,  551,  219,  606,\n",
       "        612,  480,  182,  132,  336,  468,  287,   35,  499,  723,  119,\n",
       "         40,  117,  239,   80,  472,   64, 1057,  127,  630,  128,  377,\n",
       "        764,  345, 1085,  435,  823,  500,  290,  324,  634,  411,  841,\n",
       "       1061,  466,  396,  354,  149,  193,  273,  465,  400,  682,  557,\n",
       "        230,  106,  791,  240,  547,  469,  177,  108,  600,  492,  211,\n",
       "        168, 1031,  438,  375,  144,   81,  906,  608,  276,  661,   68,\n",
       "        173,  972,  105,  420,  546,  334,  352,  872,  110,  627,  163,\n",
       "       1029])"
      ]
     },
     "execution_count": 115,
     "metadata": {},
     "output_type": "execute_result"
    }
   ],
   "source": [
    "df['BsmtFinSF2'].unique()"
   ]
  },
  {
   "cell_type": "code",
   "execution_count": 116,
   "id": "b5a0928b",
   "metadata": {},
   "outputs": [
    {
     "data": {
      "text/plain": [
       "BsmtFinSF2\n",
       "0       1293\n",
       "180        5\n",
       "374        3\n",
       "93         2\n",
       "287        2\n",
       "        ... \n",
       "872        1\n",
       "110        1\n",
       "627        1\n",
       "163        1\n",
       "1029       1\n",
       "Name: count, Length: 144, dtype: int64"
      ]
     },
     "execution_count": 116,
     "metadata": {},
     "output_type": "execute_result"
    }
   ],
   "source": [
    "df['BsmtFinSF2'].value_counts()"
   ]
  },
  {
   "cell_type": "code",
   "execution_count": 117,
   "id": "9c7ff9e5",
   "metadata": {},
   "outputs": [
    {
     "data": {
      "text/plain": [
       "Text(0.5, 1.0, 'Histogram of BsmtFinSF2')"
      ]
     },
     "execution_count": 117,
     "metadata": {},
     "output_type": "execute_result"
    },
    {
     "data": {
      "image/png": "[encoded data removed]",
      "text/plain": [
       "<Figure size 640x480 with 1 Axes>"
      ]
     },
     "metadata": {},
     "output_type": "display_data"
    }
   ],
   "source": [
    "histogram = sns.histplot(df['BsmtFinSF2'], kde=True)\n",
    "plt.title('Histogram of BsmtFinSF2')"
   ]
  },
  {
   "cell_type": "code",
   "execution_count": 118,
   "id": "5a22e681",
   "metadata": {},
   "outputs": [],
   "source": [
    "# so here also 0 is not an outlier, it is a valid value.\n",
    "# so I'm not going to drop it, but I will handle it in feature engineering."
   ]
  },
  {
   "cell_type": "markdown",
   "id": "9744b180",
   "metadata": {},
   "source": [
    "## 3. OverallCond"
   ]
  },
  {
   "cell_type": "code",
   "execution_count": 119,
   "id": "b7dd505e",
   "metadata": {},
   "outputs": [
    {
     "data": {
      "text/plain": [
       "[np.int64(1),\n",
       " np.int64(2),\n",
       " np.int64(3),\n",
       " np.int64(4),\n",
       " np.int64(5),\n",
       " np.int64(6),\n",
       " np.int64(7),\n",
       " np.int64(8),\n",
       " np.int64(9)]"
      ]
     },
     "execution_count": 119,
     "metadata": {},
     "output_type": "execute_result"
    }
   ],
   "source": [
    "sorted(df['OverallCond'].unique())"
   ]
  },
  {
   "cell_type": "code",
   "execution_count": 120,
   "id": "955a6f1d",
   "metadata": {},
   "outputs": [
    {
     "data": {
      "text/plain": [
       "OverallCond\n",
       "5    821\n",
       "6    252\n",
       "7    205\n",
       "8     72\n",
       "4     57\n",
       "3     25\n",
       "9     22\n",
       "2      5\n",
       "1      1\n",
       "Name: count, dtype: int64"
      ]
     },
     "execution_count": 120,
     "metadata": {},
     "output_type": "execute_result"
    }
   ],
   "source": [
    "df['OverallCond'].value_counts()"
   ]
  },
  {
   "cell_type": "code",
   "execution_count": 121,
   "id": "6998c777",
   "metadata": {},
   "outputs": [
    {
     "data": {
      "image/png": "[encoded data removed]",
      "text/plain": [
       "<Figure size 640x480 with 1 Axes>"
      ]
     },
     "metadata": {},
     "output_type": "display_data"
    }
   ],
   "source": [
    "histogram = sns.histplot(df['OverallCond'], kde=True)"
   ]
  },
  {
   "cell_type": "code",
   "execution_count": 122,
   "id": "dedfb50d",
   "metadata": {},
   "outputs": [],
   "source": [
    "# so the dont have any outliers, they represent the overall condition of the house.\n",
    "# and there are no unwanted values.\n",
    "# so I'm not going to drop it, but I will handle it in feature engineering."
   ]
  },
  {
   "cell_type": "markdown",
   "id": "1c506f4a",
   "metadata": {},
   "source": [
    "## 4. ScreenPorch"
   ]
  },
  {
   "cell_type": "code",
   "execution_count": 123,
   "id": "075114cc",
   "metadata": {},
   "outputs": [
    {
     "data": {
      "text/plain": [
       "array([  0, 176, 198, 291, 252,  99, 184, 168, 130, 142, 192, 410, 224,\n",
       "       266, 170, 154, 153, 144, 128, 259, 160, 271, 234, 374, 185, 182,\n",
       "        90, 396, 140, 276, 180, 161, 145, 200, 122,  95, 120,  60, 126,\n",
       "       189, 260, 147, 385, 287, 156, 100, 216, 210, 197, 204, 225, 152,\n",
       "       175, 312, 222, 265, 322, 190, 233,  63,  53, 143, 273, 288, 263,\n",
       "        80, 163, 116, 480, 178, 440, 155, 220, 119, 165,  40])"
      ]
     },
     "execution_count": 123,
     "metadata": {},
     "output_type": "execute_result"
    }
   ],
   "source": [
    "df['ScreenPorch'].unique()"
   ]
  },
  {
   "cell_type": "code",
   "execution_count": 124,
   "id": "a62a84b1",
   "metadata": {},
   "outputs": [
    {
     "data": {
      "text/plain": [
       "ScreenPorch\n",
       "0      1344\n",
       "192       6\n",
       "120       5\n",
       "224       5\n",
       "189       4\n",
       "       ... \n",
       "155       1\n",
       "220       1\n",
       "119       1\n",
       "165       1\n",
       "40        1\n",
       "Name: count, Length: 76, dtype: int64"
      ]
     },
     "execution_count": 124,
     "metadata": {},
     "output_type": "execute_result"
    }
   ],
   "source": [
    "df['ScreenPorch'].value_counts()"
   ]
  },
  {
   "cell_type": "code",
   "execution_count": 125,
   "id": "a70542f6",
   "metadata": {},
   "outputs": [],
   "source": [
    "# so ScreenPorch 0 is not an outlier, it is a valid value.\n",
    "# so I'm not going to drop it, but I will handle it in feature engineering."
   ]
  },
  {
   "cell_type": "markdown",
   "id": "bfb4c8d5",
   "metadata": {},
   "source": [
    "## 5. LotFrontage\n",
    "- LotFrontage: Linear feet of street connected to property"
   ]
  },
  {
   "cell_type": "code",
   "execution_count": 126,
   "id": "e6f9753c",
   "metadata": {},
   "outputs": [
    {
     "data": {
      "text/plain": [
       "(1460, 75)"
      ]
     },
     "execution_count": 126,
     "metadata": {},
     "output_type": "execute_result"
    }
   ],
   "source": [
    "df.shape"
   ]
  },
  {
   "cell_type": "code",
   "execution_count": 127,
   "id": "29346399",
   "metadata": {},
   "outputs": [
    {
     "data": {
      "text/plain": [
       "array([ 65.,  80.,  68.,  60.,  84.,  85.,  75.,  69.,  51.,  50.,  70.,\n",
       "        91.,  72.,  66., 101.,  57.,  44., 110.,  98.,  47., 108., 112.,\n",
       "        74., 115.,  61.,  48.,  33.,  52., 100.,  24.,  89.,  63.,  76.,\n",
       "        81.,  95.,  21.,  32.,  78., 121., 122.,  40., 105.,  73.,  77.,\n",
       "        64.,  94.,  34.,  90.,  55.,  88.,  82.,  71., 120., 107.,  92.,\n",
       "       134.,  62.,  86., 141.,  97.,  54.,  41.,  79., 174.,  99.,  67.,\n",
       "        83.,  43., 103.,  93.,  30., 129., 140.,  35.,  37., 118.,  87.,\n",
       "       116., 150., 111.,  49.,  96.,  59.,  36.,  56., 102.,  58.,  38.,\n",
       "       109., 130.,  53., 137.,  45., 106., 104.,  42.,  39., 144., 114.,\n",
       "       128., 149., 313., 168., 182., 138., 160., 152., 124., 153.,  46.])"
      ]
     },
     "execution_count": 127,
     "metadata": {},
     "output_type": "execute_result"
    }
   ],
   "source": [
    "df['LotFrontage'].unique()"
   ]
  },
  {
   "cell_type": "code",
   "execution_count": 128,
   "id": "6c7a8d48",
   "metadata": {},
   "outputs": [
    {
     "data": {
      "text/plain": [
       "Text(0.5, 1.0, 'Histogram of LotFrontage')"
      ]
     },
     "execution_count": 128,
     "metadata": {},
     "output_type": "execute_result"
    },
    {
     "data": {
      "image/png": "[encoded data removed]",
      "text/plain": [
       "<Figure size 640x480 with 1 Axes>"
      ]
     },
     "metadata": {},
     "output_type": "display_data"
    }
   ],
   "source": [
    "histogram = sns.histplot(df['LotFrontage'], kde=True)\n",
    "plt.title('Histogram of LotFrontage')"
   ]
  },
  {
   "cell_type": "code",
   "execution_count": 129,
   "id": "75a0543e",
   "metadata": {},
   "outputs": [
    {
     "name": "stdout",
     "output_type": "stream",
     "text": [
      "is_outlier\n",
      "False    1436\n",
      "True       24\n",
      "Name: count, dtype: int64\n"
     ]
    }
   ],
   "source": [
    "# Define a threshold for identifying outliers\n",
    "# A common choice is 2.5 or 3 standard deviations from the mean\n",
    "\n",
    "\n",
    "# Compute mean and standard deviation of LotFrontage\n",
    "mean_val = df['LotFrontage'].mean()\n",
    "std_val = df['LotFrontage'].std()\n",
    "\n",
    "# Compute z-scores of LotFrontage\n",
    "df['z_score'] = (df['LotFrontage'] - mean_val) / std_val\n",
    "\n",
    "# I'm using 2.5 here for a more lenient threshold\n",
    "threshold = 2.5\n",
    "df['is_outlier'] = df['z_score'].abs() > threshold\n",
    "\n",
    "print(df['is_outlier'].value_counts())\n"
   ]
  },
  {
   "cell_type": "code",
   "execution_count": 130,
   "id": "6e7a285b",
   "metadata": {},
   "outputs": [],
   "source": [
    "# Parameters\n",
    "threshold = 2.5\n",
    "\n",
    "# Mean & Std\n",
    "mean_val = df['LotFrontage'].mean()\n",
    "std_val = df['LotFrontage'].std()\n",
    "\n",
    "# Limits\n",
    "upper_limit = mean_val + threshold * std_val\n",
    "lower_limit = mean_val - threshold * std_val\n",
    "\n",
    "# Cap the values\n",
    "df['LotFrontage_capped'] = np.clip(df['LotFrontage'], lower_limit, upper_limit)"
   ]
  },
  {
   "cell_type": "code",
   "execution_count": 131,
   "id": "67a42dc2",
   "metadata": {},
   "outputs": [
    {
     "data": {
      "text/plain": [
       "0       65.0\n",
       "1       80.0\n",
       "2       68.0\n",
       "3       60.0\n",
       "4       84.0\n",
       "        ... \n",
       "1455    62.0\n",
       "1456    85.0\n",
       "1457    66.0\n",
       "1458    68.0\n",
       "1459    75.0\n",
       "Name: LotFrontage_capped, Length: 1460, dtype: float64"
      ]
     },
     "execution_count": 131,
     "metadata": {},
     "output_type": "execute_result"
    }
   ],
   "source": [
    "df['LotFrontage_capped']"
   ]
  },
  {
   "cell_type": "code",
   "execution_count": 132,
   "id": "ff8bf2e0",
   "metadata": {},
   "outputs": [
    {
     "data": {
      "text/plain": [
       "(1460, 78)"
      ]
     },
     "execution_count": 132,
     "metadata": {},
     "output_type": "execute_result"
    }
   ],
   "source": [
    "df.shape"
   ]
  },
  {
   "cell_type": "code",
   "execution_count": 133,
   "id": "08c0f08a",
   "metadata": {},
   "outputs": [],
   "source": [
    "df.drop(columns=['z_score', 'is_outlier', 'LotFrontage'], inplace=True)"
   ]
  },
  {
   "cell_type": "code",
   "execution_count": 134,
   "id": "cd6fb251",
   "metadata": {},
   "outputs": [],
   "source": [
    "# do not check LotFrontage_capped z_score because it is will give false positives\n",
    "# because we capped the values, so the z_score will be 0 for all capped values"
   ]
  },
  {
   "cell_type": "code",
   "execution_count": 135,
   "id": "1229b56d",
   "metadata": {},
   "outputs": [
    {
     "data": {
      "text/plain": [
       "Text(0.5, 1.0, 'Histogram of LotFrontage')"
      ]
     },
     "execution_count": 135,
     "metadata": {},
     "output_type": "execute_result"
    },
    {
     "data": {
      "image/png": "[encoded data removed]",
      "text/plain": [
       "<Figure size 640x480 with 1 Axes>"
      ]
     },
     "metadata": {},
     "output_type": "display_data"
    }
   ],
   "source": [
    "histogram = sns.histplot(df['LotFrontage_capped'], kde=True)\n",
    "plt.title('Histogram of LotFrontage')"
   ]
  },
  {
   "cell_type": "code",
   "execution_count": 136,
   "id": "f591b01f",
   "metadata": {},
   "outputs": [],
   "source": [
    "# wow nice capping worked well, the distribution looks much better now."
   ]
  },
  {
   "cell_type": "code",
   "execution_count": 137,
   "id": "ddb44eb0",
   "metadata": {},
   "outputs": [
    {
     "data": {
      "text/plain": [
       "(1460, 75)"
      ]
     },
     "execution_count": 137,
     "metadata": {},
     "output_type": "execute_result"
    }
   ],
   "source": [
    "df.shape"
   ]
  },
  {
   "cell_type": "markdown",
   "id": "582a0344",
   "metadata": {},
   "source": [
    "## 6. MSSubClass, MasVnrArea_NoNull, BsmtHalfBath"
   ]
  },
  {
   "cell_type": "code",
   "execution_count": 138,
   "id": "91aeb6b6",
   "metadata": {},
   "outputs": [
    {
     "data": {
      "text/plain": [
       "array([ 60,  20,  70,  50, 190,  45,  90, 120,  30,  85,  80, 160,  75,\n",
       "       180,  40])"
      ]
     },
     "execution_count": 138,
     "metadata": {},
     "output_type": "execute_result"
    }
   ],
   "source": [
    "df['MSSubClass'].unique()"
   ]
  },
  {
   "cell_type": "code",
   "execution_count": 140,
   "id": "0124a829",
   "metadata": {},
   "outputs": [
    {
     "data": {
      "text/plain": [
       "array([1.960e+02, 0.000e+00, 1.620e+02, 3.500e+02, 1.860e+02, 2.400e+02,\n",
       "       2.860e+02, 3.060e+02, 2.120e+02, 1.800e+02, 3.800e+02, 2.810e+02,\n",
       "       6.400e+02, 2.000e+02, 2.460e+02, 1.320e+02, 6.500e+02, 1.010e+02,\n",
       "       4.120e+02, 2.720e+02, 4.560e+02, 1.031e+03, 1.780e+02, 5.730e+02,\n",
       "       3.440e+02, 2.870e+02, 1.670e+02, 1.115e+03, 4.000e+01, 1.040e+02,\n",
       "       5.760e+02, 4.430e+02, 4.680e+02, 6.600e+01, 2.200e+01, 2.840e+02,\n",
       "       7.600e+01, 2.030e+02, 6.800e+01, 1.830e+02, 4.800e+01, 2.800e+01,\n",
       "       3.360e+02, 6.000e+02, 7.680e+02, 4.800e+02, 2.200e+02, 1.840e+02,\n",
       "       1.129e+03, 1.160e+02, 1.350e+02, 2.660e+02, 8.500e+01, 3.090e+02,\n",
       "       1.360e+02, 2.880e+02, 7.000e+01, 3.200e+02, 5.000e+01, 1.200e+02,\n",
       "       4.360e+02, 2.520e+02, 8.400e+01, 6.640e+02, 2.260e+02, 3.000e+02,\n",
       "       6.530e+02, 1.120e+02, 4.910e+02, 2.680e+02, 7.480e+02, 9.800e+01,\n",
       "       2.750e+02, 1.380e+02, 2.050e+02, 2.620e+02, 1.280e+02, 2.600e+02,\n",
       "       1.530e+02, 6.400e+01, 3.120e+02, 1.600e+01, 9.220e+02, 1.420e+02,\n",
       "       2.900e+02, 1.270e+02, 5.060e+02, 2.970e+02, 6.040e+02, 2.540e+02,\n",
       "       3.600e+01, 1.020e+02, 4.720e+02, 4.810e+02, 1.080e+02, 3.020e+02,\n",
       "       1.720e+02, 3.990e+02, 2.700e+02, 4.600e+01, 2.100e+02, 1.740e+02,\n",
       "       3.480e+02, 3.150e+02, 2.990e+02, 3.400e+02, 1.660e+02, 7.200e+01,\n",
       "       3.100e+01, 3.400e+01, 2.380e+02, 1.600e+03, 3.650e+02, 5.600e+01,\n",
       "       1.500e+02, 2.780e+02, 2.560e+02, 2.250e+02, 3.700e+02, 3.880e+02,\n",
       "       1.750e+02, 2.960e+02, 1.460e+02, 1.130e+02, 1.760e+02, 6.160e+02,\n",
       "       3.000e+01, 1.060e+02, 8.700e+02, 3.620e+02, 5.300e+02, 5.000e+02,\n",
       "       5.100e+02, 2.470e+02, 3.050e+02, 2.550e+02, 1.250e+02, 1.000e+02,\n",
       "       4.320e+02, 1.260e+02, 4.730e+02, 7.400e+01, 1.450e+02, 2.320e+02,\n",
       "       3.760e+02, 4.200e+01, 1.610e+02, 1.100e+02, 1.800e+01, 2.240e+02,\n",
       "       2.480e+02, 8.000e+01, 3.040e+02, 2.150e+02, 7.720e+02, 4.350e+02,\n",
       "       3.780e+02, 5.620e+02, 1.680e+02, 8.900e+01, 2.850e+02, 3.600e+02,\n",
       "       9.400e+01, 3.330e+02, 9.210e+02, 7.620e+02, 5.940e+02, 2.190e+02,\n",
       "       1.880e+02, 4.790e+02, 5.840e+02, 1.820e+02, 2.500e+02, 2.920e+02,\n",
       "       2.450e+02, 2.070e+02, 8.200e+01, 9.700e+01, 3.350e+02, 2.080e+02,\n",
       "       4.200e+02, 1.700e+02, 4.590e+02, 2.800e+02, 9.900e+01, 1.920e+02,\n",
       "       2.040e+02, 2.330e+02, 1.560e+02, 4.520e+02, 5.130e+02, 2.610e+02,\n",
       "       1.640e+02, 2.590e+02, 2.090e+02, 2.630e+02, 2.160e+02, 3.510e+02,\n",
       "       6.600e+02, 3.810e+02, 5.400e+01, 5.280e+02, 2.580e+02, 4.640e+02,\n",
       "       5.700e+01, 1.470e+02, 1.170e+03, 2.930e+02, 6.300e+02, 4.660e+02,\n",
       "       1.090e+02, 4.100e+01, 1.600e+02, 2.890e+02, 6.510e+02, 1.690e+02,\n",
       "       9.500e+01, 4.420e+02, 2.020e+02, 3.380e+02, 8.940e+02, 3.280e+02,\n",
       "       6.730e+02, 6.030e+02, 1.000e+00, 3.750e+02, 9.000e+01, 3.800e+01,\n",
       "       1.570e+02, 1.100e+01, 1.400e+02, 1.300e+02, 1.480e+02, 8.600e+02,\n",
       "       4.240e+02, 1.047e+03, 2.430e+02, 8.160e+02, 3.870e+02, 2.230e+02,\n",
       "       1.580e+02, 1.370e+02, 1.150e+02, 1.890e+02, 2.740e+02, 1.170e+02,\n",
       "       6.000e+01, 1.220e+02, 9.200e+01, 4.150e+02, 7.600e+02, 2.700e+01,\n",
       "       7.500e+01, 3.610e+02, 1.050e+02, 3.420e+02, 2.980e+02, 5.410e+02,\n",
       "       2.360e+02, 1.440e+02, 4.230e+02, 4.400e+01, 1.510e+02, 9.750e+02,\n",
       "       4.500e+02, 2.300e+02, 5.710e+02, 2.400e+01, 5.300e+01, 2.060e+02,\n",
       "       1.400e+01, 3.240e+02, 2.950e+02, 3.960e+02, 6.700e+01, 1.540e+02,\n",
       "       4.250e+02, 4.500e+01, 1.378e+03, 3.370e+02, 1.490e+02, 1.430e+02,\n",
       "       5.100e+01, 1.710e+02, 2.340e+02, 6.300e+01, 7.660e+02, 3.200e+01,\n",
       "       8.100e+01, 1.630e+02, 5.540e+02, 2.180e+02, 6.320e+02, 1.140e+02,\n",
       "       5.670e+02, 3.590e+02, 4.510e+02, 6.210e+02, 7.880e+02, 8.600e+01,\n",
       "       7.960e+02, 3.910e+02, 2.280e+02, 8.800e+01, 1.650e+02, 4.280e+02,\n",
       "       4.100e+02, 5.640e+02, 3.680e+02, 3.180e+02, 5.790e+02, 6.500e+01,\n",
       "       7.050e+02, 4.080e+02, 2.440e+02, 1.230e+02, 3.660e+02, 7.310e+02,\n",
       "       4.480e+02, 2.940e+02, 3.100e+02, 2.370e+02, 4.260e+02, 9.600e+01,\n",
       "       4.380e+02, 1.940e+02, 1.190e+02])"
      ]
     },
     "execution_count": 140,
     "metadata": {},
     "output_type": "execute_result"
    }
   ],
   "source": [
    "df['MasVnrArea_NoNull'].unique()"
   ]
  },
  {
   "cell_type": "code",
   "execution_count": 139,
   "id": "c6f8634a",
   "metadata": {},
   "outputs": [
    {
     "data": {
      "text/plain": [
       "array([0, 1, 2])"
      ]
     },
     "execution_count": 139,
     "metadata": {},
     "output_type": "execute_result"
    }
   ],
   "source": [
    "df['BsmtHalfBath'].unique()"
   ]
  },
  {
   "cell_type": "markdown",
   "id": "7a365e14",
   "metadata": {},
   "source": [
    "## 7. OpenPorchSF"
   ]
  },
  {
   "cell_type": "code",
   "execution_count": 142,
   "id": "61def71e",
   "metadata": {},
   "outputs": [
    {
     "data": {
      "text/plain": [
       "array([ 61,   0,  42,  35,  84,  30,  57, 204,   4,  21,  33, 213, 112,\n",
       "       102, 154, 159, 110,  90,  56,  32,  50, 258,  54,  65,  38,  47,\n",
       "        64,  52, 138, 104,  82,  43, 146,  75,  72,  70,  49,  11,  36,\n",
       "       151,  29,  94, 101, 199,  99, 234, 162,  63,  68,  46,  45, 122,\n",
       "       184, 120,  20,  24, 130, 205, 108,  80,  66,  48,  25,  96, 111,\n",
       "       106,  40, 114,   8, 136, 132,  62, 228,  60, 238, 260,  27,  74,\n",
       "        16, 198,  26,  83,  34,  55,  22,  98, 172, 119, 208, 105, 140,\n",
       "       168,  28,  39, 148,  12,  51, 150, 117, 250,  10,  81,  44, 144,\n",
       "       175, 195, 128,  76,  17,  59, 214, 121,  53, 231, 134, 192, 123,\n",
       "        78, 187,  85, 133, 176, 113, 137, 125, 523, 100, 285,  88, 406,\n",
       "       155,  73, 182, 502, 274, 158, 142, 243, 235, 312, 124, 267, 265,\n",
       "        87, 288,  23, 152, 341, 116, 160, 174, 247, 291,  18, 170, 156,\n",
       "       166, 129, 418, 240,  77, 364, 188, 207,  67,  69, 131, 191,  41,\n",
       "       118, 252, 189, 282, 135,  95, 224, 169, 319,  58,  93, 244, 185,\n",
       "       200,  92, 180, 263, 304, 229, 103, 211, 287, 292, 241, 547,  91,\n",
       "        86, 262, 210, 141,  15, 126, 236])"
      ]
     },
     "execution_count": 142,
     "metadata": {},
     "output_type": "execute_result"
    }
   ],
   "source": [
    "df['OpenPorchSF'].unique()"
   ]
  },
  {
   "cell_type": "code",
   "execution_count": 144,
   "id": "03c5774a",
   "metadata": {},
   "outputs": [
    {
     "data": {
      "text/plain": [
       "Text(0.5, 1.0, 'Histogram of OpenPorchSF')"
      ]
     },
     "execution_count": 144,
     "metadata": {},
     "output_type": "execute_result"
    },
    {
     "data": {
      "image/png": "[encoded data removed]",
      "text/plain": [
       "<Figure size 640x480 with 1 Axes>"
      ]
     },
     "metadata": {},
     "output_type": "display_data"
    }
   ],
   "source": [
    "histogram = sns.histplot(df['OpenPorchSF'], kde=True)\n",
    "plt.title('Histogram of OpenPorchSF')"
   ]
  },
  {
   "cell_type": "code",
   "execution_count": null,
   "id": "ec8f5e96",
   "metadata": {},
   "outputs": [],
   "source": [
    "# I don't think it need to be capping"
   ]
  },
  {
   "cell_type": "markdown",
   "id": "9c6519c8",
   "metadata": {},
   "source": [
    "## 8. LotArea\n"
   ]
  },
  {
   "cell_type": "code",
   "execution_count": 145,
   "id": "3e11f7bf",
   "metadata": {},
   "outputs": [
    {
     "data": {
      "text/plain": [
       "array([ 8450,  9600, 11250, ..., 17217, 13175,  9717], shape=(1073,))"
      ]
     },
     "execution_count": 145,
     "metadata": {},
     "output_type": "execute_result"
    }
   ],
   "source": [
    "df['LotArea'].unique()"
   ]
  },
  {
   "cell_type": "code",
   "execution_count": 146,
   "id": "6bc0650d",
   "metadata": {},
   "outputs": [
    {
     "data": {
      "text/plain": [
       "Text(0.5, 1.0, 'Histogram of LotArea')"
      ]
     },
     "execution_count": 146,
     "metadata": {},
     "output_type": "execute_result"
    },
    {
     "data": {
      "image/png": "[encoded data removed]",
      "text/plain": [
       "<Figure size 640x480 with 1 Axes>"
      ]
     },
     "metadata": {},
     "output_type": "display_data"
    }
   ],
   "source": [
    "histogram = sns.histplot(df['LotArea'], kde=True)\n",
    "plt.title('Histogram of LotArea')"
   ]
  },
  {
   "cell_type": "code",
   "execution_count": 147,
   "id": "270a1d01",
   "metadata": {},
   "outputs": [
    {
     "name": "stdout",
     "output_type": "stream",
     "text": [
      "is_outlier\n",
      "False    1443\n",
      "True       17\n",
      "Name: count, dtype: int64\n"
     ]
    }
   ],
   "source": [
    "# Compute mean and standard deviation of LotFrontage\n",
    "mean_val = df['LotArea'].mean()\n",
    "std_val = df['LotArea'].std()\n",
    "\n",
    "# Compute z-scores of LotFrontage\n",
    "df['z_score'] = (df['LotArea'] - mean_val) / std_val\n",
    "\n",
    "# I'm using 2.5 here for a more lenient threshold\n",
    "threshold = 2.5\n",
    "df['is_outlier'] = df['z_score'].abs() > threshold\n",
    "\n",
    "print(df['is_outlier'].value_counts())\n"
   ]
  },
  {
   "cell_type": "code",
   "execution_count": 148,
   "id": "15dfd152",
   "metadata": {},
   "outputs": [],
   "source": [
    "# Parameters\n",
    "threshold = 2.5\n",
    "\n",
    "# Mean & Std\n",
    "mean_val = df['LotArea'].mean()\n",
    "std_val = df['LotArea'].std()\n",
    "\n",
    "# Limits\n",
    "upper_limit = mean_val + threshold * std_val\n",
    "lower_limit = mean_val - threshold * std_val\n",
    "\n",
    "# Cap the values\n",
    "df['LotArea_capped'] = np.clip(df['LotArea'], lower_limit, upper_limit)"
   ]
  },
  {
   "cell_type": "code",
   "execution_count": 149,
   "id": "dfdf85cf",
   "metadata": {},
   "outputs": [
    {
     "data": {
      "text/plain": [
       "0        8450.0\n",
       "1        9600.0\n",
       "2       11250.0\n",
       "3        9550.0\n",
       "4       14260.0\n",
       "         ...   \n",
       "1455     7917.0\n",
       "1456    13175.0\n",
       "1457     9042.0\n",
       "1458     9717.0\n",
       "1459     9937.0\n",
       "Name: LotArea_capped, Length: 1460, dtype: float64"
      ]
     },
     "execution_count": 149,
     "metadata": {},
     "output_type": "execute_result"
    }
   ],
   "source": [
    "df['LotArea_capped']"
   ]
  },
  {
   "cell_type": "code",
   "execution_count": 150,
   "id": "900a6a5e",
   "metadata": {},
   "outputs": [
    {
     "data": {
      "text/plain": [
       "(1460, 78)"
      ]
     },
     "execution_count": 150,
     "metadata": {},
     "output_type": "execute_result"
    }
   ],
   "source": [
    "df.shape"
   ]
  },
  {
   "cell_type": "code",
   "execution_count": 151,
   "id": "d5f36e22",
   "metadata": {},
   "outputs": [],
   "source": [
    "df.drop(columns=['z_score', 'is_outlier', 'LotArea'], inplace=True)"
   ]
  },
  {
   "cell_type": "code",
   "execution_count": 152,
   "id": "1e4621cf",
   "metadata": {},
   "outputs": [
    {
     "data": {
      "text/plain": [
       "(1460, 75)"
      ]
     },
     "execution_count": 152,
     "metadata": {},
     "output_type": "execute_result"
    }
   ],
   "source": [
    "df.shape"
   ]
  },
  {
   "cell_type": "code",
   "execution_count": 153,
   "id": "96d9731c",
   "metadata": {},
   "outputs": [
    {
     "data": {
      "text/plain": [
       "Text(0.5, 1.0, 'Histogram of LotArea_capped')"
      ]
     },
     "execution_count": 153,
     "metadata": {},
     "output_type": "execute_result"
    },
    {
     "data": {
      "image/png": "[encoded data removed]",
      "text/plain": [
       "<Figure size 640x480 with 1 Axes>"
      ]
     },
     "metadata": {},
     "output_type": "display_data"
    }
   ],
   "source": [
    "histogram = sns.histplot(df['LotArea_capped'], kde=True)\n",
    "plt.title('Histogram of LotArea_capped')"
   ]
  },
  {
   "cell_type": "code",
   "execution_count": null,
   "id": "fe4d5077",
   "metadata": {},
   "outputs": [],
   "source": [
    "# it looks nice"
   ]
  },
  {
   "cell_type": "markdown",
   "id": "15a71a4f",
   "metadata": {},
   "source": [
    "## 9. TotalBsmtSF"
   ]
  },
  {
   "cell_type": "code",
   "execution_count": 154,
   "id": "712d82e4",
   "metadata": {},
   "outputs": [
    {
     "data": {
      "text/plain": [
       "array([ 856, 1262,  920,  756, 1145,  796, 1686, 1107,  952,  991, 1040,\n",
       "       1175,  912, 1494, 1253,  832, 1004,    0, 1114, 1029, 1158,  637,\n",
       "       1777, 1060, 1566,  900, 1704, 1484,  520,  649, 1228, 1234, 1398,\n",
       "       1561, 1117, 1097, 1297, 1057, 1088, 1350,  840,  938, 1150, 1752,\n",
       "       1434, 1656,  736,  955,  794,  816, 1842,  384, 1425,  970,  860,\n",
       "       1410,  780,  530, 1370,  576, 1143, 1947, 1453,  747, 1304, 2223,\n",
       "        845, 1086,  462,  672, 1768,  440,  896, 1237, 1563, 1065, 1288,\n",
       "        684,  612, 1013,  990, 1235,  876, 1214,  824,  680, 1588,  960,\n",
       "        458,  950, 1610,  741, 1226, 1053,  641,  789,  793, 1844,  994,\n",
       "       1264, 1809, 1028,  729, 1092, 1125, 1673,  728,  732, 1080, 1199,\n",
       "       1362, 1078,  660, 1008,  924,  992, 1063, 1267, 1461, 1907,  928,\n",
       "        864, 1734,  910, 1490, 1728,  715,  884,  969, 1710,  825, 1602,\n",
       "       1200,  572,  774, 1392, 1232, 1572, 1541,  882, 1149,  644, 1617,\n",
       "       1582,  720, 1064, 1606, 1202, 1151, 1052, 2216,  968,  504, 1188,\n",
       "       1593,  853,  725, 1431,  855, 1726, 1360,  755, 1713, 1121, 1196,\n",
       "        617,  848, 1424, 1140, 1100, 1157, 1212,  689, 1070, 1436,  686,\n",
       "        798, 1248, 1498, 1010,  713, 2392,  630, 1203,  483, 1373, 1194,\n",
       "       1462,  894, 1414,  996, 1694,  735,  540,  626,  948, 1845, 1020,\n",
       "       1367, 1444, 1573, 1302, 1314,  975, 1604,  963, 1482,  506,  926,\n",
       "       1422,  802,  740, 1095, 1385, 1152, 1240, 1560, 2121, 1160,  807,\n",
       "       1468, 1575,  625,  858,  698, 1079,  768,  795, 1416, 1003,  702,\n",
       "       1165, 1470, 2000,  700,  319,  861, 1896,  697,  972, 2136,  716,\n",
       "       1347, 1372, 1249, 1136, 1502, 1162,  710, 1719, 1383,  844,  596,\n",
       "       1056, 3206, 1358,  943, 1499, 1922, 1536, 1208, 1215,  967,  721,\n",
       "       1684,  536,  958, 1478,  764, 1848, 1869,  616,  624,  940, 1142,\n",
       "       1062,  888,  883, 1394, 1099, 1268,  953,  744,  608,  847,  683,\n",
       "        870, 1580, 1856,  982, 1026, 1293,  939,  784, 1256,  658, 1041,\n",
       "       1682,  804,  788, 1144,  961, 1260, 1310, 1141,  806, 1281, 1034,\n",
       "       1276, 1340, 1344,  988,  651, 1518,  907,  901,  765,  799,  648,\n",
       "       3094, 1440, 1258,  915, 1517,  930,  813, 1533,  872, 1242, 1364,\n",
       "        588,  709,  560, 1375, 1277, 1626, 1488,  808,  547, 1976, 2153,\n",
       "       1705, 1833, 1792, 1216,  999, 1113, 1073,  954,  264, 1269,  190,\n",
       "       3200,  866, 1501,  777, 1218, 1368, 1084, 2006, 1244, 3138, 1379,\n",
       "       1257, 1452,  528, 2035,  611,  707,  880, 1051, 1581, 1838, 1650,\n",
       "        723,  654, 1204, 1069, 1709,  998,  993, 1374, 1389, 1163, 1122,\n",
       "       1496,  846,  372, 1164, 1050, 2042, 1868, 1437,  742,  770, 1722,\n",
       "       1814, 1430, 1058,  908,  600,  965, 1032, 1299, 1120,  936,  783,\n",
       "       1822, 1522,  980, 1116,  978, 1156,  636, 1554, 1386,  811, 1520,\n",
       "       1952, 1766,  981, 1094, 2109,  525,  776, 1486, 1629, 1138, 2077,\n",
       "       1406, 1021, 1408,  738, 1477, 2046,  923, 1291, 1195, 1190,  874,\n",
       "        551, 1419, 2444, 1210,  927, 1112, 1391, 1800,  360, 1473, 1643,\n",
       "       1324,  270,  859,  718, 1176, 1311,  971, 1742,  941, 1698, 1584,\n",
       "       1595,  868, 1153,  893, 1349, 1337, 1720, 1479, 1030, 1318, 1252,\n",
       "        983, 1860,  836, 1935, 1614,  761, 1413,  956,  712,  650,  773,\n",
       "       1926,  731, 1417, 1024,  849, 1442, 1649, 1568,  778, 1489, 2078,\n",
       "       1454, 1516, 1067, 1559, 1127, 1390, 1273,  918, 1763, 1090, 1054,\n",
       "       1039, 1148, 1002, 1638,  105,  676, 1184, 1109,  892, 2217, 1505,\n",
       "       1059,  951, 2330, 1670, 1623, 1017, 1105, 1001,  546,  480, 1134,\n",
       "       1104, 1272, 1316, 1126, 1181, 1753,  964, 1466,  925, 1905, 1500,\n",
       "        585, 1632,  819, 1616, 1161,  828,  945,  979,  561,  696, 1330,\n",
       "        817, 1098, 1428,  673, 1241,  944, 1225, 1266, 1128,  485, 1930,\n",
       "       1396,  916,  822,  750, 1700, 1007, 1187,  691, 1574, 1680, 1346,\n",
       "        985, 1657,  602, 1022, 1082,  810, 1504, 1220, 1132, 1565, 1338,\n",
       "       1654, 1620, 1055,  800, 1306, 1475, 2524, 1992, 1193,  973,  854,\n",
       "        662, 1103, 1154,  942, 1048,  727,  690, 1096, 1459, 1251, 1247,\n",
       "       1074, 1271,  290,  655, 1463, 1836,  803,  833,  408,  533, 1012,\n",
       "       1552, 1005, 1530,  974, 1567, 1006, 1042, 1298,  704,  932, 1219,\n",
       "       1296, 1198,  959, 1261, 1598, 1683,  818, 1600, 2396, 1624,  831,\n",
       "       1224,  663,  879,  815, 1630, 2158,  931, 1660,  559, 1300, 1702,\n",
       "       1075, 1361, 1106, 1476, 1689, 2076,  792, 2110, 1405, 1192,  746,\n",
       "       1986,  841, 2002, 1332,  935, 1019,  661, 1309, 1328, 1085, 6110,\n",
       "       1246,  771,  976, 1652, 1278, 1902, 1274, 1393, 1622, 1352,  420,\n",
       "       1795,  544, 1510,  911,  693, 1284, 1732, 2033,  570, 1980,  814,\n",
       "        873,  757, 1108, 2633, 1571,  984, 1205,  714, 1746, 1525,  482,\n",
       "       1356,  862,  839, 1286, 1485, 1594,  622,  791,  708, 1223,  913,\n",
       "        656, 1319, 1932,  539, 1221, 1542])"
      ]
     },
     "execution_count": 154,
     "metadata": {},
     "output_type": "execute_result"
    }
   ],
   "source": [
    "df['TotalBsmtSF'].unique()"
   ]
  },
  {
   "cell_type": "code",
   "execution_count": 155,
   "id": "bf9964ef",
   "metadata": {},
   "outputs": [
    {
     "data": {
      "text/plain": [
       "Text(0.5, 1.0, 'Histogram of TotalBsmtSF')"
      ]
     },
     "execution_count": 155,
     "metadata": {},
     "output_type": "execute_result"
    },
    {
     "data": {
      "image/png": "[encoded data removed]",
      "text/plain": [
       "<Figure size 640x480 with 1 Axes>"
      ]
     },
     "metadata": {},
     "output_type": "display_data"
    }
   ],
   "source": [
    "histogram = sns.histplot(df['TotalBsmtSF'], kde=True)\n",
    "plt.title('Histogram of TotalBsmtSF')"
   ]
  },
  {
   "cell_type": "code",
   "execution_count": 156,
   "id": "70e59f84",
   "metadata": {},
   "outputs": [
    {
     "name": "stdout",
     "output_type": "stream",
     "text": [
      "is_outlier\n",
      "False    1445\n",
      "True       15\n",
      "Name: count, dtype: int64\n"
     ]
    }
   ],
   "source": [
    "# Compute mean and standard deviation of LotFrontage\n",
    "mean_val = df['TotalBsmtSF'].mean()\n",
    "std_val = df['TotalBsmtSF'].std()\n",
    "\n",
    "# Compute z-scores of LotFrontage\n",
    "df['z_score'] = (df['TotalBsmtSF'] - mean_val) / std_val\n",
    "\n",
    "# I'm using 2.5 here for a more lenient threshold\n",
    "threshold = 2.5\n",
    "df['is_outlier'] = df['z_score'].abs() > threshold\n",
    "\n",
    "print(df['is_outlier'].value_counts())"
   ]
  },
  {
   "cell_type": "code",
   "execution_count": 157,
   "id": "377a1375",
   "metadata": {},
   "outputs": [],
   "source": [
    "# Parameters\n",
    "threshold = 2.5\n",
    "\n",
    "# Mean & Std\n",
    "mean_val = df['TotalBsmtSF'].mean()\n",
    "std_val = df['TotalBsmtSF'].std()\n",
    "\n",
    "# Limits\n",
    "upper_limit = mean_val + threshold * std_val\n",
    "lower_limit = mean_val - threshold * std_val\n",
    "\n",
    "# Cap the values\n",
    "df['TotalBsmtSF_capped'] = np.clip(df['TotalBsmtSF'], lower_limit, upper_limit)"
   ]
  },
  {
   "cell_type": "code",
   "execution_count": 158,
   "id": "138408ef",
   "metadata": {},
   "outputs": [
    {
     "data": {
      "text/plain": [
       "Text(0.5, 1.0, 'Histogram of TotalBsmtSF_capped')"
      ]
     },
     "execution_count": 158,
     "metadata": {},
     "output_type": "execute_result"
    },
    {
     "data": {
      "image/png": "[encoded data removed]",
      "text/plain": [
       "<Figure size 640x480 with 1 Axes>"
      ]
     },
     "metadata": {},
     "output_type": "display_data"
    }
   ],
   "source": [
    "histogram = sns.histplot(df['TotalBsmtSF_capped'], kde=True)\n",
    "plt.title('Histogram of TotalBsmtSF_capped')"
   ]
  },
  {
   "cell_type": "code",
   "execution_count": 159,
   "id": "c9ff73ea",
   "metadata": {},
   "outputs": [],
   "source": [
    "df.drop(columns=['z_score', 'is_outlier', 'TotalBsmtSF'], inplace=True)"
   ]
  },
  {
   "cell_type": "code",
   "execution_count": 160,
   "id": "17f33c73",
   "metadata": {},
   "outputs": [
    {
     "data": {
      "text/plain": [
       "(1460, 75)"
      ]
     },
     "execution_count": 160,
     "metadata": {},
     "output_type": "execute_result"
    }
   ],
   "source": [
    "df.shape"
   ]
  }
 ],
 "metadata": {
  "kernelspec": {
   "display_name": "Python 3",
   "language": "python",
   "name": "python3"
  },
  "language_info": {
   "codemirror_mode": {
    "name": "ipython",
    "version": 3
   },
   "file_extension": ".py",
   "mimetype": "text/x-python",
   "name": "python",
   "nbconvert_exporter": "python",
   "pygments_lexer": "ipython3",
   "version": "3.13.3"
  }
 },
 "nbformat": 4,
 "nbformat_minor": 5
}
